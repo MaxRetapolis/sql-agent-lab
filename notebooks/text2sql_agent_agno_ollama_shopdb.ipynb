{
 "cells": [
  {
   "cell_type": "code",
   "execution_count": 1,
   "metadata": {},
   "outputs": [],
   "source": [
    "import getpass\n",
    "import os\n",
    "import time\n",
    "from dotenv import load_dotenv\n",
    "\n",
    "# Load the .env file\n",
    "_ = load_dotenv()"
   ]
  },
  {
   "cell_type": "markdown",
   "metadata": {},
   "source": [
    "### Model"
   ]
  },
  {
   "cell_type": "code",
   "execution_count": 2,
   "metadata": {},
   "outputs": [],
   "source": [
    "from agno.models.ollama import Ollama\n",
    "\n",
    "sql_ollama_model=Ollama(id=\"qwen2.5-coder:7b\")"
   ]
  },
  {
   "cell_type": "markdown",
   "metadata": {},
   "source": [
    "### Text 2 sql agent"
   ]
  },
  {
   "cell_type": "code",
   "execution_count": 3,
   "metadata": {},
   "outputs": [],
   "source": [
    "from agno.agent import Agent\n",
    "\n",
    "instructions=\"\"\"\n",
    "You are an expert in SQL. You can create sql queries from natural language following these schemas:\n",
    "\n",
    "CREATE TABLE IF NOT EXISTS Customers(\n",
    "        CustomerID INTEGER PRIMARY KEY AUTOINCREMENT,\n",
    "        FirstName TEXT NOT NULL,\n",
    "        LastName TEXT NOT NULL,\n",
    "        Email TEXT UNIQUE NOT NULL,\n",
    "        Phone TEXT,\n",
    "        Address TEXT\n",
    ");\n",
    "\n",
    "-- Create Products table\n",
    "CREATE TABLE IF NOT EXISTS Products (\n",
    "        ProductID INTEGER PRIMARY KEY AUTOINCREMENT,\n",
    "        Name TEXT NOT NULL,\n",
    "        Description TEXT,\n",
    "        Price REAL NOT NULL,\n",
    "        StockQuantity INTEGER NOT NULL,\n",
    "        Category TEXT NOT NULL\n",
    "    );\n",
    "\n",
    "\n",
    "-- Create Orders table\n",
    "CREATE TABLE IF NOT EXISTS Orders (\n",
    "        OrderID INTEGER PRIMARY KEY AUTOINCREMENT,\n",
    "        CustomerID INTEGER NOT NULL,\n",
    "        OrderDate DATE NOT NULL,\n",
    "        TotalAmount REAL NOT NULL,\n",
    "        FOREIGN KEY (CustomerID) REFERENCES Customers(CustomerID)\n",
    "    );\n",
    "\n",
    "-- Create OrderDetails table\n",
    "CREATE TABLE IF NOT EXISTS OrderDetails (\n",
    "        OrderDetailID INTEGER PRIMARY KEY AUTOINCREMENT,\n",
    "        OrderID INTEGER NOT NULL,\n",
    "        ProductID INTEGER NOT NULL,\n",
    "        Quantity INTEGER NOT NULL,\n",
    "        Subtotal REAL NOT NULL,\n",
    "        FOREIGN KEY (OrderID) REFERENCES Orders(OrderID),\n",
    "        FOREIGN KEY (ProductID) REFERENCES Products(ProductID)\n",
    "    );\n",
    "\n",
    "Return only the sql query. Don't explain the query and don't put the sql query in ```sql\\n```.\n",
    "\"\"\"\n",
    "text2sql_agent = Agent(model=sql_ollama_model, name=\"text2sql\", instructions=instructions, show_tool_calls=True)"
   ]
  },
  {
   "cell_type": "markdown",
   "metadata": {},
   "source": [
    "### Tests"
   ]
  },
  {
   "cell_type": "code",
   "execution_count": 4,
   "metadata": {},
   "outputs": [],
   "source": [
    "def write_sql_query(query:str):\n",
    "    \"\"\" Function to write sql query \"\"\"\n",
    "    start_time = time.perf_counter()\n",
    "\n",
    "    response = text2sql_agent.run(query)\n",
    "\n",
    "    end_time = time.perf_counter()\n",
    "    \n",
    "    latency = end_time - start_time\n",
    "    \n",
    "    print(f\"Execution time: {latency} seconds\")\n",
    "    answer = response.content\n",
    "    \n",
    "    return answer\n",
    "    "
   ]
  },
  {
   "cell_type": "code",
   "execution_count": 5,
   "metadata": {},
   "outputs": [
    {
     "name": "stdout",
     "output_type": "stream",
     "text": [
      "Execution time: 109.26334430000861 seconds\n"
     ]
    },
    {
     "data": {
      "text/plain": [
       "'SELECT * FROM Customers;'"
      ]
     },
     "execution_count": 5,
     "metadata": {},
     "output_type": "execute_result"
    }
   ],
   "source": [
    "query = \"¿Cuáles son los detalles de todos los clientes?\"\n",
    "write_sql_query(query) #SELECT * FROM Customers;"
   ]
  },
  {
   "cell_type": "code",
   "execution_count": 6,
   "metadata": {},
   "outputs": [
    {
     "name": "stdout",
     "output_type": "stream",
     "text": [
      "Execution time: 6.971404300013091 seconds\n"
     ]
    },
    {
     "data": {
      "text/plain": [
       "\"SELECT Name FROM Products WHERE Category = 'Women'\""
      ]
     },
     "execution_count": 6,
     "metadata": {},
     "output_type": "execute_result"
    }
   ],
   "source": [
    "query = \"¿Cuáles son los productos disponibles en la categoría 'Women'?\"\n",
    "write_sql_query(query)#\"SELECT * FROM Products WHERE Category = 'Women';\","
   ]
  },
  {
   "cell_type": "code",
   "execution_count": 7,
   "metadata": {},
   "outputs": [
    {
     "name": "stdout",
     "output_type": "stream",
     "text": [
      "Execution time: 11.981810800003586 seconds\n"
     ]
    },
    {
     "data": {
      "text/plain": [
       "'SELECT SUM(TotalAmount) FROM Orders WHERE CustomerID = 5'"
      ]
     },
     "execution_count": 7,
     "metadata": {},
     "output_type": "execute_result"
    }
   ],
   "source": [
    "query = \"¿Cuál es el precio total de todos los pedidos realizados por un cliente específico con ID 5?\"\n",
    "write_sql_query(query)#\"SELECT SUM(TotalAmount) FROM Orders WHERE CustomerID = 5;\","
   ]
  },
  {
   "cell_type": "code",
   "execution_count": 8,
   "metadata": {},
   "outputs": [
    {
     "name": "stdout",
     "output_type": "stream",
     "text": [
      "Execution time: 10.258081999985734 seconds\n"
     ]
    },
    {
     "data": {
      "text/plain": [
       "'SELECT COUNT(*) FROM Products WHERE StockQuantity > 20'"
      ]
     },
     "execution_count": 8,
     "metadata": {},
     "output_type": "execute_result"
    }
   ],
   "source": [
    "query = \"¿Cuántos productos están en stock con una cantidad mayor a 20 unidades?\"\n",
    "write_sql_query(query)#\"SELECT * FROM Products WHERE StockQuantity > 20;\""
   ]
  },
  {
   "cell_type": "code",
   "execution_count": 9,
   "metadata": {},
   "outputs": [
    {
     "name": "stdout",
     "output_type": "stream",
     "text": [
      "Execution time: 14.596958100009942 seconds\n"
     ]
    },
    {
     "data": {
      "text/plain": [
       "'SELECT P.ProductID, P.Name FROM Products AS P JOIN OrderDetails AS OD ON P.ProductID = OD.ProductID WHERE OD.OrderID = 3;'"
      ]
     },
     "execution_count": 9,
     "metadata": {},
     "output_type": "execute_result"
    }
   ],
   "source": [
    "query = \"¿Qué productos han sido comprados en el pedido con ID 3?\"\n",
    "write_sql_query(query)#\"SELECT p.Name, od.Quantity, od.Subtotal FROM OrderDetails od INNER JOIN Products p ON od.ProductID = p.ProductID WHERE od.OrderID = 3;\","
   ]
  },
  {
   "cell_type": "markdown",
   "metadata": {},
   "source": [
    "### Benchmark"
   ]
  },
  {
   "cell_type": "code",
   "execution_count": 10,
   "metadata": {},
   "outputs": [],
   "source": [
    "import json\n",
    "import glob\n",
    "\n",
    "def load_benchmark(benchmark_path):\n",
    "    \"\"\" This function loads the benchmark dataset\"\"\"\n",
    "    questions = []\n",
    "    expected_sql = []\n",
    "    with open(benchmark_path, 'r', encoding='utf-8') as f:\n",
    "        try:\n",
    "            datos = json.load(f)\n",
    "            questions.extend(datos.keys())\n",
    "            expected_sql.extend(datos.values())\n",
    "        except Exception as e:\n",
    "            print(f,e)\n",
    "    return questions, expected_sql\n",
    "\n",
    "questions , expected_sql = load_benchmark(\"../tests/dataset_shop_queries.json\")"
   ]
  },
  {
   "cell_type": "code",
   "execution_count": 11,
   "metadata": {},
   "outputs": [
    {
     "data": {
      "text/plain": [
       "['¿Cuáles son los detalles de todos los clientes?',\n",
       " \"¿Cuáles son los productos disponibles en la categoría 'Women'?\",\n",
       " '¿Cuál es el precio total de todos los pedidos realizados por un cliente específico con ID 5?',\n",
       " '¿Cuántos productos están en stock con una cantidad mayor a 20 unidades?',\n",
       " '¿Qué productos han sido comprados en el pedido con ID 3?',\n",
       " \"¿Cuál es el nombre y apellido del cliente que tiene el correo electrónico 'juan.perez@email.com'?\",\n",
       " '¿Qué pedidos fueron realizados el 14 de febrero de 2025?',\n",
       " '¿Cuántos productos en total fueron comprados en el pedido con ID 1?',\n",
       " '¿Qué productos tienen un precio superior a 120?',\n",
       " '¿Cuáles son los detalles de los pedidos y sus productos asociados para el cliente con ID 2?']"
      ]
     },
     "execution_count": 11,
     "metadata": {},
     "output_type": "execute_result"
    }
   ],
   "source": [
    "questions"
   ]
  },
  {
   "cell_type": "code",
   "execution_count": 12,
   "metadata": {},
   "outputs": [
    {
     "data": {
      "text/plain": [
       "['SELECT * FROM Customers;',\n",
       " \"SELECT * FROM Products WHERE Category = 'Women';\",\n",
       " 'SELECT SUM(TotalAmount) FROM Orders WHERE CustomerID = 5;',\n",
       " 'SELECT * FROM Products WHERE StockQuantity > 20;',\n",
       " 'SELECT p.Name, od.Quantity, od.Subtotal FROM OrderDetails od INNER JOIN Products p ON od.ProductID = p.ProductID WHERE od.OrderID = 3;',\n",
       " \"SELECT FirstName, LastName FROM Customers WHERE Email = 'juan.perez@email.com';\",\n",
       " \"SELECT * FROM Orders WHERE OrderDate = '2025-02-14';\",\n",
       " 'SELECT SUM(Quantity) FROM OrderDetails WHERE OrderID = 1;',\n",
       " 'SELECT * FROM Products WHERE Price > 120;',\n",
       " 'SELECT o.OrderID, o.OrderDate, p.Name, od.Quantity, od.Subtotal FROM Orders o INNER JOIN OrderDetails od ON o.OrderID = od.OrderID INNER JOIN Products p ON od.ProductID = p.ProductID WHERE o.CustomerID = 2;']"
      ]
     },
     "execution_count": 12,
     "metadata": {},
     "output_type": "execute_result"
    }
   ],
   "source": [
    "expected_sql"
   ]
  },
  {
   "cell_type": "code",
   "execution_count": 13,
   "metadata": {},
   "outputs": [],
   "source": [
    "import pandas as pd\n",
    "import time\n",
    "\n",
    "def eval_benchmark(benchmark_path:str)->pd.DataFrame:\n",
    "\t\"\"\" This function evaluates the benchmark dataset\"\"\"\n",
    "\n",
    "\t# Load the benchmark dataset\n",
    "\tquestions , expected_sql = load_benchmark(benchmark_path)\n",
    "\t# Create a dataframe to store the results\n",
    "\tdf = pd.DataFrame({\"question\":questions, \"expected_sql\":expected_sql})\n",
    "\n",
    "\tlatencies = []\n",
    "\tanswers = []\n",
    "\tfor index, row in df.iterrows():\n",
    "\t\ttry:\n",
    "\t\t\tquestion = row[\"question\"]\n",
    "\t\t\texpected_sql = row[\"expected_sql\"]\n",
    "\t\t\t\n",
    "\t\t\t# Measure the latency\n",
    "\t\t\tstart_time = time.time()\n",
    "\t\t\t# Invoke the agent\n",
    "\t\t\tresponse = text2sql_agent.run(query)\n",
    "\t\t\tpredicted_sql = response.content\n",
    "\t\t\t# Measure the latency\n",
    "\t\t\tlatency = time.time() - start_time\n",
    "\t\t\tlatencies.append(latency)\n",
    "\t\t\t# Store the predicted SQL query\n",
    "\t\t\tanswers.append(predicted_sql)\n",
    "\t\texcept Exception as e:\n",
    "\t\t\tanswers.append(\"ERROR\")\n",
    "\t\t\tlatencies.append(-1)\n",
    "\t\t\tprint(f\"Error processing question: {question}\")\n",
    "\n",
    "\t# Store the results in the dataframe\n",
    "\tdf[\"predicted_sql\"] = answers\n",
    "\tdf[\"latency\"] = latencies\n",
    "\treturn df"
   ]
  },
  {
   "cell_type": "code",
   "execution_count": 15,
   "metadata": {},
   "outputs": [],
   "source": [
    "df_eval = eval_benchmark( \"../tests/dataset_shop_queries.json\")"
   ]
  },
  {
   "cell_type": "code",
   "execution_count": 17,
   "metadata": {},
   "outputs": [
    {
     "data": {
      "text/html": [
       "<div>\n",
       "<style scoped>\n",
       "    .dataframe tbody tr th:only-of-type {\n",
       "        vertical-align: middle;\n",
       "    }\n",
       "\n",
       "    .dataframe tbody tr th {\n",
       "        vertical-align: top;\n",
       "    }\n",
       "\n",
       "    .dataframe thead th {\n",
       "        text-align: right;\n",
       "    }\n",
       "</style>\n",
       "<table border=\"1\" class=\"dataframe\">\n",
       "  <thead>\n",
       "    <tr style=\"text-align: right;\">\n",
       "      <th></th>\n",
       "      <th>question</th>\n",
       "      <th>expected_sql</th>\n",
       "      <th>predicted_sql</th>\n",
       "      <th>latency</th>\n",
       "    </tr>\n",
       "  </thead>\n",
       "  <tbody>\n",
       "    <tr>\n",
       "      <th>0</th>\n",
       "      <td>¿Cuáles son los detalles de todos los clientes?</td>\n",
       "      <td>SELECT * FROM Customers;</td>\n",
       "      <td>SELECT P.ProductID, P.Name FROM Products P JOI...</td>\n",
       "      <td>11.027225</td>\n",
       "    </tr>\n",
       "    <tr>\n",
       "      <th>1</th>\n",
       "      <td>¿Cuáles son los productos disponibles en la ca...</td>\n",
       "      <td>SELECT * FROM Products WHERE Category = 'Women';</td>\n",
       "      <td>SELECT p.Name, od.Quantity \\nFROM OrderDetails...</td>\n",
       "      <td>12.204067</td>\n",
       "    </tr>\n",
       "    <tr>\n",
       "      <th>2</th>\n",
       "      <td>¿Cuál es el precio total de todos los pedidos ...</td>\n",
       "      <td>SELECT SUM(TotalAmount) FROM Orders WHERE Cust...</td>\n",
       "      <td>SELECT P.ProductID, P.Name, OD.Quantity FROM O...</td>\n",
       "      <td>12.165747</td>\n",
       "    </tr>\n",
       "    <tr>\n",
       "      <th>3</th>\n",
       "      <td>¿Cuántos productos están en stock con una cant...</td>\n",
       "      <td>SELECT * FROM Products WHERE StockQuantity &gt; 20;</td>\n",
       "      <td>SELECT P.ProductID, P.Name, OD.Quantity FROM P...</td>\n",
       "      <td>13.884605</td>\n",
       "    </tr>\n",
       "    <tr>\n",
       "      <th>4</th>\n",
       "      <td>¿Qué productos han sido comprados en el pedido...</td>\n",
       "      <td>SELECT p.Name, od.Quantity, od.Subtotal FROM O...</td>\n",
       "      <td>SELECT P.ProductID, P.Name, OD.Quantity FROM O...</td>\n",
       "      <td>14.324975</td>\n",
       "    </tr>\n",
       "    <tr>\n",
       "      <th>5</th>\n",
       "      <td>¿Cuál es el nombre y apellido del cliente que ...</td>\n",
       "      <td>SELECT FirstName, LastName FROM Customers WHER...</td>\n",
       "      <td>SELECT P.ProductID, P.Name FROM Products P JOI...</td>\n",
       "      <td>12.782388</td>\n",
       "    </tr>\n",
       "    <tr>\n",
       "      <th>6</th>\n",
       "      <td>¿Qué pedidos fueron realizados el 14 de febrer...</td>\n",
       "      <td>SELECT * FROM Orders WHERE OrderDate = '2025-0...</td>\n",
       "      <td>SELECT P.ProductID, P.Name FROM Products P JOI...</td>\n",
       "      <td>12.512871</td>\n",
       "    </tr>\n",
       "    <tr>\n",
       "      <th>7</th>\n",
       "      <td>¿Cuántos productos en total fueron comprados e...</td>\n",
       "      <td>SELECT SUM(Quantity) FROM OrderDetails WHERE O...</td>\n",
       "      <td>SELECT P.ProductID, P.Name FROM Products P JOI...</td>\n",
       "      <td>11.449392</td>\n",
       "    </tr>\n",
       "    <tr>\n",
       "      <th>8</th>\n",
       "      <td>¿Qué productos tienen un precio superior a 120?</td>\n",
       "      <td>SELECT * FROM Products WHERE Price &gt; 120;</td>\n",
       "      <td>SELECT P.ProductID, P.Name, OD.Quantity FROM O...</td>\n",
       "      <td>12.632590</td>\n",
       "    </tr>\n",
       "    <tr>\n",
       "      <th>9</th>\n",
       "      <td>¿Cuáles son los detalles de los pedidos y sus ...</td>\n",
       "      <td>SELECT o.OrderID, o.OrderDate, p.Name, od.Quan...</td>\n",
       "      <td>SELECT P.ProductID, P.Name, OD.Quantity, OD.Su...</td>\n",
       "      <td>12.514130</td>\n",
       "    </tr>\n",
       "  </tbody>\n",
       "</table>\n",
       "</div>"
      ],
      "text/plain": [
       "                                            question  \\\n",
       "0    ¿Cuáles son los detalles de todos los clientes?   \n",
       "1  ¿Cuáles son los productos disponibles en la ca...   \n",
       "2  ¿Cuál es el precio total de todos los pedidos ...   \n",
       "3  ¿Cuántos productos están en stock con una cant...   \n",
       "4  ¿Qué productos han sido comprados en el pedido...   \n",
       "5  ¿Cuál es el nombre y apellido del cliente que ...   \n",
       "6  ¿Qué pedidos fueron realizados el 14 de febrer...   \n",
       "7  ¿Cuántos productos en total fueron comprados e...   \n",
       "8    ¿Qué productos tienen un precio superior a 120?   \n",
       "9  ¿Cuáles son los detalles de los pedidos y sus ...   \n",
       "\n",
       "                                        expected_sql  \\\n",
       "0                           SELECT * FROM Customers;   \n",
       "1   SELECT * FROM Products WHERE Category = 'Women';   \n",
       "2  SELECT SUM(TotalAmount) FROM Orders WHERE Cust...   \n",
       "3   SELECT * FROM Products WHERE StockQuantity > 20;   \n",
       "4  SELECT p.Name, od.Quantity, od.Subtotal FROM O...   \n",
       "5  SELECT FirstName, LastName FROM Customers WHER...   \n",
       "6  SELECT * FROM Orders WHERE OrderDate = '2025-0...   \n",
       "7  SELECT SUM(Quantity) FROM OrderDetails WHERE O...   \n",
       "8          SELECT * FROM Products WHERE Price > 120;   \n",
       "9  SELECT o.OrderID, o.OrderDate, p.Name, od.Quan...   \n",
       "\n",
       "                                       predicted_sql    latency  \n",
       "0  SELECT P.ProductID, P.Name FROM Products P JOI...  11.027225  \n",
       "1  SELECT p.Name, od.Quantity \\nFROM OrderDetails...  12.204067  \n",
       "2  SELECT P.ProductID, P.Name, OD.Quantity FROM O...  12.165747  \n",
       "3  SELECT P.ProductID, P.Name, OD.Quantity FROM P...  13.884605  \n",
       "4  SELECT P.ProductID, P.Name, OD.Quantity FROM O...  14.324975  \n",
       "5  SELECT P.ProductID, P.Name FROM Products P JOI...  12.782388  \n",
       "6  SELECT P.ProductID, P.Name FROM Products P JOI...  12.512871  \n",
       "7  SELECT P.ProductID, P.Name FROM Products P JOI...  11.449392  \n",
       "8  SELECT P.ProductID, P.Name, OD.Quantity FROM O...  12.632590  \n",
       "9  SELECT P.ProductID, P.Name, OD.Quantity, OD.Su...  12.514130  "
      ]
     },
     "execution_count": 17,
     "metadata": {},
     "output_type": "execute_result"
    }
   ],
   "source": [
    "df_eval.head(10)"
   ]
  },
  {
   "cell_type": "code",
   "execution_count": 18,
   "metadata": {},
   "outputs": [],
   "source": [
    "model_id = \"qwen2.5-coder\"\n",
    "\n",
    "df_eval.to_csv(f\"../tests/df_benchmark_shop_results_{model_id}.csv\", index=False)"
   ]
  },
  {
   "cell_type": "code",
   "execution_count": 19,
   "metadata": {},
   "outputs": [],
   "source": [
    "import pandas as pd\n",
    "\n",
    "model_id = \"qwen2.5-coder\"\n",
    "\n",
    "df_eval = pd.read_csv(f\"../tests/df_benchmark_shop_results_{model_id}.csv\")"
   ]
  },
  {
   "cell_type": "code",
   "execution_count": 20,
   "metadata": {},
   "outputs": [
    {
     "data": {
      "application/vnd.plotly.v1+json": {
       "config": {
        "plotlyServerURL": "https://plot.ly"
       },
       "data": [
        {
         "marker": {
          "color": "#f35a02",
          "line": {
           "color": "#e69138",
           "width": 2
          }
         },
         "type": "bar",
         "x": [
          "¿Cuáles son los detalles de todos los clientes?",
          "¿Cuáles son los productos disponibles en la categoría 'Women'?",
          "¿Cuál es el precio total de todos los pedidos realizados por un cliente específico con ID 5?",
          "¿Cuántos productos están en stock con una cantidad mayor a 20 unidades?",
          "¿Qué productos han sido comprados en el pedido con ID 3?",
          "¿Cuál es el nombre y apellido del cliente que tiene el correo electrónico 'juan.perez@email.com'?",
          "¿Qué pedidos fueron realizados el 14 de febrero de 2025?",
          "¿Cuántos productos en total fueron comprados en el pedido con ID 1?",
          "¿Qué productos tienen un precio superior a 120?",
          "¿Cuáles son los detalles de los pedidos y sus productos asociados para el cliente con ID 2?"
         ],
         "y": {
          "bdata": "AAAAcPANJkAAAABwe2goQAAAANDcVChAAAAA6OrEK0AAAAAwY6YsQAAAADiVkClAAAAA+JYGKUAAAACoFuYmQAAAANjiQylAAQAAADwHKUA=",
          "dtype": "f8"
         }
        }
       ],
       "layout": {
        "height": 600,
        "plot_bgcolor": "rgba(0,0,0,0)",
        "template": {
         "data": {
          "bar": [
           {
            "error_x": {
             "color": "#2a3f5f"
            },
            "error_y": {
             "color": "#2a3f5f"
            },
            "marker": {
             "line": {
              "color": "#E5ECF6",
              "width": 0.5
             },
             "pattern": {
              "fillmode": "overlay",
              "size": 10,
              "solidity": 0.2
             }
            },
            "type": "bar"
           }
          ],
          "barpolar": [
           {
            "marker": {
             "line": {
              "color": "#E5ECF6",
              "width": 0.5
             },
             "pattern": {
              "fillmode": "overlay",
              "size": 10,
              "solidity": 0.2
             }
            },
            "type": "barpolar"
           }
          ],
          "carpet": [
           {
            "aaxis": {
             "endlinecolor": "#2a3f5f",
             "gridcolor": "white",
             "linecolor": "white",
             "minorgridcolor": "white",
             "startlinecolor": "#2a3f5f"
            },
            "baxis": {
             "endlinecolor": "#2a3f5f",
             "gridcolor": "white",
             "linecolor": "white",
             "minorgridcolor": "white",
             "startlinecolor": "#2a3f5f"
            },
            "type": "carpet"
           }
          ],
          "choropleth": [
           {
            "colorbar": {
             "outlinewidth": 0,
             "ticks": ""
            },
            "type": "choropleth"
           }
          ],
          "contour": [
           {
            "colorbar": {
             "outlinewidth": 0,
             "ticks": ""
            },
            "colorscale": [
             [
              0,
              "#0d0887"
             ],
             [
              0.1111111111111111,
              "#46039f"
             ],
             [
              0.2222222222222222,
              "#7201a8"
             ],
             [
              0.3333333333333333,
              "#9c179e"
             ],
             [
              0.4444444444444444,
              "#bd3786"
             ],
             [
              0.5555555555555556,
              "#d8576b"
             ],
             [
              0.6666666666666666,
              "#ed7953"
             ],
             [
              0.7777777777777778,
              "#fb9f3a"
             ],
             [
              0.8888888888888888,
              "#fdca26"
             ],
             [
              1,
              "#f0f921"
             ]
            ],
            "type": "contour"
           }
          ],
          "contourcarpet": [
           {
            "colorbar": {
             "outlinewidth": 0,
             "ticks": ""
            },
            "type": "contourcarpet"
           }
          ],
          "heatmap": [
           {
            "colorbar": {
             "outlinewidth": 0,
             "ticks": ""
            },
            "colorscale": [
             [
              0,
              "#0d0887"
             ],
             [
              0.1111111111111111,
              "#46039f"
             ],
             [
              0.2222222222222222,
              "#7201a8"
             ],
             [
              0.3333333333333333,
              "#9c179e"
             ],
             [
              0.4444444444444444,
              "#bd3786"
             ],
             [
              0.5555555555555556,
              "#d8576b"
             ],
             [
              0.6666666666666666,
              "#ed7953"
             ],
             [
              0.7777777777777778,
              "#fb9f3a"
             ],
             [
              0.8888888888888888,
              "#fdca26"
             ],
             [
              1,
              "#f0f921"
             ]
            ],
            "type": "heatmap"
           }
          ],
          "histogram": [
           {
            "marker": {
             "pattern": {
              "fillmode": "overlay",
              "size": 10,
              "solidity": 0.2
             }
            },
            "type": "histogram"
           }
          ],
          "histogram2d": [
           {
            "colorbar": {
             "outlinewidth": 0,
             "ticks": ""
            },
            "colorscale": [
             [
              0,
              "#0d0887"
             ],
             [
              0.1111111111111111,
              "#46039f"
             ],
             [
              0.2222222222222222,
              "#7201a8"
             ],
             [
              0.3333333333333333,
              "#9c179e"
             ],
             [
              0.4444444444444444,
              "#bd3786"
             ],
             [
              0.5555555555555556,
              "#d8576b"
             ],
             [
              0.6666666666666666,
              "#ed7953"
             ],
             [
              0.7777777777777778,
              "#fb9f3a"
             ],
             [
              0.8888888888888888,
              "#fdca26"
             ],
             [
              1,
              "#f0f921"
             ]
            ],
            "type": "histogram2d"
           }
          ],
          "histogram2dcontour": [
           {
            "colorbar": {
             "outlinewidth": 0,
             "ticks": ""
            },
            "colorscale": [
             [
              0,
              "#0d0887"
             ],
             [
              0.1111111111111111,
              "#46039f"
             ],
             [
              0.2222222222222222,
              "#7201a8"
             ],
             [
              0.3333333333333333,
              "#9c179e"
             ],
             [
              0.4444444444444444,
              "#bd3786"
             ],
             [
              0.5555555555555556,
              "#d8576b"
             ],
             [
              0.6666666666666666,
              "#ed7953"
             ],
             [
              0.7777777777777778,
              "#fb9f3a"
             ],
             [
              0.8888888888888888,
              "#fdca26"
             ],
             [
              1,
              "#f0f921"
             ]
            ],
            "type": "histogram2dcontour"
           }
          ],
          "mesh3d": [
           {
            "colorbar": {
             "outlinewidth": 0,
             "ticks": ""
            },
            "type": "mesh3d"
           }
          ],
          "parcoords": [
           {
            "line": {
             "colorbar": {
              "outlinewidth": 0,
              "ticks": ""
             }
            },
            "type": "parcoords"
           }
          ],
          "pie": [
           {
            "automargin": true,
            "type": "pie"
           }
          ],
          "scatter": [
           {
            "fillpattern": {
             "fillmode": "overlay",
             "size": 10,
             "solidity": 0.2
            },
            "type": "scatter"
           }
          ],
          "scatter3d": [
           {
            "line": {
             "colorbar": {
              "outlinewidth": 0,
              "ticks": ""
             }
            },
            "marker": {
             "colorbar": {
              "outlinewidth": 0,
              "ticks": ""
             }
            },
            "type": "scatter3d"
           }
          ],
          "scattercarpet": [
           {
            "marker": {
             "colorbar": {
              "outlinewidth": 0,
              "ticks": ""
             }
            },
            "type": "scattercarpet"
           }
          ],
          "scattergeo": [
           {
            "marker": {
             "colorbar": {
              "outlinewidth": 0,
              "ticks": ""
             }
            },
            "type": "scattergeo"
           }
          ],
          "scattergl": [
           {
            "marker": {
             "colorbar": {
              "outlinewidth": 0,
              "ticks": ""
             }
            },
            "type": "scattergl"
           }
          ],
          "scattermap": [
           {
            "marker": {
             "colorbar": {
              "outlinewidth": 0,
              "ticks": ""
             }
            },
            "type": "scattermap"
           }
          ],
          "scattermapbox": [
           {
            "marker": {
             "colorbar": {
              "outlinewidth": 0,
              "ticks": ""
             }
            },
            "type": "scattermapbox"
           }
          ],
          "scatterpolar": [
           {
            "marker": {
             "colorbar": {
              "outlinewidth": 0,
              "ticks": ""
             }
            },
            "type": "scatterpolar"
           }
          ],
          "scatterpolargl": [
           {
            "marker": {
             "colorbar": {
              "outlinewidth": 0,
              "ticks": ""
             }
            },
            "type": "scatterpolargl"
           }
          ],
          "scatterternary": [
           {
            "marker": {
             "colorbar": {
              "outlinewidth": 0,
              "ticks": ""
             }
            },
            "type": "scatterternary"
           }
          ],
          "surface": [
           {
            "colorbar": {
             "outlinewidth": 0,
             "ticks": ""
            },
            "colorscale": [
             [
              0,
              "#0d0887"
             ],
             [
              0.1111111111111111,
              "#46039f"
             ],
             [
              0.2222222222222222,
              "#7201a8"
             ],
             [
              0.3333333333333333,
              "#9c179e"
             ],
             [
              0.4444444444444444,
              "#bd3786"
             ],
             [
              0.5555555555555556,
              "#d8576b"
             ],
             [
              0.6666666666666666,
              "#ed7953"
             ],
             [
              0.7777777777777778,
              "#fb9f3a"
             ],
             [
              0.8888888888888888,
              "#fdca26"
             ],
             [
              1,
              "#f0f921"
             ]
            ],
            "type": "surface"
           }
          ],
          "table": [
           {
            "cells": {
             "fill": {
              "color": "#EBF0F8"
             },
             "line": {
              "color": "white"
             }
            },
            "header": {
             "fill": {
              "color": "#C8D4E3"
             },
             "line": {
              "color": "white"
             }
            },
            "type": "table"
           }
          ]
         },
         "layout": {
          "annotationdefaults": {
           "arrowcolor": "#2a3f5f",
           "arrowhead": 0,
           "arrowwidth": 1
          },
          "autotypenumbers": "strict",
          "coloraxis": {
           "colorbar": {
            "outlinewidth": 0,
            "ticks": ""
           }
          },
          "colorscale": {
           "diverging": [
            [
             0,
             "#8e0152"
            ],
            [
             0.1,
             "#c51b7d"
            ],
            [
             0.2,
             "#de77ae"
            ],
            [
             0.3,
             "#f1b6da"
            ],
            [
             0.4,
             "#fde0ef"
            ],
            [
             0.5,
             "#f7f7f7"
            ],
            [
             0.6,
             "#e6f5d0"
            ],
            [
             0.7,
             "#b8e186"
            ],
            [
             0.8,
             "#7fbc41"
            ],
            [
             0.9,
             "#4d9221"
            ],
            [
             1,
             "#276419"
            ]
           ],
           "sequential": [
            [
             0,
             "#0d0887"
            ],
            [
             0.1111111111111111,
             "#46039f"
            ],
            [
             0.2222222222222222,
             "#7201a8"
            ],
            [
             0.3333333333333333,
             "#9c179e"
            ],
            [
             0.4444444444444444,
             "#bd3786"
            ],
            [
             0.5555555555555556,
             "#d8576b"
            ],
            [
             0.6666666666666666,
             "#ed7953"
            ],
            [
             0.7777777777777778,
             "#fb9f3a"
            ],
            [
             0.8888888888888888,
             "#fdca26"
            ],
            [
             1,
             "#f0f921"
            ]
           ],
           "sequentialminus": [
            [
             0,
             "#0d0887"
            ],
            [
             0.1111111111111111,
             "#46039f"
            ],
            [
             0.2222222222222222,
             "#7201a8"
            ],
            [
             0.3333333333333333,
             "#9c179e"
            ],
            [
             0.4444444444444444,
             "#bd3786"
            ],
            [
             0.5555555555555556,
             "#d8576b"
            ],
            [
             0.6666666666666666,
             "#ed7953"
            ],
            [
             0.7777777777777778,
             "#fb9f3a"
            ],
            [
             0.8888888888888888,
             "#fdca26"
            ],
            [
             1,
             "#f0f921"
            ]
           ]
          },
          "colorway": [
           "#636efa",
           "#EF553B",
           "#00cc96",
           "#ab63fa",
           "#FFA15A",
           "#19d3f3",
           "#FF6692",
           "#B6E880",
           "#FF97FF",
           "#FECB52"
          ],
          "font": {
           "color": "#2a3f5f"
          },
          "geo": {
           "bgcolor": "white",
           "lakecolor": "white",
           "landcolor": "#E5ECF6",
           "showlakes": true,
           "showland": true,
           "subunitcolor": "white"
          },
          "hoverlabel": {
           "align": "left"
          },
          "hovermode": "closest",
          "mapbox": {
           "style": "light"
          },
          "paper_bgcolor": "white",
          "plot_bgcolor": "#E5ECF6",
          "polar": {
           "angularaxis": {
            "gridcolor": "white",
            "linecolor": "white",
            "ticks": ""
           },
           "bgcolor": "#E5ECF6",
           "radialaxis": {
            "gridcolor": "white",
            "linecolor": "white",
            "ticks": ""
           }
          },
          "scene": {
           "xaxis": {
            "backgroundcolor": "#E5ECF6",
            "gridcolor": "white",
            "gridwidth": 2,
            "linecolor": "white",
            "showbackground": true,
            "ticks": "",
            "zerolinecolor": "white"
           },
           "yaxis": {
            "backgroundcolor": "#E5ECF6",
            "gridcolor": "white",
            "gridwidth": 2,
            "linecolor": "white",
            "showbackground": true,
            "ticks": "",
            "zerolinecolor": "white"
           },
           "zaxis": {
            "backgroundcolor": "#E5ECF6",
            "gridcolor": "white",
            "gridwidth": 2,
            "linecolor": "white",
            "showbackground": true,
            "ticks": "",
            "zerolinecolor": "white"
           }
          },
          "shapedefaults": {
           "line": {
            "color": "#2a3f5f"
           }
          },
          "ternary": {
           "aaxis": {
            "gridcolor": "white",
            "linecolor": "white",
            "ticks": ""
           },
           "baxis": {
            "gridcolor": "white",
            "linecolor": "white",
            "ticks": ""
           },
           "bgcolor": "#E5ECF6",
           "caxis": {
            "gridcolor": "white",
            "linecolor": "white",
            "ticks": ""
           }
          },
          "title": {
           "x": 0.05
          },
          "xaxis": {
           "automargin": true,
           "gridcolor": "white",
           "linecolor": "white",
           "ticks": "",
           "title": {
            "standoff": 15
           },
           "zerolinecolor": "white",
           "zerolinewidth": 2
          },
          "yaxis": {
           "automargin": true,
           "gridcolor": "white",
           "linecolor": "white",
           "ticks": "",
           "title": {
            "standoff": 15
           },
           "zerolinecolor": "white",
           "zerolinewidth": 2
          }
         }
        },
        "title": {
         "font": {
          "size": 12,
          "weight": "bold"
         },
         "text": "Our Text2SQL Benchmark dataset to evaluate the performance of : qwen2.5-coder",
         "x": 0.5
        },
        "width": 1000,
        "xaxis": {
         "title": {
          "text": "Question"
         }
        },
        "yaxis": {
         "gridcolor": "lightgrey",
         "title": {
          "text": "Latency (s)"
         }
        }
       }
      }
     },
     "metadata": {},
     "output_type": "display_data"
    }
   ],
   "source": [
    "import plotly.graph_objects as go\n",
    "\n",
    "# Crear figura\n",
    "fig = go.Figure(data=[go.Bar(x=df_eval.question, y=df_eval.latency)])\n",
    "\n",
    "# Configurar ejes\n",
    "fig.update_layout(\n",
    "    title=f'Our Text2SQL Benchmark dataset to evaluate the performance of : {model_id}',\n",
    "    xaxis_title='Question',\n",
    "    yaxis_title='Latency (s)'\n",
    ")\n",
    "fig.update_layout(title=dict(font_size=12, font_weight='bold', x=0.5))\n",
    "fig.update_traces(marker_line_color='#e69138', marker_line_width=2, marker_color=\"#f35a02\")\n",
    "fig.update_layout(plot_bgcolor='rgba(0,0,0,0)', yaxis=dict(gridcolor='lightgrey'), height=600, width=1000)\n",
    "\n",
    "# Mostrar figura\n",
    "fig.show()"
   ]
  }
 ],
 "metadata": {
  "kernelspec": {
   "display_name": ".venv",
   "language": "python",
   "name": "python3"
  },
  "language_info": {
   "codemirror_mode": {
    "name": "ipython",
    "version": 3
   },
   "file_extension": ".py",
   "mimetype": "text/x-python",
   "name": "python",
   "nbconvert_exporter": "python",
   "pygments_lexer": "ipython3",
   "version": "3.13.1"
  }
 },
 "nbformat": 4,
 "nbformat_minor": 2
}
