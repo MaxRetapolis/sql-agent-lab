{
 "cells": [
  {
   "cell_type": "code",
   "execution_count": 2,
   "metadata": {},
   "outputs": [],
   "source": [
    "import pandas as pd"
   ]
  },
  {
   "cell_type": "code",
   "execution_count": 3,
   "metadata": {},
   "outputs": [
    {
     "name": "stdout",
     "output_type": "stream",
     "text": [
      "(10, 7)\n"
     ]
    },
    {
     "data": {
      "text/html": [
       "<div>\n",
       "<style scoped>\n",
       "    .dataframe tbody tr th:only-of-type {\n",
       "        vertical-align: middle;\n",
       "    }\n",
       "\n",
       "    .dataframe tbody tr th {\n",
       "        vertical-align: top;\n",
       "    }\n",
       "\n",
       "    .dataframe thead th {\n",
       "        text-align: right;\n",
       "    }\n",
       "</style>\n",
       "<table border=\"1\" class=\"dataframe\">\n",
       "  <thead>\n",
       "    <tr style=\"text-align: right;\">\n",
       "      <th></th>\n",
       "      <th>question</th>\n",
       "      <th>expected_sql</th>\n",
       "      <th>predicted_sql</th>\n",
       "      <th>latency</th>\n",
       "      <th>model</th>\n",
       "      <th>provider</th>\n",
       "      <th>framework</th>\n",
       "    </tr>\n",
       "  </thead>\n",
       "  <tbody>\n",
       "    <tr>\n",
       "      <th>0</th>\n",
       "      <td>Get all records from the Stock table</td>\n",
       "      <td>SELECT * FROM Stock;</td>\n",
       "      <td>SELECT S.* FROM Stock S INNER JOIN Orders O ON...</td>\n",
       "      <td>5.070666</td>\n",
       "      <td>llama3.2:3b</td>\n",
       "      <td>Ollama</td>\n",
       "      <td>Agno</td>\n",
       "    </tr>\n",
       "    <tr>\n",
       "      <th>1</th>\n",
       "      <td>List the IDs of products in stock with their c...</td>\n",
       "      <td>SELECT id, current_stock_quantity FROM Stock;</td>\n",
       "      <td>SELECT S.id FROM Stock AS S INNER JOIN Orders ...</td>\n",
       "      <td>5.972475</td>\n",
       "      <td>llama3.2:3b</td>\n",
       "      <td>Ollama</td>\n",
       "      <td>Agno</td>\n",
       "    </tr>\n",
       "    <tr>\n",
       "      <th>2</th>\n",
       "      <td>Get the average unit price of all products in ...</td>\n",
       "      <td>SELECT AVG(unit_price) AS avg_unit_price FROM ...</td>\n",
       "      <td>SELECT S.id FROM Stock AS S JOIN Orders AS O O...</td>\n",
       "      <td>4.506686</td>\n",
       "      <td>llama3.2:3b</td>\n",
       "      <td>Ollama</td>\n",
       "      <td>Agno</td>\n",
       "    </tr>\n",
       "    <tr>\n",
       "      <th>3</th>\n",
       "      <td>Find products with more than 10,000 units in s...</td>\n",
       "      <td>SELECT id, current_stock_quantity FROM Stock W...</td>\n",
       "      <td>SELECT S.* FROM Stock AS S JOIN Orders AS O ON...</td>\n",
       "      <td>5.407918</td>\n",
       "      <td>llama3.2:3b</td>\n",
       "      <td>Ollama</td>\n",
       "      <td>Agno</td>\n",
       "    </tr>\n",
       "    <tr>\n",
       "      <th>4</th>\n",
       "      <td>Get the total quantity of products in stock</td>\n",
       "      <td>SELECT SUM(current_stock_quantity) AS total_st...</td>\n",
       "      <td>SELECT S.* FROM Stock AS S JOIN Orders AS O ON...</td>\n",
       "      <td>5.147977</td>\n",
       "      <td>llama3.2:3b</td>\n",
       "      <td>Ollama</td>\n",
       "      <td>Agno</td>\n",
       "    </tr>\n",
       "  </tbody>\n",
       "</table>\n",
       "</div>"
      ],
      "text/plain": [
       "                                            question  \\\n",
       "0               Get all records from the Stock table   \n",
       "1  List the IDs of products in stock with their c...   \n",
       "2  Get the average unit price of all products in ...   \n",
       "3  Find products with more than 10,000 units in s...   \n",
       "4        Get the total quantity of products in stock   \n",
       "\n",
       "                                        expected_sql  \\\n",
       "0                               SELECT * FROM Stock;   \n",
       "1      SELECT id, current_stock_quantity FROM Stock;   \n",
       "2  SELECT AVG(unit_price) AS avg_unit_price FROM ...   \n",
       "3  SELECT id, current_stock_quantity FROM Stock W...   \n",
       "4  SELECT SUM(current_stock_quantity) AS total_st...   \n",
       "\n",
       "                                       predicted_sql   latency        model  \\\n",
       "0  SELECT S.* FROM Stock S INNER JOIN Orders O ON...  5.070666  llama3.2:3b   \n",
       "1  SELECT S.id FROM Stock AS S INNER JOIN Orders ...  5.972475  llama3.2:3b   \n",
       "2  SELECT S.id FROM Stock AS S JOIN Orders AS O O...  4.506686  llama3.2:3b   \n",
       "3  SELECT S.* FROM Stock AS S JOIN Orders AS O ON...  5.407918  llama3.2:3b   \n",
       "4  SELECT S.* FROM Stock AS S JOIN Orders AS O ON...  5.147977  llama3.2:3b   \n",
       "\n",
       "  provider framework  \n",
       "0   Ollama      Agno  \n",
       "1   Ollama      Agno  \n",
       "2   Ollama      Agno  \n",
       "3   Ollama      Agno  \n",
       "4   Ollama      Agno  "
      ]
     },
     "execution_count": 3,
     "metadata": {},
     "output_type": "execute_result"
    }
   ],
   "source": [
    "df_eval1 = pd.read_csv(\"../tests/df_benchmark_results_llama-32-3B.csv\")\n",
    "df_eval1 = df_eval1.assign(model='llama3.2:3b', provider='Ollama', framework='Agno')\n",
    "print(df_eval1.shape)\n",
    "df_eval1.head()"
   ]
  },
  {
   "cell_type": "code",
   "execution_count": 4,
   "metadata": {},
   "outputs": [
    {
     "name": "stdout",
     "output_type": "stream",
     "text": [
      "(10, 7)\n"
     ]
    },
    {
     "data": {
      "text/html": [
       "<div>\n",
       "<style scoped>\n",
       "    .dataframe tbody tr th:only-of-type {\n",
       "        vertical-align: middle;\n",
       "    }\n",
       "\n",
       "    .dataframe tbody tr th {\n",
       "        vertical-align: top;\n",
       "    }\n",
       "\n",
       "    .dataframe thead th {\n",
       "        text-align: right;\n",
       "    }\n",
       "</style>\n",
       "<table border=\"1\" class=\"dataframe\">\n",
       "  <thead>\n",
       "    <tr style=\"text-align: right;\">\n",
       "      <th></th>\n",
       "      <th>question</th>\n",
       "      <th>expected_sql</th>\n",
       "      <th>predicted_sql</th>\n",
       "      <th>latency</th>\n",
       "      <th>model</th>\n",
       "      <th>provider</th>\n",
       "      <th>framework</th>\n",
       "    </tr>\n",
       "  </thead>\n",
       "  <tbody>\n",
       "    <tr>\n",
       "      <th>0</th>\n",
       "      <td>Get all records from the Stock table</td>\n",
       "      <td>SELECT * FROM Stock;</td>\n",
       "      <td>SELECT DISTINCT s.id FROM Stock s JOIN Orders ...</td>\n",
       "      <td>7.878024</td>\n",
       "      <td>qwen2.5-coder</td>\n",
       "      <td>Ollama</td>\n",
       "      <td>Agno</td>\n",
       "    </tr>\n",
       "    <tr>\n",
       "      <th>1</th>\n",
       "      <td>List the IDs of products in stock with their c...</td>\n",
       "      <td>SELECT id, current_stock_quantity FROM Stock;</td>\n",
       "      <td>SELECT DISTINCT id FROM Stock WHERE id IN (SEL...</td>\n",
       "      <td>5.383047</td>\n",
       "      <td>qwen2.5-coder</td>\n",
       "      <td>Ollama</td>\n",
       "      <td>Agno</td>\n",
       "    </tr>\n",
       "    <tr>\n",
       "      <th>2</th>\n",
       "      <td>Get the average unit price of all products in ...</td>\n",
       "      <td>SELECT AVG(unit_price) AS avg_unit_price FROM ...</td>\n",
       "      <td>SELECT DISTINCT id FROM Orders INTERSECT SELEC...</td>\n",
       "      <td>4.166067</td>\n",
       "      <td>qwen2.5-coder</td>\n",
       "      <td>Ollama</td>\n",
       "      <td>Agno</td>\n",
       "    </tr>\n",
       "    <tr>\n",
       "      <th>3</th>\n",
       "      <td>Find products with more than 10,000 units in s...</td>\n",
       "      <td>SELECT id, current_stock_quantity FROM Stock W...</td>\n",
       "      <td>SELECT s.id, s.current_stock_quantity, s.units...</td>\n",
       "      <td>18.221512</td>\n",
       "      <td>qwen2.5-coder</td>\n",
       "      <td>Ollama</td>\n",
       "      <td>Agno</td>\n",
       "    </tr>\n",
       "    <tr>\n",
       "      <th>4</th>\n",
       "      <td>Get the total quantity of products in stock</td>\n",
       "      <td>SELECT SUM(current_stock_quantity) AS total_st...</td>\n",
       "      <td>SELECT DISTINCT id FROM Orders WHERE id IN (SE...</td>\n",
       "      <td>6.962802</td>\n",
       "      <td>qwen2.5-coder</td>\n",
       "      <td>Ollama</td>\n",
       "      <td>Agno</td>\n",
       "    </tr>\n",
       "  </tbody>\n",
       "</table>\n",
       "</div>"
      ],
      "text/plain": [
       "                                            question  \\\n",
       "0               Get all records from the Stock table   \n",
       "1  List the IDs of products in stock with their c...   \n",
       "2  Get the average unit price of all products in ...   \n",
       "3  Find products with more than 10,000 units in s...   \n",
       "4        Get the total quantity of products in stock   \n",
       "\n",
       "                                        expected_sql  \\\n",
       "0                               SELECT * FROM Stock;   \n",
       "1      SELECT id, current_stock_quantity FROM Stock;   \n",
       "2  SELECT AVG(unit_price) AS avg_unit_price FROM ...   \n",
       "3  SELECT id, current_stock_quantity FROM Stock W...   \n",
       "4  SELECT SUM(current_stock_quantity) AS total_st...   \n",
       "\n",
       "                                       predicted_sql    latency  \\\n",
       "0  SELECT DISTINCT s.id FROM Stock s JOIN Orders ...   7.878024   \n",
       "1  SELECT DISTINCT id FROM Stock WHERE id IN (SEL...   5.383047   \n",
       "2  SELECT DISTINCT id FROM Orders INTERSECT SELEC...   4.166067   \n",
       "3  SELECT s.id, s.current_stock_quantity, s.units...  18.221512   \n",
       "4  SELECT DISTINCT id FROM Orders WHERE id IN (SE...   6.962802   \n",
       "\n",
       "           model provider framework  \n",
       "0  qwen2.5-coder   Ollama      Agno  \n",
       "1  qwen2.5-coder   Ollama      Agno  \n",
       "2  qwen2.5-coder   Ollama      Agno  \n",
       "3  qwen2.5-coder   Ollama      Agno  \n",
       "4  qwen2.5-coder   Ollama      Agno  "
      ]
     },
     "execution_count": 4,
     "metadata": {},
     "output_type": "execute_result"
    }
   ],
   "source": [
    "df_eval2 = pd.read_csv(\"../tests/df_benchmark_results_qwen2.5-coder.csv\")\n",
    "df_eval2 = df_eval2.assign(model='qwen2.5-coder', provider='Ollama', framework='Agno')\n",
    "print(df_eval2.shape)\n",
    "df_eval2.head()\n"
   ]
  },
  {
   "cell_type": "code",
   "execution_count": 5,
   "metadata": {},
   "outputs": [
    {
     "name": "stdout",
     "output_type": "stream",
     "text": [
      "(10, 7)\n"
     ]
    },
    {
     "data": {
      "text/html": [
       "<div>\n",
       "<style scoped>\n",
       "    .dataframe tbody tr th:only-of-type {\n",
       "        vertical-align: middle;\n",
       "    }\n",
       "\n",
       "    .dataframe tbody tr th {\n",
       "        vertical-align: top;\n",
       "    }\n",
       "\n",
       "    .dataframe thead th {\n",
       "        text-align: right;\n",
       "    }\n",
       "</style>\n",
       "<table border=\"1\" class=\"dataframe\">\n",
       "  <thead>\n",
       "    <tr style=\"text-align: right;\">\n",
       "      <th></th>\n",
       "      <th>question</th>\n",
       "      <th>expected_sql</th>\n",
       "      <th>predicted_sql</th>\n",
       "      <th>latency</th>\n",
       "      <th>model</th>\n",
       "      <th>provider</th>\n",
       "      <th>framework</th>\n",
       "    </tr>\n",
       "  </thead>\n",
       "  <tbody>\n",
       "    <tr>\n",
       "      <th>0</th>\n",
       "      <td>Get all records from the Stock table</td>\n",
       "      <td>SELECT * FROM Stock;</td>\n",
       "      <td>['SELECT * FROM Stock']</td>\n",
       "      <td>1.266961</td>\n",
       "      <td>T5-LM-Large-text2sql-spider</td>\n",
       "      <td>HuggingFace</td>\n",
       "      <td>transformers</td>\n",
       "    </tr>\n",
       "    <tr>\n",
       "      <th>1</th>\n",
       "      <td>List the IDs of products in stock with their c...</td>\n",
       "      <td>SELECT id, current_stock_quantity FROM Stock;</td>\n",
       "      <td>['SELECT id FROM stock AND current_stock_quant...</td>\n",
       "      <td>2.375918</td>\n",
       "      <td>T5-LM-Large-text2sql-spider</td>\n",
       "      <td>HuggingFace</td>\n",
       "      <td>transformers</td>\n",
       "    </tr>\n",
       "    <tr>\n",
       "      <th>2</th>\n",
       "      <td>Get the average unit price of all products in ...</td>\n",
       "      <td>SELECT AVG(unit_price) AS avg_unit_price FROM ...</td>\n",
       "      <td>['SELECT avg(unit_price) FROM stock']</td>\n",
       "      <td>2.060799</td>\n",
       "      <td>T5-LM-Large-text2sql-spider</td>\n",
       "      <td>HuggingFace</td>\n",
       "      <td>transformers</td>\n",
       "    </tr>\n",
       "    <tr>\n",
       "      <th>3</th>\n",
       "      <td>Find products with more than 10,000 units in s...</td>\n",
       "      <td>SELECT id, current_stock_quantity FROM Stock W...</td>\n",
       "      <td>['SELECT product FROM stock WHERE units &gt; 10,0...</td>\n",
       "      <td>1.884214</td>\n",
       "      <td>T5-LM-Large-text2sql-spider</td>\n",
       "      <td>HuggingFace</td>\n",
       "      <td>transformers</td>\n",
       "    </tr>\n",
       "    <tr>\n",
       "      <th>4</th>\n",
       "      <td>Get the total quantity of products in stock</td>\n",
       "      <td>SELECT SUM(current_stock_quantity) AS total_st...</td>\n",
       "      <td>['SELECT sum(units) FROM stock']</td>\n",
       "      <td>1.629552</td>\n",
       "      <td>T5-LM-Large-text2sql-spider</td>\n",
       "      <td>HuggingFace</td>\n",
       "      <td>transformers</td>\n",
       "    </tr>\n",
       "  </tbody>\n",
       "</table>\n",
       "</div>"
      ],
      "text/plain": [
       "                                            question  \\\n",
       "0               Get all records from the Stock table   \n",
       "1  List the IDs of products in stock with their c...   \n",
       "2  Get the average unit price of all products in ...   \n",
       "3  Find products with more than 10,000 units in s...   \n",
       "4        Get the total quantity of products in stock   \n",
       "\n",
       "                                        expected_sql  \\\n",
       "0                               SELECT * FROM Stock;   \n",
       "1      SELECT id, current_stock_quantity FROM Stock;   \n",
       "2  SELECT AVG(unit_price) AS avg_unit_price FROM ...   \n",
       "3  SELECT id, current_stock_quantity FROM Stock W...   \n",
       "4  SELECT SUM(current_stock_quantity) AS total_st...   \n",
       "\n",
       "                                       predicted_sql   latency  \\\n",
       "0                            ['SELECT * FROM Stock']  1.266961   \n",
       "1  ['SELECT id FROM stock AND current_stock_quant...  2.375918   \n",
       "2              ['SELECT avg(unit_price) FROM stock']  2.060799   \n",
       "3  ['SELECT product FROM stock WHERE units > 10,0...  1.884214   \n",
       "4                   ['SELECT sum(units) FROM stock']  1.629552   \n",
       "\n",
       "                         model     provider     framework  \n",
       "0  T5-LM-Large-text2sql-spider  HuggingFace  transformers  \n",
       "1  T5-LM-Large-text2sql-spider  HuggingFace  transformers  \n",
       "2  T5-LM-Large-text2sql-spider  HuggingFace  transformers  \n",
       "3  T5-LM-Large-text2sql-spider  HuggingFace  transformers  \n",
       "4  T5-LM-Large-text2sql-spider  HuggingFace  transformers  "
      ]
     },
     "execution_count": 5,
     "metadata": {},
     "output_type": "execute_result"
    }
   ],
   "source": [
    "df_eval3 = pd.read_csv(\"../tests/df_benchmark_results_spider.csv\")\n",
    "df_eval3 = df_eval3.assign(model='T5-LM-Large-text2sql-spider', provider='HuggingFace', framework='transformers')\n",
    "print(df_eval3.shape)\n",
    "df_eval3.head()"
   ]
  },
  {
   "cell_type": "code",
   "execution_count": 6,
   "metadata": {},
   "outputs": [
    {
     "name": "stdout",
     "output_type": "stream",
     "text": [
      "(30, 7)\n"
     ]
    },
    {
     "data": {
      "text/html": [
       "<div>\n",
       "<style scoped>\n",
       "    .dataframe tbody tr th:only-of-type {\n",
       "        vertical-align: middle;\n",
       "    }\n",
       "\n",
       "    .dataframe tbody tr th {\n",
       "        vertical-align: top;\n",
       "    }\n",
       "\n",
       "    .dataframe thead th {\n",
       "        text-align: right;\n",
       "    }\n",
       "</style>\n",
       "<table border=\"1\" class=\"dataframe\">\n",
       "  <thead>\n",
       "    <tr style=\"text-align: right;\">\n",
       "      <th></th>\n",
       "      <th>question</th>\n",
       "      <th>expected_sql</th>\n",
       "      <th>predicted_sql</th>\n",
       "      <th>latency</th>\n",
       "      <th>model</th>\n",
       "      <th>provider</th>\n",
       "      <th>framework</th>\n",
       "    </tr>\n",
       "  </thead>\n",
       "  <tbody>\n",
       "    <tr>\n",
       "      <th>0</th>\n",
       "      <td>Get all records from the Stock table</td>\n",
       "      <td>SELECT * FROM Stock;</td>\n",
       "      <td>SELECT S.* FROM Stock S INNER JOIN Orders O ON...</td>\n",
       "      <td>5.070666</td>\n",
       "      <td>llama3.2:3b</td>\n",
       "      <td>Ollama</td>\n",
       "      <td>Agno</td>\n",
       "    </tr>\n",
       "    <tr>\n",
       "      <th>1</th>\n",
       "      <td>List the IDs of products in stock with their c...</td>\n",
       "      <td>SELECT id, current_stock_quantity FROM Stock;</td>\n",
       "      <td>SELECT S.id FROM Stock AS S INNER JOIN Orders ...</td>\n",
       "      <td>5.972475</td>\n",
       "      <td>llama3.2:3b</td>\n",
       "      <td>Ollama</td>\n",
       "      <td>Agno</td>\n",
       "    </tr>\n",
       "    <tr>\n",
       "      <th>2</th>\n",
       "      <td>Get the average unit price of all products in ...</td>\n",
       "      <td>SELECT AVG(unit_price) AS avg_unit_price FROM ...</td>\n",
       "      <td>SELECT S.id FROM Stock AS S JOIN Orders AS O O...</td>\n",
       "      <td>4.506686</td>\n",
       "      <td>llama3.2:3b</td>\n",
       "      <td>Ollama</td>\n",
       "      <td>Agno</td>\n",
       "    </tr>\n",
       "    <tr>\n",
       "      <th>3</th>\n",
       "      <td>Find products with more than 10,000 units in s...</td>\n",
       "      <td>SELECT id, current_stock_quantity FROM Stock W...</td>\n",
       "      <td>SELECT S.* FROM Stock AS S JOIN Orders AS O ON...</td>\n",
       "      <td>5.407918</td>\n",
       "      <td>llama3.2:3b</td>\n",
       "      <td>Ollama</td>\n",
       "      <td>Agno</td>\n",
       "    </tr>\n",
       "    <tr>\n",
       "      <th>4</th>\n",
       "      <td>Get the total quantity of products in stock</td>\n",
       "      <td>SELECT SUM(current_stock_quantity) AS total_st...</td>\n",
       "      <td>SELECT S.* FROM Stock AS S JOIN Orders AS O ON...</td>\n",
       "      <td>5.147977</td>\n",
       "      <td>llama3.2:3b</td>\n",
       "      <td>Ollama</td>\n",
       "      <td>Agno</td>\n",
       "    </tr>\n",
       "  </tbody>\n",
       "</table>\n",
       "</div>"
      ],
      "text/plain": [
       "                                            question  \\\n",
       "0               Get all records from the Stock table   \n",
       "1  List the IDs of products in stock with their c...   \n",
       "2  Get the average unit price of all products in ...   \n",
       "3  Find products with more than 10,000 units in s...   \n",
       "4        Get the total quantity of products in stock   \n",
       "\n",
       "                                        expected_sql  \\\n",
       "0                               SELECT * FROM Stock;   \n",
       "1      SELECT id, current_stock_quantity FROM Stock;   \n",
       "2  SELECT AVG(unit_price) AS avg_unit_price FROM ...   \n",
       "3  SELECT id, current_stock_quantity FROM Stock W...   \n",
       "4  SELECT SUM(current_stock_quantity) AS total_st...   \n",
       "\n",
       "                                       predicted_sql   latency        model  \\\n",
       "0  SELECT S.* FROM Stock S INNER JOIN Orders O ON...  5.070666  llama3.2:3b   \n",
       "1  SELECT S.id FROM Stock AS S INNER JOIN Orders ...  5.972475  llama3.2:3b   \n",
       "2  SELECT S.id FROM Stock AS S JOIN Orders AS O O...  4.506686  llama3.2:3b   \n",
       "3  SELECT S.* FROM Stock AS S JOIN Orders AS O ON...  5.407918  llama3.2:3b   \n",
       "4  SELECT S.* FROM Stock AS S JOIN Orders AS O ON...  5.147977  llama3.2:3b   \n",
       "\n",
       "  provider framework  \n",
       "0   Ollama      Agno  \n",
       "1   Ollama      Agno  \n",
       "2   Ollama      Agno  \n",
       "3   Ollama      Agno  \n",
       "4   Ollama      Agno  "
      ]
     },
     "execution_count": 6,
     "metadata": {},
     "output_type": "execute_result"
    }
   ],
   "source": [
    "df_eval = pd.concat([df_eval1, df_eval2, df_eval3])\n",
    "print(df_eval.shape)\n",
    "df_eval.head()"
   ]
  },
  {
   "cell_type": "code",
   "execution_count": 8,
   "metadata": {},
   "outputs": [
    {
     "data": {
      "application/vnd.plotly.v1+json": {
       "config": {
        "plotlyServerURL": "https://plot.ly"
       },
       "data": [
        {
         "customdata": [
          [
           "Agno",
           "Ollama"
          ],
          [
           "Agno",
           "Ollama"
          ],
          [
           "Agno",
           "Ollama"
          ],
          [
           "Agno",
           "Ollama"
          ],
          [
           "Agno",
           "Ollama"
          ],
          [
           "Agno",
           "Ollama"
          ],
          [
           "Agno",
           "Ollama"
          ],
          [
           "Agno",
           "Ollama"
          ],
          [
           "Agno",
           "Ollama"
          ],
          [
           "Agno",
           "Ollama"
          ]
         ],
         "hovertemplate": "model=llama3.2:3b<br>question=%{x}<br>Latency=%{y}<br>framework=%{customdata[0]}<br>provider=%{customdata[1]}<extra></extra>",
         "legendgroup": "llama3.2:3b",
         "marker": {
          "color": "#0c63f0",
          "pattern": {
           "shape": ""
          }
         },
         "name": "llama3.2:3b",
         "orientation": "v",
         "showlegend": true,
         "textposition": "auto",
         "type": "bar",
         "x": [
          "Get all records from the Stock table",
          "List the IDs of products in stock with their current quantity",
          "Get the average unit price of all products in stock",
          "Find products with more than 10,000 units in stock",
          "Get the total quantity of products in stock",
          "List orders placed in the year 2023",
          "Get the product with the highest maximum lead time",
          "List products whose unit price is above the average",
          "Get the total number of orders per product",
          "List products in stock that have been ordered at least once"
         ],
         "xaxis": "x",
         "y": {
          "bdata": "AAAAoFxIFEAAAABg0OMXQAAAALDYBhJAAAAAQLWhFUAAAABQh5cUQAAAANBmThhAAAAAwP8TGEAAAADgf40TQAAAAIBJmBBAAAAAYDR2E0A=",
          "dtype": "f8"
         },
         "yaxis": "y"
        },
        {
         "customdata": [
          [
           "Agno",
           "Ollama"
          ],
          [
           "Agno",
           "Ollama"
          ],
          [
           "Agno",
           "Ollama"
          ],
          [
           "Agno",
           "Ollama"
          ],
          [
           "Agno",
           "Ollama"
          ],
          [
           "Agno",
           "Ollama"
          ],
          [
           "Agno",
           "Ollama"
          ],
          [
           "Agno",
           "Ollama"
          ],
          [
           "Agno",
           "Ollama"
          ],
          [
           "Agno",
           "Ollama"
          ]
         ],
         "hovertemplate": "model=qwen2.5-coder<br>question=%{x}<br>Latency=%{y}<br>framework=%{customdata[0]}<br>provider=%{customdata[1]}<extra></extra>",
         "legendgroup": "qwen2.5-coder",
         "marker": {
          "color": "#f35a02",
          "pattern": {
           "shape": ""
          }
         },
         "name": "qwen2.5-coder",
         "orientation": "v",
         "showlegend": true,
         "textposition": "auto",
         "type": "bar",
         "x": [
          "Get all records from the Stock table",
          "List the IDs of products in stock with their current quantity",
          "Get the average unit price of all products in stock",
          "Find products with more than 10,000 units in stock",
          "Get the total quantity of products in stock",
          "List orders placed in the year 2023",
          "Get the product with the highest maximum lead time",
          "List products whose unit price is above the average",
          "Get the total number of orders per product",
          "List products in stock that have been ordered at least once"
         ],
         "xaxis": "x",
         "y": {
          "bdata": "AAAAoBiDH0AAAABgPYgVQAAAAIANqhBAAAAA/LQ4MkAAAADQ6NkbQAAAAHh3gSBAAAAASIQoMEAAAABwX44cQAAAAJAqRxpAAAAAsH4WHUA=",
          "dtype": "f8"
         },
         "yaxis": "y"
        },
        {
         "customdata": [
          [
           "transformers",
           "HuggingFace"
          ],
          [
           "transformers",
           "HuggingFace"
          ],
          [
           "transformers",
           "HuggingFace"
          ],
          [
           "transformers",
           "HuggingFace"
          ],
          [
           "transformers",
           "HuggingFace"
          ],
          [
           "transformers",
           "HuggingFace"
          ],
          [
           "transformers",
           "HuggingFace"
          ],
          [
           "transformers",
           "HuggingFace"
          ],
          [
           "transformers",
           "HuggingFace"
          ],
          [
           "transformers",
           "HuggingFace"
          ]
         ],
         "hovertemplate": "model=T5-LM-Large-text2sql-spider<br>question=%{x}<br>Latency=%{y}<br>framework=%{customdata[0]}<br>provider=%{customdata[1]}<extra></extra>",
         "legendgroup": "T5-LM-Large-text2sql-spider",
         "marker": {
          "color": "#fae452",
          "pattern": {
           "shape": ""
          }
         },
         "name": "T5-LM-Large-text2sql-spider",
         "orientation": "v",
         "showlegend": true,
         "textposition": "auto",
         "type": "bar",
         "x": [
          "Get all records from the Stock table",
          "List the IDs of products in stock with their current quantity",
          "Get the average unit price of all products in stock",
          "Find products with more than 10,000 units in stock",
          "Get the total quantity of products in stock",
          "List orders placed in the year 2023",
          "Get the product with the highest maximum lead time",
          "List products whose unit price is above the average",
          "Get the total number of orders per product",
          "List products in stock that have been ordered at least once"
         ],
         "xaxis": "x",
         "y": {
          "bdata": "AQAAQHlF9D8AAABg4QEDQAEAAGCEfABA/v///70l/j8AAACApRL6PwAAAMDY7QNAAAAAwL96CEAAAADAu40OQAAAAIAAdxtAAAAAUB8FHEA=",
          "dtype": "f8"
         },
         "yaxis": "y"
        }
       ],
       "layout": {
        "barmode": "relative",
        "height": 600,
        "legend": {
         "title": {
          "text": "model"
         },
         "tracegroupgap": 0
        },
        "margin": {
         "t": 60
        },
        "plot_bgcolor": "rgba(0,0,0,0)",
        "template": {
         "data": {
          "bar": [
           {
            "error_x": {
             "color": "#2a3f5f"
            },
            "error_y": {
             "color": "#2a3f5f"
            },
            "marker": {
             "line": {
              "color": "#E5ECF6",
              "width": 0.5
             },
             "pattern": {
              "fillmode": "overlay",
              "size": 10,
              "solidity": 0.2
             }
            },
            "type": "bar"
           }
          ],
          "barpolar": [
           {
            "marker": {
             "line": {
              "color": "#E5ECF6",
              "width": 0.5
             },
             "pattern": {
              "fillmode": "overlay",
              "size": 10,
              "solidity": 0.2
             }
            },
            "type": "barpolar"
           }
          ],
          "carpet": [
           {
            "aaxis": {
             "endlinecolor": "#2a3f5f",
             "gridcolor": "white",
             "linecolor": "white",
             "minorgridcolor": "white",
             "startlinecolor": "#2a3f5f"
            },
            "baxis": {
             "endlinecolor": "#2a3f5f",
             "gridcolor": "white",
             "linecolor": "white",
             "minorgridcolor": "white",
             "startlinecolor": "#2a3f5f"
            },
            "type": "carpet"
           }
          ],
          "choropleth": [
           {
            "colorbar": {
             "outlinewidth": 0,
             "ticks": ""
            },
            "type": "choropleth"
           }
          ],
          "contour": [
           {
            "colorbar": {
             "outlinewidth": 0,
             "ticks": ""
            },
            "colorscale": [
             [
              0,
              "#0d0887"
             ],
             [
              0.1111111111111111,
              "#46039f"
             ],
             [
              0.2222222222222222,
              "#7201a8"
             ],
             [
              0.3333333333333333,
              "#9c179e"
             ],
             [
              0.4444444444444444,
              "#bd3786"
             ],
             [
              0.5555555555555556,
              "#d8576b"
             ],
             [
              0.6666666666666666,
              "#ed7953"
             ],
             [
              0.7777777777777778,
              "#fb9f3a"
             ],
             [
              0.8888888888888888,
              "#fdca26"
             ],
             [
              1,
              "#f0f921"
             ]
            ],
            "type": "contour"
           }
          ],
          "contourcarpet": [
           {
            "colorbar": {
             "outlinewidth": 0,
             "ticks": ""
            },
            "type": "contourcarpet"
           }
          ],
          "heatmap": [
           {
            "colorbar": {
             "outlinewidth": 0,
             "ticks": ""
            },
            "colorscale": [
             [
              0,
              "#0d0887"
             ],
             [
              0.1111111111111111,
              "#46039f"
             ],
             [
              0.2222222222222222,
              "#7201a8"
             ],
             [
              0.3333333333333333,
              "#9c179e"
             ],
             [
              0.4444444444444444,
              "#bd3786"
             ],
             [
              0.5555555555555556,
              "#d8576b"
             ],
             [
              0.6666666666666666,
              "#ed7953"
             ],
             [
              0.7777777777777778,
              "#fb9f3a"
             ],
             [
              0.8888888888888888,
              "#fdca26"
             ],
             [
              1,
              "#f0f921"
             ]
            ],
            "type": "heatmap"
           }
          ],
          "histogram": [
           {
            "marker": {
             "pattern": {
              "fillmode": "overlay",
              "size": 10,
              "solidity": 0.2
             }
            },
            "type": "histogram"
           }
          ],
          "histogram2d": [
           {
            "colorbar": {
             "outlinewidth": 0,
             "ticks": ""
            },
            "colorscale": [
             [
              0,
              "#0d0887"
             ],
             [
              0.1111111111111111,
              "#46039f"
             ],
             [
              0.2222222222222222,
              "#7201a8"
             ],
             [
              0.3333333333333333,
              "#9c179e"
             ],
             [
              0.4444444444444444,
              "#bd3786"
             ],
             [
              0.5555555555555556,
              "#d8576b"
             ],
             [
              0.6666666666666666,
              "#ed7953"
             ],
             [
              0.7777777777777778,
              "#fb9f3a"
             ],
             [
              0.8888888888888888,
              "#fdca26"
             ],
             [
              1,
              "#f0f921"
             ]
            ],
            "type": "histogram2d"
           }
          ],
          "histogram2dcontour": [
           {
            "colorbar": {
             "outlinewidth": 0,
             "ticks": ""
            },
            "colorscale": [
             [
              0,
              "#0d0887"
             ],
             [
              0.1111111111111111,
              "#46039f"
             ],
             [
              0.2222222222222222,
              "#7201a8"
             ],
             [
              0.3333333333333333,
              "#9c179e"
             ],
             [
              0.4444444444444444,
              "#bd3786"
             ],
             [
              0.5555555555555556,
              "#d8576b"
             ],
             [
              0.6666666666666666,
              "#ed7953"
             ],
             [
              0.7777777777777778,
              "#fb9f3a"
             ],
             [
              0.8888888888888888,
              "#fdca26"
             ],
             [
              1,
              "#f0f921"
             ]
            ],
            "type": "histogram2dcontour"
           }
          ],
          "mesh3d": [
           {
            "colorbar": {
             "outlinewidth": 0,
             "ticks": ""
            },
            "type": "mesh3d"
           }
          ],
          "parcoords": [
           {
            "line": {
             "colorbar": {
              "outlinewidth": 0,
              "ticks": ""
             }
            },
            "type": "parcoords"
           }
          ],
          "pie": [
           {
            "automargin": true,
            "type": "pie"
           }
          ],
          "scatter": [
           {
            "fillpattern": {
             "fillmode": "overlay",
             "size": 10,
             "solidity": 0.2
            },
            "type": "scatter"
           }
          ],
          "scatter3d": [
           {
            "line": {
             "colorbar": {
              "outlinewidth": 0,
              "ticks": ""
             }
            },
            "marker": {
             "colorbar": {
              "outlinewidth": 0,
              "ticks": ""
             }
            },
            "type": "scatter3d"
           }
          ],
          "scattercarpet": [
           {
            "marker": {
             "colorbar": {
              "outlinewidth": 0,
              "ticks": ""
             }
            },
            "type": "scattercarpet"
           }
          ],
          "scattergeo": [
           {
            "marker": {
             "colorbar": {
              "outlinewidth": 0,
              "ticks": ""
             }
            },
            "type": "scattergeo"
           }
          ],
          "scattergl": [
           {
            "marker": {
             "colorbar": {
              "outlinewidth": 0,
              "ticks": ""
             }
            },
            "type": "scattergl"
           }
          ],
          "scattermap": [
           {
            "marker": {
             "colorbar": {
              "outlinewidth": 0,
              "ticks": ""
             }
            },
            "type": "scattermap"
           }
          ],
          "scattermapbox": [
           {
            "marker": {
             "colorbar": {
              "outlinewidth": 0,
              "ticks": ""
             }
            },
            "type": "scattermapbox"
           }
          ],
          "scatterpolar": [
           {
            "marker": {
             "colorbar": {
              "outlinewidth": 0,
              "ticks": ""
             }
            },
            "type": "scatterpolar"
           }
          ],
          "scatterpolargl": [
           {
            "marker": {
             "colorbar": {
              "outlinewidth": 0,
              "ticks": ""
             }
            },
            "type": "scatterpolargl"
           }
          ],
          "scatterternary": [
           {
            "marker": {
             "colorbar": {
              "outlinewidth": 0,
              "ticks": ""
             }
            },
            "type": "scatterternary"
           }
          ],
          "surface": [
           {
            "colorbar": {
             "outlinewidth": 0,
             "ticks": ""
            },
            "colorscale": [
             [
              0,
              "#0d0887"
             ],
             [
              0.1111111111111111,
              "#46039f"
             ],
             [
              0.2222222222222222,
              "#7201a8"
             ],
             [
              0.3333333333333333,
              "#9c179e"
             ],
             [
              0.4444444444444444,
              "#bd3786"
             ],
             [
              0.5555555555555556,
              "#d8576b"
             ],
             [
              0.6666666666666666,
              "#ed7953"
             ],
             [
              0.7777777777777778,
              "#fb9f3a"
             ],
             [
              0.8888888888888888,
              "#fdca26"
             ],
             [
              1,
              "#f0f921"
             ]
            ],
            "type": "surface"
           }
          ],
          "table": [
           {
            "cells": {
             "fill": {
              "color": "#EBF0F8"
             },
             "line": {
              "color": "white"
             }
            },
            "header": {
             "fill": {
              "color": "#C8D4E3"
             },
             "line": {
              "color": "white"
             }
            },
            "type": "table"
           }
          ]
         },
         "layout": {
          "annotationdefaults": {
           "arrowcolor": "#2a3f5f",
           "arrowhead": 0,
           "arrowwidth": 1
          },
          "autotypenumbers": "strict",
          "coloraxis": {
           "colorbar": {
            "outlinewidth": 0,
            "ticks": ""
           }
          },
          "colorscale": {
           "diverging": [
            [
             0,
             "#8e0152"
            ],
            [
             0.1,
             "#c51b7d"
            ],
            [
             0.2,
             "#de77ae"
            ],
            [
             0.3,
             "#f1b6da"
            ],
            [
             0.4,
             "#fde0ef"
            ],
            [
             0.5,
             "#f7f7f7"
            ],
            [
             0.6,
             "#e6f5d0"
            ],
            [
             0.7,
             "#b8e186"
            ],
            [
             0.8,
             "#7fbc41"
            ],
            [
             0.9,
             "#4d9221"
            ],
            [
             1,
             "#276419"
            ]
           ],
           "sequential": [
            [
             0,
             "#0d0887"
            ],
            [
             0.1111111111111111,
             "#46039f"
            ],
            [
             0.2222222222222222,
             "#7201a8"
            ],
            [
             0.3333333333333333,
             "#9c179e"
            ],
            [
             0.4444444444444444,
             "#bd3786"
            ],
            [
             0.5555555555555556,
             "#d8576b"
            ],
            [
             0.6666666666666666,
             "#ed7953"
            ],
            [
             0.7777777777777778,
             "#fb9f3a"
            ],
            [
             0.8888888888888888,
             "#fdca26"
            ],
            [
             1,
             "#f0f921"
            ]
           ],
           "sequentialminus": [
            [
             0,
             "#0d0887"
            ],
            [
             0.1111111111111111,
             "#46039f"
            ],
            [
             0.2222222222222222,
             "#7201a8"
            ],
            [
             0.3333333333333333,
             "#9c179e"
            ],
            [
             0.4444444444444444,
             "#bd3786"
            ],
            [
             0.5555555555555556,
             "#d8576b"
            ],
            [
             0.6666666666666666,
             "#ed7953"
            ],
            [
             0.7777777777777778,
             "#fb9f3a"
            ],
            [
             0.8888888888888888,
             "#fdca26"
            ],
            [
             1,
             "#f0f921"
            ]
           ]
          },
          "colorway": [
           "#636efa",
           "#EF553B",
           "#00cc96",
           "#ab63fa",
           "#FFA15A",
           "#19d3f3",
           "#FF6692",
           "#B6E880",
           "#FF97FF",
           "#FECB52"
          ],
          "font": {
           "color": "#2a3f5f"
          },
          "geo": {
           "bgcolor": "white",
           "lakecolor": "white",
           "landcolor": "#E5ECF6",
           "showlakes": true,
           "showland": true,
           "subunitcolor": "white"
          },
          "hoverlabel": {
           "align": "left"
          },
          "hovermode": "closest",
          "mapbox": {
           "style": "light"
          },
          "paper_bgcolor": "white",
          "plot_bgcolor": "#E5ECF6",
          "polar": {
           "angularaxis": {
            "gridcolor": "white",
            "linecolor": "white",
            "ticks": ""
           },
           "bgcolor": "#E5ECF6",
           "radialaxis": {
            "gridcolor": "white",
            "linecolor": "white",
            "ticks": ""
           }
          },
          "scene": {
           "xaxis": {
            "backgroundcolor": "#E5ECF6",
            "gridcolor": "white",
            "gridwidth": 2,
            "linecolor": "white",
            "showbackground": true,
            "ticks": "",
            "zerolinecolor": "white"
           },
           "yaxis": {
            "backgroundcolor": "#E5ECF6",
            "gridcolor": "white",
            "gridwidth": 2,
            "linecolor": "white",
            "showbackground": true,
            "ticks": "",
            "zerolinecolor": "white"
           },
           "zaxis": {
            "backgroundcolor": "#E5ECF6",
            "gridcolor": "white",
            "gridwidth": 2,
            "linecolor": "white",
            "showbackground": true,
            "ticks": "",
            "zerolinecolor": "white"
           }
          },
          "shapedefaults": {
           "line": {
            "color": "#2a3f5f"
           }
          },
          "ternary": {
           "aaxis": {
            "gridcolor": "white",
            "linecolor": "white",
            "ticks": ""
           },
           "baxis": {
            "gridcolor": "white",
            "linecolor": "white",
            "ticks": ""
           },
           "bgcolor": "#E5ECF6",
           "caxis": {
            "gridcolor": "white",
            "linecolor": "white",
            "ticks": ""
           }
          },
          "title": {
           "x": 0.05
          },
          "xaxis": {
           "automargin": true,
           "gridcolor": "white",
           "linecolor": "white",
           "ticks": "",
           "title": {
            "standoff": 15
           },
           "zerolinecolor": "white",
           "zerolinewidth": 2
          },
          "yaxis": {
           "automargin": true,
           "gridcolor": "white",
           "linecolor": "white",
           "ticks": "",
           "title": {
            "standoff": 15
           },
           "zerolinecolor": "white",
           "zerolinewidth": 2
          }
         }
        },
        "title": {
         "font": {
          "size": 12,
          "weight": "bold"
         },
         "text": "Our Text2SQL Benchmark dataset to evaluate the performance of open-source llm for coding",
         "x": 0.5
        },
        "width": 1000,
        "xaxis": {
         "anchor": "y",
         "domain": [
          0,
          1
         ],
         "title": {
          "text": "Question"
         }
        },
        "yaxis": {
         "anchor": "x",
         "domain": [
          0,
          1
         ],
         "gridcolor": "lightgrey",
         "title": {
          "text": "Latency (s)"
         }
        }
       }
      }
     },
     "metadata": {},
     "output_type": "display_data"
    }
   ],
   "source": [
    "import plotly.express as px\n",
    "\n",
    "fig = px.bar(df_eval, x='question', y='latency',\n",
    "             hover_data=['framework', 'provider','latency'], \n",
    "             color='model',\n",
    "             labels={'latency':'Latency'}, \n",
    "             height=400,\n",
    "             color_discrete_sequence=[\"#0c63f0\",\"#f35a02\",\"#fae452\"])\n",
    "\n",
    "fig.update_layout(\n",
    "    title=f'Our Text2SQL Benchmark dataset to evaluate the performance of open-source llm for coding',\n",
    "    xaxis_title='Question',\n",
    "    yaxis_title='Latency (s)'\n",
    ")\n",
    "fig.update_layout(title=dict(font_size=12, font_weight='bold', x=0.5))\n",
    "fig.update_layout(plot_bgcolor='rgba(0,0,0,0)', yaxis=dict(gridcolor='lightgrey'), height=600, width=1000)\n",
    "fig.show()"
   ]
  },
  {
   "cell_type": "code",
   "execution_count": null,
   "metadata": {},
   "outputs": [],
   "source": []
  }
 ],
 "metadata": {
  "kernelspec": {
   "display_name": ".venv",
   "language": "python",
   "name": "python3"
  },
  "language_info": {
   "codemirror_mode": {
    "name": "ipython",
    "version": 3
   },
   "file_extension": ".py",
   "mimetype": "text/x-python",
   "name": "python",
   "nbconvert_exporter": "python",
   "pygments_lexer": "ipython3",
   "version": "3.13.1"
  }
 },
 "nbformat": 4,
 "nbformat_minor": 2
}
