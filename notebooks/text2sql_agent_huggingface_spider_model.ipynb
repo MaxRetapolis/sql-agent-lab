{
 "cells": [
  {
   "cell_type": "code",
   "execution_count": null,
   "metadata": {},
   "outputs": [],
   "source": [
    "from transformers import AutoModelForSeq2SeqLM, AutoTokenizer\n",
    "\n",
    "#https://huggingface.co/gaussalgo/T5-LM-Large-text2sql-spider\n",
    "model_path = 'gaussalgo/T5-LM-Large-text2sql-spider'\n",
    "model = AutoModelForSeq2SeqLM.from_pretrained(model_path)\n",
    "tokenizer = AutoTokenizer.from_pretrained(model_path)"
   ]
  },
  {
   "cell_type": "markdown",
   "metadata": {},
   "source": [
    "## Utils"
   ]
  },
  {
   "cell_type": "code",
   "execution_count": 9,
   "metadata": {},
   "outputs": [],
   "source": [
    "def text_2_sql(input_text):\n",
    "    \"\"\" This function takes a natural language question and a schema as input and returns the SQL query\"\"\"\n",
    "    #Encode the input text\n",
    "    model_inputs = tokenizer(input_text, return_tensors=\"pt\")\n",
    "    #Invoke the model\n",
    "    outputs = model.generate(**model_inputs, max_length=512)\n",
    "    #Decode the model outputs\n",
    "    output_text = tokenizer.batch_decode(outputs, skip_special_tokens=True)\n",
    "    return output_text"
   ]
  },
  {
   "cell_type": "markdown",
   "metadata": {},
   "source": [
    "### Example 1"
   ]
  },
  {
   "cell_type": "code",
   "execution_count": 2,
   "metadata": {},
   "outputs": [
    {
     "name": "stdout",
     "output_type": "stream",
     "text": [
      "Question:  What is the average, minimum, and maximum age for all French musicians? Schema: \n",
      "   \"stadium\" \"Stadium_ID\" int , \"Location\" text , \"Name\" text , \"Capacity\" int , \"Highest\" int , \"Lowest\" int , \"Average\" int , foreign_key:  primary key: \"Stadium_ID\" [SEP] \"singer\" \"Singer_ID\" int , \"Name\" text , \"Country\" text , \"Song_Name\" text , \"Song_release_year\" text , \"Age\" int , \"Is_male\" bool , foreign_key:  primary key: \"Singer_ID\" [SEP] \"concert\" \"concert_ID\" int , \"concert_Name\" text , \"Theme\" text , \"Year\" text , foreign_key: \"Stadium_ID\" text from \"stadium\" \"Stadium_ID\" , primary key: \"concert_ID\" [SEP] \"singer_in_concert\"  foreign_key: \"concert_ID\" int from \"concert\" \"concert_ID\" , \"Singer_ID\" text from \"singer\" \"Singer_ID\" , primary key: \"concert_ID\" \"Singer_ID\"\n",
      "\n"
     ]
    }
   ],
   "source": [
    "question = \"What is the average, minimum, and maximum age for all French musicians?\"\n",
    "schema = \"\"\"\n",
    "   \"stadium\" \"Stadium_ID\" int , \"Location\" text , \"Name\" text , \"Capacity\" int , \"Highest\" int , \"Lowest\" int , \"Average\" int , foreign_key:  primary key: \"Stadium_ID\" [SEP] \"singer\" \"Singer_ID\" int , \"Name\" text , \"Country\" text , \"Song_Name\" text , \"Song_release_year\" text , \"Age\" int , \"Is_male\" bool , foreign_key:  primary key: \"Singer_ID\" [SEP] \"concert\" \"concert_ID\" int , \"concert_Name\" text , \"Theme\" text , \"Year\" text , foreign_key: \"Stadium_ID\" text from \"stadium\" \"Stadium_ID\" , primary key: \"concert_ID\" [SEP] \"singer_in_concert\"  foreign_key: \"concert_ID\" int from \"concert\" \"concert_ID\" , \"Singer_ID\" text from \"singer\" \"Singer_ID\" , primary key: \"concert_ID\" \"Singer_ID\"\n",
    "\"\"\"\n",
    "\n",
    "input_text = \" \".join([\"Question: \",question, \"Schema:\", schema])\n",
    "print(input_text)\n"
   ]
  },
  {
   "cell_type": "code",
   "execution_count": 4,
   "metadata": {},
   "outputs": [],
   "source": [
    "# encode the input text\n",
    "model_inputs = tokenizer(input_text, return_tensors=\"pt\")\n",
    "#print(model_inputs)"
   ]
  },
  {
   "cell_type": "code",
   "execution_count": 5,
   "metadata": {},
   "outputs": [],
   "source": [
    "#Invoke the model\n",
    "outputs = model.generate(**model_inputs, max_length=512)\n",
    "#print(outputs) #Latencia 6.1s"
   ]
  },
  {
   "cell_type": "code",
   "execution_count": 6,
   "metadata": {},
   "outputs": [
    {
     "name": "stdout",
     "output_type": "stream",
     "text": [
      "SQL Query:\n",
      "[\"SELECT avg(age), min(age), max(age) FROM singer WHERE country = 'France'\"]\n"
     ]
    }
   ],
   "source": [
    "# Decode the model outputs\n",
    "output_text = tokenizer.batch_decode(outputs, skip_special_tokens=True)\n",
    "print(\"SQL Query:\")\n",
    "print(output_text)"
   ]
  },
  {
   "cell_type": "markdown",
   "metadata": {},
   "source": [
    "Resultado: OK Latencia: 6.1s"
   ]
  },
  {
   "cell_type": "markdown",
   "metadata": {},
   "source": [
    "### Example 2"
   ]
  },
  {
   "cell_type": "code",
   "execution_count": 8,
   "metadata": {},
   "outputs": [
    {
     "name": "stdout",
     "output_type": "stream",
     "text": [
      "Question:  What is the avg_lead_time_days  for the item with the id 1009AA ? Schema: \n",
      "   \n",
      "CREATE TABLE \"Stock\" (\n",
      "\tid TEXT, \n",
      "\tcurrent_stock_quantity FLOAT, \n",
      "\tunits TEXT, \n",
      "\tavg_lead_time_days BIGINT, \n",
      "\tmaximum_lead_time_days BIGINT, \n",
      "\tunit_price FLOAT\n",
      ")\n",
      "\n"
     ]
    }
   ],
   "source": [
    "question = \"What is the avg_lead_time_days  for the item with the id 1009AA ?\"\n",
    "schema = \"\"\"\n",
    "   \n",
    "CREATE TABLE \"Stock\" (\n",
    "\tid TEXT, \n",
    "\tcurrent_stock_quantity FLOAT, \n",
    "\tunits TEXT, \n",
    "\tavg_lead_time_days BIGINT, \n",
    "\tmaximum_lead_time_days BIGINT, \n",
    "\tunit_price FLOAT\n",
    ")\n",
    "\"\"\"\n",
    "\n",
    "input_text = \" \".join([\"Question: \",question, \"Schema:\", schema])\n",
    "print(input_text)"
   ]
  },
  {
   "cell_type": "code",
   "execution_count": 10,
   "metadata": {},
   "outputs": [
    {
     "data": {
      "text/plain": [
       "['SELECT avg_lead_time_days FROM stock WHERE id = 1009AA']"
      ]
     },
     "execution_count": 10,
     "metadata": {},
     "output_type": "execute_result"
    }
   ],
   "source": [
    "text_2_sql(input_text)"
   ]
  },
  {
   "cell_type": "markdown",
   "metadata": {},
   "source": [
    "Resultado: OK Latencia: 3.3s"
   ]
  },
  {
   "cell_type": "markdown",
   "metadata": {},
   "source": [
    "### Benchmark"
   ]
  },
  {
   "cell_type": "code",
   "execution_count": 38,
   "metadata": {},
   "outputs": [],
   "source": [
    "import json\n",
    "import glob\n",
    "\n",
    "def load_benchmark(benchmark_path):\n",
    "    \"\"\" This function loads the benchmark dataset\"\"\"\n",
    "    questions = []\n",
    "    expected_sql = []\n",
    "    with open(benchmark_path, 'r', encoding='utf-8') as f:\n",
    "        try:\n",
    "            datos = json.load(f)\n",
    "            questions.extend(datos.keys())\n",
    "            expected_sql.extend(datos.values())\n",
    "        except Exception as e:\n",
    "            print(f,e)\n",
    "    return questions, expected_sql\n",
    "\n",
    "questions , expected_sql = load_benchmark(\"../tests/dataset_queries_en.json\")"
   ]
  },
  {
   "cell_type": "code",
   "execution_count": 39,
   "metadata": {},
   "outputs": [
    {
     "data": {
      "text/plain": [
       "['Get all records from the Stock table',\n",
       " 'List the IDs of products in stock with their current quantity',\n",
       " 'Get the average unit price of all products in stock',\n",
       " 'Find products with more than 10,000 units in stock',\n",
       " 'Get the total quantity of products in stock',\n",
       " 'List orders placed in the year 2023',\n",
       " 'Get the product with the highest maximum lead time',\n",
       " 'List products whose unit price is above the average',\n",
       " 'Get the total number of orders per product',\n",
       " 'List products in stock that have been ordered at least once']"
      ]
     },
     "execution_count": 39,
     "metadata": {},
     "output_type": "execute_result"
    }
   ],
   "source": [
    "questions"
   ]
  },
  {
   "cell_type": "code",
   "execution_count": 40,
   "metadata": {},
   "outputs": [
    {
     "data": {
      "text/plain": [
       "['SELECT * FROM Stock;',\n",
       " 'SELECT id, current_stock_quantity FROM Stock;',\n",
       " 'SELECT AVG(unit_price) AS avg_unit_price FROM Stock;',\n",
       " 'SELECT id, current_stock_quantity FROM Stock WHERE current_stock_quantity > 10000;',\n",
       " 'SELECT SUM(current_stock_quantity) AS total_stock FROM Stock;',\n",
       " \"SELECT * FROM Orders WHERE strftime('%Y', date) = '2023';\",\n",
       " 'SELECT id, maximum_lead_time_days FROM Stock ORDER BY maximum_lead_time_days DESC LIMIT 1;',\n",
       " 'SELECT id, unit_price FROM Stock WHERE unit_price > (SELECT AVG(unit_price) FROM Stock);',\n",
       " 'SELECT id, COUNT(*) AS total_orders FROM Orders GROUP BY id;',\n",
       " 'SELECT DISTINCT s.id, s.current_stock_quantity FROM Stock s JOIN Orders o ON s.id = o.id;']"
      ]
     },
     "execution_count": 40,
     "metadata": {},
     "output_type": "execute_result"
    }
   ],
   "source": [
    "expected_sql"
   ]
  },
  {
   "cell_type": "markdown",
   "metadata": {},
   "source": [
    "* Test cases"
   ]
  },
  {
   "cell_type": "code",
   "execution_count": 44,
   "metadata": {},
   "outputs": [],
   "source": [
    "import pandas as pd\n",
    "import time\n",
    "\n",
    "def eval_benchmark(schema:str, benchmark_path:str)->pd.DataFrame:\n",
    "\t\"\"\" This function evaluates the benchmark dataset\"\"\"\n",
    "\n",
    "\t# Load the benchmark dataset\n",
    "\tquestions , expected_sql = load_benchmark(benchmark_path)\n",
    "\t# Create a dataframe to store the results\n",
    "\tdf = pd.DataFrame({\"question\":questions, \"expected_sql\":expected_sql})\n",
    "\n",
    "\tlatencies = []\n",
    "\tanswers = []\n",
    "\tfor index, row in df.iterrows():\n",
    "\t\ttry:\n",
    "\t\t\tquestion = row[\"question\"]\n",
    "\t\t\texpected_sql = row[\"expected_sql\"]\n",
    "\t\t\t# Prepare the input text for the model adding the question and the schema\n",
    "\t\t\tinput_text = \" \".join([\"Question: \",question, \"Schema:\", schema])\n",
    "\t\t\t# Measure the latency\n",
    "\t\t\tstart_time = time.time()\n",
    "\t\t\t# Invoke the model\n",
    "\t\t\tpredicted_sql = text_2_sql(input_text)\n",
    "\t\t\t# Measure the latency\n",
    "\t\t\tlatency = time.time() - start_time\n",
    "\t\t\tlatencies.append(latency)\n",
    "\t\t\t# Store the predicted SQL query\n",
    "\t\t\tanswers.append(predicted_sql)\n",
    "\t\texcept Exception as e:\n",
    "\t\t\tanswers.append(\"ERROR\")\n",
    "\t\t\tlatencies.append(-1)\n",
    "\t\t\tprint(f\"Error processing question: {question}\")\n",
    "\n",
    "\t# Store the results in the dataframe\n",
    "\tdf[\"predicted_sql\"] = answers\n",
    "\tdf[\"latency\"] = latencies\n",
    "\treturn df"
   ]
  },
  {
   "cell_type": "markdown",
   "metadata": {},
   "source": [
    "### Evaluation\n",
    "\n"
   ]
  },
  {
   "cell_type": "code",
   "execution_count": 45,
   "metadata": {},
   "outputs": [],
   "source": [
    "schema = \"\"\"\n",
    "   \n",
    "CREATE TABLE \"Stock\" (\n",
    "\tid TEXT, \n",
    "\tcurrent_stock_quantity FLOAT, \n",
    "\tunits TEXT, \n",
    "\tavg_lead_time_days BIGINT, \n",
    "\tmaximum_lead_time_days BIGINT, \n",
    "\tunit_price FLOAT\n",
    ")\n",
    "\n",
    "CREATE TABLE \"Orders\" (\n",
    "\tdate DATETIME, \n",
    "\tid TEXT, \n",
    "\tquantity FLOAT\n",
    ")\n",
    "\"\"\""
   ]
  },
  {
   "cell_type": "code",
   "execution_count": 46,
   "metadata": {},
   "outputs": [],
   "source": [
    "df_eval = eval_benchmark(schema, \"../tests/dataset_queries_en.json\")"
   ]
  },
  {
   "cell_type": "code",
   "execution_count": 48,
   "metadata": {},
   "outputs": [
    {
     "data": {
      "text/html": [
       "<div>\n",
       "<style scoped>\n",
       "    .dataframe tbody tr th:only-of-type {\n",
       "        vertical-align: middle;\n",
       "    }\n",
       "\n",
       "    .dataframe tbody tr th {\n",
       "        vertical-align: top;\n",
       "    }\n",
       "\n",
       "    .dataframe thead th {\n",
       "        text-align: right;\n",
       "    }\n",
       "</style>\n",
       "<table border=\"1\" class=\"dataframe\">\n",
       "  <thead>\n",
       "    <tr style=\"text-align: right;\">\n",
       "      <th></th>\n",
       "      <th>question</th>\n",
       "      <th>expected_sql</th>\n",
       "      <th>predicted_sql</th>\n",
       "      <th>latency</th>\n",
       "    </tr>\n",
       "  </thead>\n",
       "  <tbody>\n",
       "    <tr>\n",
       "      <th>0</th>\n",
       "      <td>Get all records from the Stock table</td>\n",
       "      <td>SELECT * FROM Stock;</td>\n",
       "      <td>[SELECT * FROM Stock]</td>\n",
       "      <td>1.266961</td>\n",
       "    </tr>\n",
       "    <tr>\n",
       "      <th>1</th>\n",
       "      <td>List the IDs of products in stock with their c...</td>\n",
       "      <td>SELECT id, current_stock_quantity FROM Stock;</td>\n",
       "      <td>[SELECT id FROM stock AND current_stock_quanti...</td>\n",
       "      <td>2.375918</td>\n",
       "    </tr>\n",
       "    <tr>\n",
       "      <th>2</th>\n",
       "      <td>Get the average unit price of all products in ...</td>\n",
       "      <td>SELECT AVG(unit_price) AS avg_unit_price FROM ...</td>\n",
       "      <td>[SELECT avg(unit_price) FROM stock]</td>\n",
       "      <td>2.060799</td>\n",
       "    </tr>\n",
       "    <tr>\n",
       "      <th>3</th>\n",
       "      <td>Find products with more than 10,000 units in s...</td>\n",
       "      <td>SELECT id, current_stock_quantity FROM Stock W...</td>\n",
       "      <td>[SELECT product FROM stock WHERE units &gt; 10,000]</td>\n",
       "      <td>1.884214</td>\n",
       "    </tr>\n",
       "    <tr>\n",
       "      <th>4</th>\n",
       "      <td>Get the total quantity of products in stock</td>\n",
       "      <td>SELECT SUM(current_stock_quantity) AS total_st...</td>\n",
       "      <td>[SELECT sum(units) FROM stock]</td>\n",
       "      <td>1.629552</td>\n",
       "    </tr>\n",
       "    <tr>\n",
       "      <th>5</th>\n",
       "      <td>List orders placed in the year 2023</td>\n",
       "      <td>SELECT * FROM Orders WHERE strftime('%Y', date...</td>\n",
       "      <td>[SELECT order_id FROM orders WHERE date LIKE \"...</td>\n",
       "      <td>2.491136</td>\n",
       "    </tr>\n",
       "    <tr>\n",
       "      <th>6</th>\n",
       "      <td>Get the product with the highest maximum lead ...</td>\n",
       "      <td>SELECT id, maximum_lead_time_days FROM Stock O...</td>\n",
       "      <td>[SELECT product FROM stock ORDER BY max_lead_t...</td>\n",
       "      <td>3.059936</td>\n",
       "    </tr>\n",
       "    <tr>\n",
       "      <th>7</th>\n",
       "      <td>List products whose unit price is above the av...</td>\n",
       "      <td>SELECT id, unit_price FROM Stock WHERE unit_pr...</td>\n",
       "      <td>[SELECT product FROM stock WHERE unit_price &gt; ...</td>\n",
       "      <td>3.819206</td>\n",
       "    </tr>\n",
       "    <tr>\n",
       "      <th>8</th>\n",
       "      <td>Get the total number of orders per product</td>\n",
       "      <td>SELECT id, COUNT(*) AS total_orders FROM Order...</td>\n",
       "      <td>[SELECT sum(t1.quantity), t2.product_id FROM o...</td>\n",
       "      <td>6.866213</td>\n",
       "    </tr>\n",
       "    <tr>\n",
       "      <th>9</th>\n",
       "      <td>List products in stock that have been ordered ...</td>\n",
       "      <td>SELECT DISTINCT s.id, s.current_stock_quantity...</td>\n",
       "      <td>[SELECT DISTINCT T2.product_id FROM orders AS ...</td>\n",
       "      <td>7.005002</td>\n",
       "    </tr>\n",
       "  </tbody>\n",
       "</table>\n",
       "</div>"
      ],
      "text/plain": [
       "                                            question  \\\n",
       "0               Get all records from the Stock table   \n",
       "1  List the IDs of products in stock with their c...   \n",
       "2  Get the average unit price of all products in ...   \n",
       "3  Find products with more than 10,000 units in s...   \n",
       "4        Get the total quantity of products in stock   \n",
       "5                List orders placed in the year 2023   \n",
       "6  Get the product with the highest maximum lead ...   \n",
       "7  List products whose unit price is above the av...   \n",
       "8         Get the total number of orders per product   \n",
       "9  List products in stock that have been ordered ...   \n",
       "\n",
       "                                        expected_sql  \\\n",
       "0                               SELECT * FROM Stock;   \n",
       "1      SELECT id, current_stock_quantity FROM Stock;   \n",
       "2  SELECT AVG(unit_price) AS avg_unit_price FROM ...   \n",
       "3  SELECT id, current_stock_quantity FROM Stock W...   \n",
       "4  SELECT SUM(current_stock_quantity) AS total_st...   \n",
       "5  SELECT * FROM Orders WHERE strftime('%Y', date...   \n",
       "6  SELECT id, maximum_lead_time_days FROM Stock O...   \n",
       "7  SELECT id, unit_price FROM Stock WHERE unit_pr...   \n",
       "8  SELECT id, COUNT(*) AS total_orders FROM Order...   \n",
       "9  SELECT DISTINCT s.id, s.current_stock_quantity...   \n",
       "\n",
       "                                       predicted_sql   latency  \n",
       "0                              [SELECT * FROM Stock]  1.266961  \n",
       "1  [SELECT id FROM stock AND current_stock_quanti...  2.375918  \n",
       "2                [SELECT avg(unit_price) FROM stock]  2.060799  \n",
       "3   [SELECT product FROM stock WHERE units > 10,000]  1.884214  \n",
       "4                     [SELECT sum(units) FROM stock]  1.629552  \n",
       "5  [SELECT order_id FROM orders WHERE date LIKE \"...  2.491136  \n",
       "6  [SELECT product FROM stock ORDER BY max_lead_t...  3.059936  \n",
       "7  [SELECT product FROM stock WHERE unit_price > ...  3.819206  \n",
       "8  [SELECT sum(t1.quantity), t2.product_id FROM o...  6.866213  \n",
       "9  [SELECT DISTINCT T2.product_id FROM orders AS ...  7.005002  "
      ]
     },
     "execution_count": 48,
     "metadata": {},
     "output_type": "execute_result"
    }
   ],
   "source": [
    "df_eval.head(10)"
   ]
  },
  {
   "cell_type": "code",
   "execution_count": 49,
   "metadata": {},
   "outputs": [],
   "source": [
    "df_eval.to_csv(\"../tests/df_benchmark_results.csv\", index=False)"
   ]
  },
  {
   "cell_type": "code",
   "execution_count": 65,
   "metadata": {},
   "outputs": [
    {
     "data": {
      "application/vnd.plotly.v1+json": {
       "config": {
        "plotlyServerURL": "https://plot.ly"
       },
       "data": [
        {
         "marker": {
          "color": "#009999",
          "line": {
           "color": "#3DD2CF",
           "width": 2
          }
         },
         "type": "bar",
         "x": [
          "Get all records from the Stock table",
          "List the IDs of products in stock with their current quantity",
          "Get the average unit price of all products in stock",
          "Find products with more than 10,000 units in stock",
          "Get the total quantity of products in stock",
          "List orders placed in the year 2023",
          "Get the product with the highest maximum lead time",
          "List products whose unit price is above the average",
          "Get the total number of orders per product",
          "List products in stock that have been ordered at least once"
         ],
         "y": {
          "bdata": "AAAAQHlF9D8AAABg4QEDQAAAAGCEfABAAAAAAL4l/j8AAACApRL6PwAAAMDY7QNAAAAAwL96CEAAAADAu40OQAAAAIAAdxtAAAAAUB8FHEA=",
          "dtype": "f8"
         }
        }
       ],
       "layout": {
        "height": 600,
        "plot_bgcolor": "rgba(0,0,0,0)",
        "template": {
         "data": {
          "bar": [
           {
            "error_x": {
             "color": "#2a3f5f"
            },
            "error_y": {
             "color": "#2a3f5f"
            },
            "marker": {
             "line": {
              "color": "#E5ECF6",
              "width": 0.5
             },
             "pattern": {
              "fillmode": "overlay",
              "size": 10,
              "solidity": 0.2
             }
            },
            "type": "bar"
           }
          ],
          "barpolar": [
           {
            "marker": {
             "line": {
              "color": "#E5ECF6",
              "width": 0.5
             },
             "pattern": {
              "fillmode": "overlay",
              "size": 10,
              "solidity": 0.2
             }
            },
            "type": "barpolar"
           }
          ],
          "carpet": [
           {
            "aaxis": {
             "endlinecolor": "#2a3f5f",
             "gridcolor": "white",
             "linecolor": "white",
             "minorgridcolor": "white",
             "startlinecolor": "#2a3f5f"
            },
            "baxis": {
             "endlinecolor": "#2a3f5f",
             "gridcolor": "white",
             "linecolor": "white",
             "minorgridcolor": "white",
             "startlinecolor": "#2a3f5f"
            },
            "type": "carpet"
           }
          ],
          "choropleth": [
           {
            "colorbar": {
             "outlinewidth": 0,
             "ticks": ""
            },
            "type": "choropleth"
           }
          ],
          "contour": [
           {
            "colorbar": {
             "outlinewidth": 0,
             "ticks": ""
            },
            "colorscale": [
             [
              0,
              "#0d0887"
             ],
             [
              0.1111111111111111,
              "#46039f"
             ],
             [
              0.2222222222222222,
              "#7201a8"
             ],
             [
              0.3333333333333333,
              "#9c179e"
             ],
             [
              0.4444444444444444,
              "#bd3786"
             ],
             [
              0.5555555555555556,
              "#d8576b"
             ],
             [
              0.6666666666666666,
              "#ed7953"
             ],
             [
              0.7777777777777778,
              "#fb9f3a"
             ],
             [
              0.8888888888888888,
              "#fdca26"
             ],
             [
              1,
              "#f0f921"
             ]
            ],
            "type": "contour"
           }
          ],
          "contourcarpet": [
           {
            "colorbar": {
             "outlinewidth": 0,
             "ticks": ""
            },
            "type": "contourcarpet"
           }
          ],
          "heatmap": [
           {
            "colorbar": {
             "outlinewidth": 0,
             "ticks": ""
            },
            "colorscale": [
             [
              0,
              "#0d0887"
             ],
             [
              0.1111111111111111,
              "#46039f"
             ],
             [
              0.2222222222222222,
              "#7201a8"
             ],
             [
              0.3333333333333333,
              "#9c179e"
             ],
             [
              0.4444444444444444,
              "#bd3786"
             ],
             [
              0.5555555555555556,
              "#d8576b"
             ],
             [
              0.6666666666666666,
              "#ed7953"
             ],
             [
              0.7777777777777778,
              "#fb9f3a"
             ],
             [
              0.8888888888888888,
              "#fdca26"
             ],
             [
              1,
              "#f0f921"
             ]
            ],
            "type": "heatmap"
           }
          ],
          "histogram": [
           {
            "marker": {
             "pattern": {
              "fillmode": "overlay",
              "size": 10,
              "solidity": 0.2
             }
            },
            "type": "histogram"
           }
          ],
          "histogram2d": [
           {
            "colorbar": {
             "outlinewidth": 0,
             "ticks": ""
            },
            "colorscale": [
             [
              0,
              "#0d0887"
             ],
             [
              0.1111111111111111,
              "#46039f"
             ],
             [
              0.2222222222222222,
              "#7201a8"
             ],
             [
              0.3333333333333333,
              "#9c179e"
             ],
             [
              0.4444444444444444,
              "#bd3786"
             ],
             [
              0.5555555555555556,
              "#d8576b"
             ],
             [
              0.6666666666666666,
              "#ed7953"
             ],
             [
              0.7777777777777778,
              "#fb9f3a"
             ],
             [
              0.8888888888888888,
              "#fdca26"
             ],
             [
              1,
              "#f0f921"
             ]
            ],
            "type": "histogram2d"
           }
          ],
          "histogram2dcontour": [
           {
            "colorbar": {
             "outlinewidth": 0,
             "ticks": ""
            },
            "colorscale": [
             [
              0,
              "#0d0887"
             ],
             [
              0.1111111111111111,
              "#46039f"
             ],
             [
              0.2222222222222222,
              "#7201a8"
             ],
             [
              0.3333333333333333,
              "#9c179e"
             ],
             [
              0.4444444444444444,
              "#bd3786"
             ],
             [
              0.5555555555555556,
              "#d8576b"
             ],
             [
              0.6666666666666666,
              "#ed7953"
             ],
             [
              0.7777777777777778,
              "#fb9f3a"
             ],
             [
              0.8888888888888888,
              "#fdca26"
             ],
             [
              1,
              "#f0f921"
             ]
            ],
            "type": "histogram2dcontour"
           }
          ],
          "mesh3d": [
           {
            "colorbar": {
             "outlinewidth": 0,
             "ticks": ""
            },
            "type": "mesh3d"
           }
          ],
          "parcoords": [
           {
            "line": {
             "colorbar": {
              "outlinewidth": 0,
              "ticks": ""
             }
            },
            "type": "parcoords"
           }
          ],
          "pie": [
           {
            "automargin": true,
            "type": "pie"
           }
          ],
          "scatter": [
           {
            "fillpattern": {
             "fillmode": "overlay",
             "size": 10,
             "solidity": 0.2
            },
            "type": "scatter"
           }
          ],
          "scatter3d": [
           {
            "line": {
             "colorbar": {
              "outlinewidth": 0,
              "ticks": ""
             }
            },
            "marker": {
             "colorbar": {
              "outlinewidth": 0,
              "ticks": ""
             }
            },
            "type": "scatter3d"
           }
          ],
          "scattercarpet": [
           {
            "marker": {
             "colorbar": {
              "outlinewidth": 0,
              "ticks": ""
             }
            },
            "type": "scattercarpet"
           }
          ],
          "scattergeo": [
           {
            "marker": {
             "colorbar": {
              "outlinewidth": 0,
              "ticks": ""
             }
            },
            "type": "scattergeo"
           }
          ],
          "scattergl": [
           {
            "marker": {
             "colorbar": {
              "outlinewidth": 0,
              "ticks": ""
             }
            },
            "type": "scattergl"
           }
          ],
          "scattermap": [
           {
            "marker": {
             "colorbar": {
              "outlinewidth": 0,
              "ticks": ""
             }
            },
            "type": "scattermap"
           }
          ],
          "scattermapbox": [
           {
            "marker": {
             "colorbar": {
              "outlinewidth": 0,
              "ticks": ""
             }
            },
            "type": "scattermapbox"
           }
          ],
          "scatterpolar": [
           {
            "marker": {
             "colorbar": {
              "outlinewidth": 0,
              "ticks": ""
             }
            },
            "type": "scatterpolar"
           }
          ],
          "scatterpolargl": [
           {
            "marker": {
             "colorbar": {
              "outlinewidth": 0,
              "ticks": ""
             }
            },
            "type": "scatterpolargl"
           }
          ],
          "scatterternary": [
           {
            "marker": {
             "colorbar": {
              "outlinewidth": 0,
              "ticks": ""
             }
            },
            "type": "scatterternary"
           }
          ],
          "surface": [
           {
            "colorbar": {
             "outlinewidth": 0,
             "ticks": ""
            },
            "colorscale": [
             [
              0,
              "#0d0887"
             ],
             [
              0.1111111111111111,
              "#46039f"
             ],
             [
              0.2222222222222222,
              "#7201a8"
             ],
             [
              0.3333333333333333,
              "#9c179e"
             ],
             [
              0.4444444444444444,
              "#bd3786"
             ],
             [
              0.5555555555555556,
              "#d8576b"
             ],
             [
              0.6666666666666666,
              "#ed7953"
             ],
             [
              0.7777777777777778,
              "#fb9f3a"
             ],
             [
              0.8888888888888888,
              "#fdca26"
             ],
             [
              1,
              "#f0f921"
             ]
            ],
            "type": "surface"
           }
          ],
          "table": [
           {
            "cells": {
             "fill": {
              "color": "#EBF0F8"
             },
             "line": {
              "color": "white"
             }
            },
            "header": {
             "fill": {
              "color": "#C8D4E3"
             },
             "line": {
              "color": "white"
             }
            },
            "type": "table"
           }
          ]
         },
         "layout": {
          "annotationdefaults": {
           "arrowcolor": "#2a3f5f",
           "arrowhead": 0,
           "arrowwidth": 1
          },
          "autotypenumbers": "strict",
          "coloraxis": {
           "colorbar": {
            "outlinewidth": 0,
            "ticks": ""
           }
          },
          "colorscale": {
           "diverging": [
            [
             0,
             "#8e0152"
            ],
            [
             0.1,
             "#c51b7d"
            ],
            [
             0.2,
             "#de77ae"
            ],
            [
             0.3,
             "#f1b6da"
            ],
            [
             0.4,
             "#fde0ef"
            ],
            [
             0.5,
             "#f7f7f7"
            ],
            [
             0.6,
             "#e6f5d0"
            ],
            [
             0.7,
             "#b8e186"
            ],
            [
             0.8,
             "#7fbc41"
            ],
            [
             0.9,
             "#4d9221"
            ],
            [
             1,
             "#276419"
            ]
           ],
           "sequential": [
            [
             0,
             "#0d0887"
            ],
            [
             0.1111111111111111,
             "#46039f"
            ],
            [
             0.2222222222222222,
             "#7201a8"
            ],
            [
             0.3333333333333333,
             "#9c179e"
            ],
            [
             0.4444444444444444,
             "#bd3786"
            ],
            [
             0.5555555555555556,
             "#d8576b"
            ],
            [
             0.6666666666666666,
             "#ed7953"
            ],
            [
             0.7777777777777778,
             "#fb9f3a"
            ],
            [
             0.8888888888888888,
             "#fdca26"
            ],
            [
             1,
             "#f0f921"
            ]
           ],
           "sequentialminus": [
            [
             0,
             "#0d0887"
            ],
            [
             0.1111111111111111,
             "#46039f"
            ],
            [
             0.2222222222222222,
             "#7201a8"
            ],
            [
             0.3333333333333333,
             "#9c179e"
            ],
            [
             0.4444444444444444,
             "#bd3786"
            ],
            [
             0.5555555555555556,
             "#d8576b"
            ],
            [
             0.6666666666666666,
             "#ed7953"
            ],
            [
             0.7777777777777778,
             "#fb9f3a"
            ],
            [
             0.8888888888888888,
             "#fdca26"
            ],
            [
             1,
             "#f0f921"
            ]
           ]
          },
          "colorway": [
           "#636efa",
           "#EF553B",
           "#00cc96",
           "#ab63fa",
           "#FFA15A",
           "#19d3f3",
           "#FF6692",
           "#B6E880",
           "#FF97FF",
           "#FECB52"
          ],
          "font": {
           "color": "#2a3f5f"
          },
          "geo": {
           "bgcolor": "white",
           "lakecolor": "white",
           "landcolor": "#E5ECF6",
           "showlakes": true,
           "showland": true,
           "subunitcolor": "white"
          },
          "hoverlabel": {
           "align": "left"
          },
          "hovermode": "closest",
          "mapbox": {
           "style": "light"
          },
          "paper_bgcolor": "white",
          "plot_bgcolor": "#E5ECF6",
          "polar": {
           "angularaxis": {
            "gridcolor": "white",
            "linecolor": "white",
            "ticks": ""
           },
           "bgcolor": "#E5ECF6",
           "radialaxis": {
            "gridcolor": "white",
            "linecolor": "white",
            "ticks": ""
           }
          },
          "scene": {
           "xaxis": {
            "backgroundcolor": "#E5ECF6",
            "gridcolor": "white",
            "gridwidth": 2,
            "linecolor": "white",
            "showbackground": true,
            "ticks": "",
            "zerolinecolor": "white"
           },
           "yaxis": {
            "backgroundcolor": "#E5ECF6",
            "gridcolor": "white",
            "gridwidth": 2,
            "linecolor": "white",
            "showbackground": true,
            "ticks": "",
            "zerolinecolor": "white"
           },
           "zaxis": {
            "backgroundcolor": "#E5ECF6",
            "gridcolor": "white",
            "gridwidth": 2,
            "linecolor": "white",
            "showbackground": true,
            "ticks": "",
            "zerolinecolor": "white"
           }
          },
          "shapedefaults": {
           "line": {
            "color": "#2a3f5f"
           }
          },
          "ternary": {
           "aaxis": {
            "gridcolor": "white",
            "linecolor": "white",
            "ticks": ""
           },
           "baxis": {
            "gridcolor": "white",
            "linecolor": "white",
            "ticks": ""
           },
           "bgcolor": "#E5ECF6",
           "caxis": {
            "gridcolor": "white",
            "linecolor": "white",
            "ticks": ""
           }
          },
          "title": {
           "x": 0.05
          },
          "xaxis": {
           "automargin": true,
           "gridcolor": "white",
           "linecolor": "white",
           "ticks": "",
           "title": {
            "standoff": 15
           },
           "zerolinecolor": "white",
           "zerolinewidth": 2
          },
          "yaxis": {
           "automargin": true,
           "gridcolor": "white",
           "linecolor": "white",
           "ticks": "",
           "title": {
            "standoff": 15
           },
           "zerolinecolor": "white",
           "zerolinewidth": 2
          }
         }
        },
        "title": {
         "font": {
          "size": 12,
          "weight": "bold"
         },
         "text": "Our Text2SQL Benchmark dataset to evaluate the performance of gaussalgo/T5-LM-Large-text2sql-spider",
         "x": 0.5
        },
        "width": 1000,
        "xaxis": {
         "title": {
          "text": "Question"
         }
        },
        "yaxis": {
         "gridcolor": "lightgrey",
         "title": {
          "text": "Latency (s)"
         }
        }
       }
      }
     },
     "metadata": {},
     "output_type": "display_data"
    }
   ],
   "source": [
    "import plotly.graph_objects as go\n",
    "\n",
    "# Crear figura\n",
    "fig = go.Figure(data=[go.Bar(x=df_eval.question, y=df_eval.latency)])\n",
    "\n",
    "# Configurar ejes\n",
    "fig.update_layout(\n",
    "    title=f'Our Text2SQL Benchmark dataset to evaluate the performance of {model_path}',\n",
    "    xaxis_title='Question',\n",
    "    yaxis_title='Latency (s)'\n",
    ")\n",
    "fig.update_layout(title=dict(font_size=12, font_weight='bold', x=0.5))\n",
    "fig.update_traces(marker_line_color='#3DD2CF', marker_line_width=2, marker_color=\"#009999\")\n",
    "fig.update_layout(plot_bgcolor='rgba(0,0,0,0)', yaxis=dict(gridcolor='lightgrey'), height=600, width=1000)\n",
    "\n",
    "# Mostrar figura\n",
    "fig.show()"
   ]
  },
  {
   "cell_type": "markdown",
   "metadata": {},
   "source": [
    "TODO: Falta evaluar si la SQL query generada es correcta o no. (Ver excel y pensar en la forma de autoevaluar esto)"
   ]
  }
 ],
 "metadata": {
  "kernelspec": {
   "display_name": ".venv",
   "language": "python",
   "name": "python3"
  },
  "language_info": {
   "codemirror_mode": {
    "name": "ipython",
    "version": 3
   },
   "file_extension": ".py",
   "mimetype": "text/x-python",
   "name": "python",
   "nbconvert_exporter": "python",
   "pygments_lexer": "ipython3",
   "version": "3.13.1"
  }
 },
 "nbformat": 4,
 "nbformat_minor": 2
}
