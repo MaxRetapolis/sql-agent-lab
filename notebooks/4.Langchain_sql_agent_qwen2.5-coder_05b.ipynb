{
 "cells": [
  {
   "cell_type": "markdown",
   "metadata": {},
   "source": [
    "### Database connection"
   ]
  },
  {
   "cell_type": "code",
   "execution_count": 1,
   "metadata": {},
   "outputs": [],
   "source": [
    "from langchain_community.utilities import SQLDatabase"
   ]
  },
  {
   "cell_type": "code",
   "execution_count": 2,
   "metadata": {},
   "outputs": [
    {
     "name": "stdout",
     "output_type": "stream",
     "text": [
      "dialect: sqlite\n",
      "tables: ['Orders', 'Stock']\n"
     ]
    }
   ],
   "source": [
    "db_path = '../data/inventory.db'\n",
    "db = SQLDatabase.from_uri(f\"sqlite:///{db_path}\")\n",
    "print(\"dialect:\", db.dialect)\n",
    "print(\"tables:\", db.get_usable_table_names())"
   ]
  },
  {
   "cell_type": "code",
   "execution_count": 3,
   "metadata": {},
   "outputs": [
    {
     "name": "stdout",
     "output_type": "stream",
     "text": [
      "[('1009AA', 7210.0, 'Kg', 30, 48, 28.76326)]\n"
     ]
    }
   ],
   "source": [
    "records = db.run(\"SELECT * FROM Stock LIMIT 1\")\n",
    "print(records)"
   ]
  },
  {
   "cell_type": "code",
   "execution_count": 4,
   "metadata": {},
   "outputs": [
    {
     "name": "stdout",
     "output_type": "stream",
     "text": [
      "\n",
      "CREATE TABLE \"Stock\" (\n",
      "\tid TEXT, \n",
      "\tcurrent_stock_quantity FLOAT, \n",
      "\tunits TEXT, \n",
      "\tavg_lead_time_days BIGINT, \n",
      "\tmaximum_lead_time_days BIGINT, \n",
      "\tunit_price FLOAT\n",
      ")\n",
      "\n",
      "/*\n",
      "3 rows from Stock table:\n",
      "id\tcurrent_stock_quantity\tunits\tavg_lead_time_days\tmaximum_lead_time_days\tunit_price\n",
      "1009AA\t7210.0\tKg\t30\t48\t28.76326\n",
      "1077CA\t46516.0\tKg\t45\t70\t22.9777\n",
      "1083AA\t48210.0\tKg\t45\t68\t29.02\n",
      "*/\n"
     ]
    }
   ],
   "source": [
    "info = db.get_table_info([\"Stock\"])\n",
    "print(info)"
   ]
  },
  {
   "cell_type": "code",
   "execution_count": 5,
   "metadata": {},
   "outputs": [
    {
     "name": "stdout",
     "output_type": "stream",
     "text": [
      "[('2022-11-19 00:00:00.000000', '3084CA', 1.0)]\n"
     ]
    }
   ],
   "source": [
    "records = db.run(\"SELECT * FROM Orders LIMIT 1\")\n",
    "print(records)"
   ]
  },
  {
   "cell_type": "code",
   "execution_count": 6,
   "metadata": {},
   "outputs": [
    {
     "name": "stdout",
     "output_type": "stream",
     "text": [
      "\n",
      "CREATE TABLE \"Orders\" (\n",
      "\tdate DATETIME, \n",
      "\tid TEXT, \n",
      "\tquantity FLOAT\n",
      ")\n",
      "\n",
      "/*\n",
      "3 rows from Orders table:\n",
      "date\tid\tquantity\n",
      "2022-11-19 00:00:00\t3084CA\t1.0\n",
      "2022-06-30 00:00:00\t2621AA\t20.0\n",
      "2023-04-19 00:00:00\t1193BA\t147.0\n",
      "*/\n"
     ]
    }
   ],
   "source": [
    "info = db.get_table_info([\"Orders\"])\n",
    "print(info)\n"
   ]
  },
  {
   "cell_type": "markdown",
   "metadata": {},
   "source": [
    "### LLM"
   ]
  },
  {
   "cell_type": "code",
   "execution_count": 7,
   "metadata": {},
   "outputs": [],
   "source": [
    "from langchain_ollama import ChatOllama\n",
    "\n",
    "#https://ollama.com/library/qwen2.5-coder:0.5b\n",
    "\n",
    "llm = ChatOllama(model=\"qwen2.5-coder:0.5b\")"
   ]
  },
  {
   "cell_type": "markdown",
   "metadata": {},
   "source": [
    "### Tools"
   ]
  },
  {
   "cell_type": "code",
   "execution_count": 8,
   "metadata": {},
   "outputs": [
    {
     "data": {
      "text/plain": [
       "SQLDatabaseToolkit(db=<langchain_community.utilities.sql_database.SQLDatabase object at 0x0000024F42270980>, llm=ChatOllama(model='qwen2.5-coder:0.5b'))"
      ]
     },
     "execution_count": 8,
     "metadata": {},
     "output_type": "execute_result"
    }
   ],
   "source": [
    "# tools\n",
    "from langchain.agents.agent_toolkits import SQLDatabaseToolkit\n",
    "\n",
    "toolkit = SQLDatabaseToolkit(db=db, llm=llm)\n",
    "toolkit"
   ]
  },
  {
   "cell_type": "markdown",
   "metadata": {},
   "source": [
    "### SQL agent"
   ]
  },
  {
   "cell_type": "code",
   "execution_count": 9,
   "metadata": {},
   "outputs": [],
   "source": [
    "from langchain_community.agent_toolkits import create_sql_agent\n",
    "\n",
    "agent_executor = create_sql_agent(llm, db=db,agent_type=\"openai-tools\",verbose=True)\n"
   ]
  },
  {
   "cell_type": "markdown",
   "metadata": {},
   "source": [
    "#### Example 1"
   ]
  },
  {
   "cell_type": "code",
   "execution_count": 10,
   "metadata": {},
   "outputs": [
    {
     "name": "stdout",
     "output_type": "stream",
     "text": [
      "\n",
      "\n",
      "\u001b[1m> Entering new SQL Agent Executor chain...\u001b[0m\n",
      "\u001b[32;1m\u001b[1;3m  Finally, I should use sql_db_query_checker to double check if my query is correct before executing it.\u001b[0m\n",
      "\n",
      "\u001b[1m> Finished chain.\u001b[0m\n",
      "response: {'input': 'How many orders are there in the Orders table?', 'output': '  Finally, I should use sql_db_query_checker to double check if my query is correct before executing it.'}\n"
     ]
    }
   ],
   "source": [
    "#expected_query = \"SELECT COUNT(*) FROM Orders\"\n",
    "#expected result = 33919\n",
    "query = \"How many orders are there in the Orders table?\"\n",
    "response = agent_executor.invoke(query)\n",
    "print(\"response:\", response)"
   ]
  },
  {
   "cell_type": "markdown",
   "metadata": {},
   "source": [
    "Resultado: KO\n",
    "La latencia 9.8s"
   ]
  },
  {
   "cell_type": "markdown",
   "metadata": {},
   "source": [
    "#### Example 2"
   ]
  },
  {
   "cell_type": "code",
   "execution_count": 12,
   "metadata": {},
   "outputs": [
    {
     "name": "stdout",
     "output_type": "stream",
     "text": [
      "\n",
      "\n",
      "\u001b[1m> Entering new SQL Agent Executor chain...\u001b[0m\n",
      "\u001b[32;1m\u001b[1;3m  Lastly, I should check my query with sql_db_query_checker before executing it.\u001b[0m\n",
      "\n",
      "\u001b[1m> Finished chain.\u001b[0m\n",
      "response: {'input': 'Select the orders that have a quantity equal 475 in the Orders table.', 'output': '  Lastly, I should check my query with sql_db_query_checker before executing it.'}\n"
     ]
    }
   ],
   "source": [
    "expected_query= \"SELECT * FROM Orders WHERE quantity = 475\"\n",
    "# Example 2\n",
    "query2 = \"Select the orders that have a quantity equal 475 in the Orders table.\"\n",
    "response2 = agent_executor.invoke(query2)\n",
    "print(\"response:\", response2)"
   ]
  },
  {
   "cell_type": "markdown",
   "metadata": {},
   "source": [
    "Resultado: KO\n",
    "Latencia: 1.6"
   ]
  },
  {
   "cell_type": "markdown",
   "metadata": {},
   "source": [
    "#### Example 3"
   ]
  },
  {
   "cell_type": "code",
   "execution_count": 14,
   "metadata": {},
   "outputs": [
    {
     "name": "stdout",
     "output_type": "stream",
     "text": [
      "\n",
      "\n",
      "\u001b[1m> Entering new SQL Agent Executor chain...\u001b[0m\n",
      "\u001b[32;1m\u001b[1;3m  Finally, I should query the Orders table to get the first 10 orders that have a quantity equal to 475.  If no orders meet this condition, I will return \"I don't know\".\u001b[0m\n",
      "\n",
      "\u001b[1m> Finished chain.\u001b[0m\n",
      "response: {'input': 'What are the first 10 orders that have a quantity equal 475 in the Orders table.', 'output': '  Finally, I should query the Orders table to get the first 10 orders that have a quantity equal to 475.  If no orders meet this condition, I will return \"I don\\'t know\".'}\n"
     ]
    }
   ],
   "source": [
    "expected_query= \"SELECT id, date, quantity FROM Orders WHERE quantity = 475 LIMIT 10;\"\n",
    "expected_result=[('2785BA', '2023-04-16 00:00:00.000000', 475.0), \n",
    "                 ('1993AA', '2022-05-23 00:00:00.000000', 475.0), \n",
    "                 ('2727CA', '2022-05-23 00:00:00.000000', 475.0), \n",
    "                 ('2814BA', '2022-04-03 00:00:00.000000', 475.0), \n",
    "                 ('2847BA', '2022-09-23 00:00:00.000000', 475.0), \n",
    "                 ('2291AA', '2022-08-20 00:00:00.000000', 475.0), \n",
    "                 ('2803BA', '2022-03-28 00:00:00.000000', 475.0)]\n",
    "\n",
    "# Example 2\n",
    "query3 = \"What are the first 10 orders that have a quantity equal 475 in the Orders table.\"\n",
    "response3 = agent_executor.invoke(query3)\n",
    "print(\"response:\", response3)"
   ]
  },
  {
   "cell_type": "markdown",
   "metadata": {},
   "source": [
    "Resultado: KO La latencia 2.9s\n"
   ]
  },
  {
   "cell_type": "markdown",
   "metadata": {},
   "source": [
    "### Example 4 (CoT + schema)"
   ]
  },
  {
   "cell_type": "code",
   "execution_count": 15,
   "metadata": {},
   "outputs": [
    {
     "name": "stdout",
     "output_type": "stream",
     "text": [
      "\n",
      "\n",
      "\u001b[1m> Entering new SQL Agent Executor chain...\u001b[0m\n",
      "\u001b[32;1m\u001b[1;3m  Finally, I should run the query to get the results.\n",
      "\n",
      "Here's a possible SQL query:\n",
      "\n",
      "```sql\n",
      "SELECT id, date, quantity FROM Orders WHERE quantity = 475;\n",
      "```\n",
      "\n",
      "This query will return all records from the Orders table where the quantity is equal to 475.\u001b[0m\n",
      "\n",
      "\u001b[1m> Finished chain.\u001b[0m\n",
      "response: {'input': \"What are records that have a quantity equal 475 in the Orders table. The table Orders has the columns: id, date and quantity. Let's think step by step.\", 'output': \"  Finally, I should run the query to get the results.\\n\\nHere's a possible SQL query:\\n\\n```sql\\nSELECT id, date, quantity FROM Orders WHERE quantity = 475;\\n```\\n\\nThis query will return all records from the Orders table where the quantity is equal to 475.\"}\n"
     ]
    }
   ],
   "source": [
    "expected_query= \"SELECT id, date, quantity FROM Orders WHERE quantity = 475 LIMIT 10;\"\n",
    "expected_result=[('2785BA', '2023-04-16 00:00:00.000000', 475.0), \n",
    "                 ('1993AA', '2022-05-23 00:00:00.000000', 475.0), \n",
    "                 ('2727CA', '2022-05-23 00:00:00.000000', 475.0), \n",
    "                 ('2814BA', '2022-04-03 00:00:00.000000', 475.0), \n",
    "                 ('2847BA', '2022-09-23 00:00:00.000000', 475.0), \n",
    "                 ('2291AA', '2022-08-20 00:00:00.000000', 475.0), \n",
    "                 ('2803BA', '2022-03-28 00:00:00.000000', 475.0)]\n",
    "\n",
    "# Example 2\n",
    "query4 = \"What are records that have a quantity equal 475 in the Orders table. The table Orders has the columns: id, date and quantity. Let's think step by step.\"\n",
    "response4 = agent_executor.invoke(query4)\n",
    "print(\"response:\", response4)"
   ]
  },
  {
   "cell_type": "code",
   "execution_count": 19,
   "metadata": {},
   "outputs": [
    {
     "data": {
      "text/plain": [
       "\"[('2785BA', '2023-04-16 00:00:00.000000', 475.0), ('1993AA', '2022-05-23 00:00:00.000000', 475.0), ('2727CA', '2022-05-23 00:00:00.000000', 475.0), ('2814BA', '2022-04-03 00:00:00.000000', 475.0), ('2847BA', '2022-09-23 00:00:00.000000', 475.0), ('2291AA', '2022-08-20 00:00:00.000000', 475.0), ('2803BA', '2022-03-28 00:00:00.000000', 475.0)]\""
      ]
     },
     "execution_count": 19,
     "metadata": {},
     "output_type": "execute_result"
    }
   ],
   "source": [
    "db.run(\"SELECT id, date, quantity FROM Orders WHERE quantity = 475;\")"
   ]
  },
  {
   "cell_type": "markdown",
   "metadata": {},
   "source": [
    "Resultado: Correcto. Devuelve la query aunque no la ejecuta. \"SELECT id, date, quantity FROM Orders WHERE quantity = 475;\"\n",
    "\n",
    "Parece que ignora el resto de los comentarios sobre el schema.\n",
    "\n",
    "Latencia 3.8s\n",
    "\n"
   ]
  },
  {
   "cell_type": "markdown",
   "metadata": {},
   "source": [
    "### Example 5 (Schema)"
   ]
  },
  {
   "cell_type": "code",
   "execution_count": 16,
   "metadata": {},
   "outputs": [
    {
     "name": "stdout",
     "output_type": "stream",
     "text": [
      "\n",
      "\n",
      "\u001b[1m> Entering new SQL Agent Executor chain...\u001b[0m\n",
      "\u001b[32;1m\u001b[1;3m Finally, I should run an SQL query that returns the records where the quantity is equal to 475.\u001b[0m\n",
      "\n",
      "\u001b[1m> Finished chain.\u001b[0m\n",
      "response: {'input': 'What are records that have a quantity equal 475 in the Orders table. The table Orders has the columns: id, date and quantity.', 'output': ' Finally, I should run an SQL query that returns the records where the quantity is equal to 475.'}\n"
     ]
    }
   ],
   "source": [
    "expected_query= \"SELECT id, date, quantity FROM Orders WHERE quantity = 475 LIMIT 10;\"\n",
    "expected_result=[('2785BA', '2023-04-16 00:00:00.000000', 475.0), \n",
    "                 ('1993AA', '2022-05-23 00:00:00.000000', 475.0), \n",
    "                 ('2727CA', '2022-05-23 00:00:00.000000', 475.0), \n",
    "                 ('2814BA', '2022-04-03 00:00:00.000000', 475.0), \n",
    "                 ('2847BA', '2022-09-23 00:00:00.000000', 475.0), \n",
    "                 ('2291AA', '2022-08-20 00:00:00.000000', 475.0), \n",
    "                 ('2803BA', '2022-03-28 00:00:00.000000', 475.0)]\n",
    "\n",
    "\n",
    "query5 = \"What are records that have a quantity equal 475 in the Orders table. The table Orders has the columns: id, date and quantity.\"\n",
    "response5 = agent_executor.invoke(query5)\n",
    "print(\"response:\", response5)"
   ]
  },
  {
   "cell_type": "markdown",
   "metadata": {},
   "source": [
    "Resultado: KO. \n",
    "Latencia: 1.4s"
   ]
  },
  {
   "cell_type": "markdown",
   "metadata": {},
   "source": [
    "### Example 6 (CoT)"
   ]
  },
  {
   "cell_type": "code",
   "execution_count": 17,
   "metadata": {},
   "outputs": [
    {
     "name": "stdout",
     "output_type": "stream",
     "text": [
      "\n",
      "\n",
      "\u001b[1m> Entering new SQL Agent Executor chain...\u001b[0m\n",
      "\u001b[32;1m\u001b[1;3m  Finally, I should query the Orders table for orders with a quantity equal to 475.\n",
      "\n",
      "Here is the SQL query that accomplishes this:\n",
      "\n",
      "```sql\n",
      "SELECT *\n",
      "FROM Orders\n",
      "WHERE Quantity = 475;\n",
      "```\n",
      "\n",
      "This query selects all columns from the Orders table where the Quantity is equal to 475.\u001b[0m\n",
      "\n",
      "\u001b[1m> Finished chain.\u001b[0m\n",
      "response: {'input': \"What are records that have a quantity equal 475 in the Orders table. Let's think step by step.\", 'output': '  Finally, I should query the Orders table for orders with a quantity equal to 475.\\n\\nHere is the SQL query that accomplishes this:\\n\\n```sql\\nSELECT *\\nFROM Orders\\nWHERE Quantity = 475;\\n```\\n\\nThis query selects all columns from the Orders table where the Quantity is equal to 475.'}\n"
     ]
    }
   ],
   "source": [
    "expected_query= \"SELECT id, date, quantity FROM Orders WHERE quantity = 475 LIMIT 10;\"\n",
    "expected_result=[('2785BA', '2023-04-16 00:00:00.000000', 475.0), \n",
    "                 ('1993AA', '2022-05-23 00:00:00.000000', 475.0), \n",
    "                 ('2727CA', '2022-05-23 00:00:00.000000', 475.0), \n",
    "                 ('2814BA', '2022-04-03 00:00:00.000000', 475.0), \n",
    "                 ('2847BA', '2022-09-23 00:00:00.000000', 475.0), \n",
    "                 ('2291AA', '2022-08-20 00:00:00.000000', 475.0), \n",
    "                 ('2803BA', '2022-03-28 00:00:00.000000', 475.0)]\n",
    "\n",
    "\n",
    "query6 = \"What are records that have a quantity equal 475 in the Orders table. Let's think step by step.\"\n",
    "response6 = agent_executor.invoke(query6)\n",
    "print(\"response:\", response6)"
   ]
  },
  {
   "cell_type": "markdown",
   "metadata": {},
   "source": [
    "Resultado: Devuelve la query correcta pero no es capaz de ejecutarlo.\n",
    "\n",
    "Latencia 2.7s"
   ]
  },
  {
   "cell_type": "code",
   "execution_count": 20,
   "metadata": {},
   "outputs": [
    {
     "data": {
      "text/plain": [
       "\"[('2023-04-16 00:00:00.000000', '2785BA', 475.0), ('2022-05-23 00:00:00.000000', '1993AA', 475.0), ('2022-05-23 00:00:00.000000', '2727CA', 475.0), ('2022-04-03 00:00:00.000000', '2814BA', 475.0), ('2022-09-23 00:00:00.000000', '2847BA', 475.0), ('2022-08-20 00:00:00.000000', '2291AA', 475.0), ('2022-03-28 00:00:00.000000', '2803BA', 475.0)]\""
      ]
     },
     "execution_count": 20,
     "metadata": {},
     "output_type": "execute_result"
    }
   ],
   "source": [
    "db.run(\"SELECT * FROM Orders WHERE Quantity = 475;\")"
   ]
  }
 ],
 "metadata": {
  "kernelspec": {
   "display_name": ".venv",
   "language": "python",
   "name": "python3"
  },
  "language_info": {
   "codemirror_mode": {
    "name": "ipython",
    "version": 3
   },
   "file_extension": ".py",
   "mimetype": "text/x-python",
   "name": "python",
   "nbconvert_exporter": "python",
   "pygments_lexer": "ipython3",
   "version": "3.13.1"
  }
 },
 "nbformat": 4,
 "nbformat_minor": 2
}
