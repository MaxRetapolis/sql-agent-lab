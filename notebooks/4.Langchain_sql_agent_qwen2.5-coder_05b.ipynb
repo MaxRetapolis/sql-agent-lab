{
 "cells": [
  {
   "cell_type": "markdown",
   "metadata": {},
   "source": [
    "### Database connection"
   ]
  },
  {
   "cell_type": "code",
   "execution_count": 1,
   "metadata": {},
   "outputs": [],
   "source": [
    "from langchain_community.utilities import SQLDatabase"
   ]
  },
  {
   "cell_type": "code",
   "execution_count": 2,
   "metadata": {},
   "outputs": [
    {
     "name": "stdout",
     "output_type": "stream",
     "text": [
      "dialect: sqlite\n",
      "tables: ['Orders', 'Stock']\n"
     ]
    }
   ],
   "source": [
    "db_path = '../data/inventory.db'\n",
    "db = SQLDatabase.from_uri(f\"sqlite:///{db_path}\")\n",
    "print(\"dialect:\", db.dialect)\n",
    "print(\"tables:\", db.get_usable_table_names())"
   ]
  },
  {
   "cell_type": "code",
   "execution_count": 3,
   "metadata": {},
   "outputs": [
    {
     "name": "stdout",
     "output_type": "stream",
     "text": [
      "[('1009AA', 7210.0, 'Kg', 30, 48, 28.76326)]\n"
     ]
    }
   ],
   "source": [
    "records = db.run(\"SELECT * FROM Stock LIMIT 1\")\n",
    "print(records)"
   ]
  },
  {
   "cell_type": "code",
   "execution_count": 4,
   "metadata": {},
   "outputs": [
    {
     "name": "stdout",
     "output_type": "stream",
     "text": [
      "\n",
      "CREATE TABLE \"Stock\" (\n",
      "\tid TEXT, \n",
      "\tcurrent_stock_quantity FLOAT, \n",
      "\tunits TEXT, \n",
      "\tavg_lead_time_days BIGINT, \n",
      "\tmaximum_lead_time_days BIGINT, \n",
      "\tunit_price FLOAT\n",
      ")\n",
      "\n",
      "/*\n",
      "3 rows from Stock table:\n",
      "id\tcurrent_stock_quantity\tunits\tavg_lead_time_days\tmaximum_lead_time_days\tunit_price\n",
      "1009AA\t7210.0\tKg\t30\t48\t28.76326\n",
      "1077CA\t46516.0\tKg\t45\t70\t22.9777\n",
      "1083AA\t48210.0\tKg\t45\t68\t29.02\n",
      "*/\n"
     ]
    }
   ],
   "source": [
    "info = db.get_table_info([\"Stock\"])\n",
    "print(info)"
   ]
  },
  {
   "cell_type": "code",
   "execution_count": 5,
   "metadata": {},
   "outputs": [
    {
     "name": "stdout",
     "output_type": "stream",
     "text": [
      "[('2022-11-19 00:00:00.000000', '3084CA', 1.0)]\n"
     ]
    }
   ],
   "source": [
    "records = db.run(\"SELECT * FROM Orders LIMIT 1\")\n",
    "print(records)"
   ]
  },
  {
   "cell_type": "code",
   "execution_count": 6,
   "metadata": {},
   "outputs": [
    {
     "name": "stdout",
     "output_type": "stream",
     "text": [
      "\n",
      "CREATE TABLE \"Orders\" (\n",
      "\tdate DATETIME, \n",
      "\tid TEXT, \n",
      "\tquantity FLOAT\n",
      ")\n",
      "\n",
      "/*\n",
      "3 rows from Orders table:\n",
      "date\tid\tquantity\n",
      "2022-11-19 00:00:00\t3084CA\t1.0\n",
      "2022-06-30 00:00:00\t2621AA\t20.0\n",
      "2023-04-19 00:00:00\t1193BA\t147.0\n",
      "*/\n"
     ]
    }
   ],
   "source": [
    "info = db.get_table_info([\"Orders\"])\n",
    "print(info)\n"
   ]
  },
  {
   "cell_type": "markdown",
   "metadata": {},
   "source": [
    "### LLM"
   ]
  },
  {
   "cell_type": "code",
   "execution_count": 8,
   "metadata": {},
   "outputs": [],
   "source": [
    "from langchain_ollama import ChatOllama\n",
    "\n",
    "#https://ollama.com/library/qwen2.5-coder:0.5b\n",
    "\n",
    "llm = ChatOllama(model=\"qwen2.5-coder:0.5b\")"
   ]
  },
  {
   "cell_type": "markdown",
   "metadata": {},
   "source": [
    "### Tools"
   ]
  },
  {
   "cell_type": "code",
   "execution_count": 14,
   "metadata": {},
   "outputs": [
    {
     "data": {
      "text/plain": [
       "SQLDatabaseToolkit(db=<langchain_community.utilities.sql_database.SQLDatabase object at 0x000001A7C24B0980>, llm=ChatOllama(model='qwen2.5-coder:latest'))"
      ]
     },
     "execution_count": 14,
     "metadata": {},
     "output_type": "execute_result"
    }
   ],
   "source": [
    "# tools\n",
    "from langchain.agents.agent_toolkits import SQLDatabaseToolkit\n",
    "\n",
    "toolkit = SQLDatabaseToolkit(db=db, llm=llm)\n",
    "toolkit"
   ]
  },
  {
   "cell_type": "markdown",
   "metadata": {},
   "source": [
    "### SQL agent"
   ]
  },
  {
   "cell_type": "code",
   "execution_count": 20,
   "metadata": {},
   "outputs": [],
   "source": [
    "from langchain_community.agent_toolkits import create_sql_agent\n",
    "\n",
    "agent_executor = create_sql_agent(llm, db=db,agent_type=\"openai-tools\",verbose=True)\n"
   ]
  },
  {
   "cell_type": "markdown",
   "metadata": {},
   "source": [
    "#### Example 1"
   ]
  },
  {
   "cell_type": "code",
   "execution_count": 21,
   "metadata": {},
   "outputs": [
    {
     "name": "stdout",
     "output_type": "stream",
     "text": [
      "\n",
      "\n",
      "\u001b[1m> Entering new SQL Agent Executor chain...\u001b[0m\n",
      "\u001b[32;1m\u001b[1;3m\n",
      "Invoking: `sql_db_list_tables` with `{}`\n",
      "\n",
      "\n",
      "\u001b[0m\u001b[38;5;200m\u001b[1;3mOrders, Stock\u001b[0m\u001b[32;1m\u001b[1;3m\n",
      "Invoking: `sql_db_schema` with `{'table_names': 'Orders, Stock'}`\n",
      "\n",
      "\n",
      "\u001b[0m\u001b[33;1m\u001b[1;3m\n",
      "CREATE TABLE \"Orders\" (\n",
      "\tdate DATETIME, \n",
      "\tid TEXT, \n",
      "\tquantity FLOAT\n",
      ")\n",
      "\n",
      "/*\n",
      "3 rows from Orders table:\n",
      "date\tid\tquantity\n",
      "2022-11-19 00:00:00\t3084CA\t1.0\n",
      "2022-06-30 00:00:00\t2621AA\t20.0\n",
      "2023-04-19 00:00:00\t1193BA\t147.0\n",
      "*/\n",
      "\n",
      "\n",
      "CREATE TABLE \"Stock\" (\n",
      "\tid TEXT, \n",
      "\tcurrent_stock_quantity FLOAT, \n",
      "\tunits TEXT, \n",
      "\tavg_lead_time_days BIGINT, \n",
      "\tmaximum_lead_time_days BIGINT, \n",
      "\tunit_price FLOAT\n",
      ")\n",
      "\n",
      "/*\n",
      "3 rows from Stock table:\n",
      "id\tcurrent_stock_quantity\tunits\tavg_lead_time_days\tmaximum_lead_time_days\tunit_price\n",
      "1009AA\t7210.0\tKg\t30\t48\t28.76326\n",
      "1077CA\t46516.0\tKg\t45\t70\t22.9777\n",
      "1083AA\t48210.0\tKg\t45\t68\t29.02\n",
      "*/\u001b[0m\u001b[32;1m\u001b[1;3m\n",
      "Invoking: `sql_db_query_checker` with `{'query': 'SELECT COUNT(*) FROM Orders;'}`\n",
      "\n",
      "\n",
      "\u001b[0m\u001b[36;1m\u001b[1;3mSELECT COUNT(*) FROM Orders;\u001b[0m\u001b[32;1m\u001b[1;3m\n",
      "Invoking: `sql_db_query` with `{'query': 'SELECT COUNT(*) FROM Orders;'}`\n",
      "\n",
      "\n",
      "\u001b[0m\u001b[36;1m\u001b[1;3m[(33919,)]\u001b[0m\u001b[32;1m\u001b[1;3mThere are 33,919 orders in the Orders table.\u001b[0m\n",
      "\n",
      "\u001b[1m> Finished chain.\u001b[0m\n",
      "text to sql query: {'input': 'How many orders are there in the Orders table?', 'output': 'There are 33,919 orders in the Orders table.'}\n"
     ]
    }
   ],
   "source": [
    "#expected_query = \"SELECT COUNT(*) FROM Orders\"\n",
    "#expected result = 33919\n",
    "query = \"How many orders are there in the Orders table?\"\n",
    "response = agent_executor.invoke(query)\n",
    "print(\"response:\", response)"
   ]
  },
  {
   "cell_type": "markdown",
   "metadata": {},
   "source": [
    "Resultado: Correcto.\n",
    "\n",
    "La latencia es de 9 minutos y 57s."
   ]
  },
  {
   "cell_type": "code",
   "execution_count": 25,
   "metadata": {},
   "outputs": [
    {
     "data": {
      "text/plain": [
       "'[(33919,)]'"
      ]
     },
     "execution_count": 25,
     "metadata": {},
     "output_type": "execute_result"
    }
   ],
   "source": [
    "db.run('SELECT COUNT(*) FROM Orders;')"
   ]
  },
  {
   "cell_type": "markdown",
   "metadata": {},
   "source": [
    "#### Example 2"
   ]
  },
  {
   "cell_type": "code",
   "execution_count": null,
   "metadata": {},
   "outputs": [
    {
     "name": "stdout",
     "output_type": "stream",
     "text": [
      "\n",
      "\n",
      "\u001b[1m> Entering new SQL Agent Executor chain...\u001b[0m\n",
      "\u001b[32;1m\u001b[1;3m\n",
      "Invoking: `sql_db_list_tables` with `{}`\n",
      "\n",
      "\n",
      "\u001b[0m\u001b[38;5;200m\u001b[1;3mOrders, Stock\u001b[0m\u001b[32;1m\u001b[1;3m\n",
      "Invoking: `sql_db_schema` with `{'table_names': 'Orders'}`\n",
      "\n",
      "\n",
      "\u001b[0m\u001b[33;1m\u001b[1;3m\n",
      "CREATE TABLE \"Orders\" (\n",
      "\tdate DATETIME, \n",
      "\tid TEXT, \n",
      "\tquantity FLOAT\n",
      ")\n",
      "\n",
      "/*\n",
      "3 rows from Orders table:\n",
      "date\tid\tquantity\n",
      "2022-11-19 00:00:00\t3084CA\t1.0\n",
      "2022-06-30 00:00:00\t2621AA\t20.0\n",
      "2023-04-19 00:00:00\t1193BA\t147.0\n",
      "*/\u001b[0m\u001b[32;1m\u001b[1;3mNow I can see the schema of the \"Orders\" table and understand that it contains columns for \"date\", \"id\", and \"quantity\". \n",
      "\n",
      "To find orders with a quantity equal to 475, I will construct an SQL query to select these rows from the \"Orders\" table.\n",
      "\n",
      "```sql\n",
      "SELECT * FROM Orders WHERE quantity = 475;\n",
      "```\n",
      "\n",
      "I should check if this query is correct before executing it.\n",
      "\n",
      "\u001b[0m\n",
      "\n",
      "\u001b[1m> Finished chain.\u001b[0m\n",
      "response: {'input': 'Select the orders that have a quantity equal 475 in the Orders table.', 'output': 'Now I can see the schema of the \"Orders\" table and understand that it contains columns for \"date\", \"id\", and \"quantity\". \\n\\nTo find orders with a quantity equal to 475, I will construct an SQL query to select these rows from the \"Orders\" table.\\n\\n```sql\\nSELECT * FROM Orders WHERE quantity = 475;\\n```\\n\\nI should check if this query is correct before executing it.\\n\\n'}\n"
     ]
    }
   ],
   "source": [
    "expected_query= \"SELECT * FROM Orders WHERE quantity = 475\"\n",
    "# Example 2\n",
    "query2 = \"Select the orders that have a quantity equal 475 in the Orders table.\"\n",
    "response2 = agent_executor.invoke(query2)\n",
    "print(\"response:\", response2)"
   ]
  },
  {
   "cell_type": "markdown",
   "metadata": {},
   "source": [
    "Resultado:  Ha devuelto la query correcta. \n",
    "SELECT * FROM Orders WHERE quantity = 475\n",
    "\n",
    "La latencia es 1min 57s."
   ]
  },
  {
   "cell_type": "code",
   "execution_count": 24,
   "metadata": {},
   "outputs": [
    {
     "data": {
      "text/plain": [
       "\"[('2023-04-16 00:00:00.000000', '2785BA', 475.0), ('2022-05-23 00:00:00.000000', '1993AA', 475.0), ('2022-05-23 00:00:00.000000', '2727CA', 475.0), ('2022-04-03 00:00:00.000000', '2814BA', 475.0), ('2022-09-23 00:00:00.000000', '2847BA', 475.0), ('2022-08-20 00:00:00.000000', '2291AA', 475.0), ('2022-03-28 00:00:00.000000', '2803BA', 475.0)]\""
      ]
     },
     "execution_count": 24,
     "metadata": {},
     "output_type": "execute_result"
    }
   ],
   "source": [
    "db.run(\"SELECT * FROM Orders WHERE quantity = 475\")"
   ]
  },
  {
   "cell_type": "markdown",
   "metadata": {},
   "source": [
    "#### Example 3"
   ]
  },
  {
   "cell_type": "code",
   "execution_count": 26,
   "metadata": {},
   "outputs": [
    {
     "name": "stdout",
     "output_type": "stream",
     "text": [
      "\n",
      "\n",
      "\u001b[1m> Entering new SQL Agent Executor chain...\u001b[0m\n",
      "\u001b[32;1m\u001b[1;3m\n",
      "Invoking: `sql_db_list_tables` with `{}`\n",
      "\n",
      "\n",
      "\u001b[0m\u001b[38;5;200m\u001b[1;3mOrders, Stock\u001b[0m\u001b[32;1m\u001b[1;3m\n",
      "Invoking: `sql_db_query_checker` with `{'query': 'SELECT order_id, quantity, order_date FROM Orders WHERE quantity = 475 LIMIT 10'}`\n",
      "\n",
      "\n",
      "\u001b[0m\u001b[36;1m\u001b[1;3m```sql\n",
      "SELECT order_id, quantity, order_date FROM Orders WHERE quantity = 475 LIMIT 10;\n",
      "```\u001b[0m\u001b[32;1m\u001b[1;3m\n",
      "Invoking: `sql_db_query` with `{'query': 'SELECT order_id, quantity, order_date FROM Orders WHERE quantity = 475 LIMIT 10;'}`\n",
      "\n",
      "\n",
      "\u001b[0m\u001b[36;1m\u001b[1;3mError: (sqlite3.OperationalError) no such column: order_id\n",
      "[SQL: SELECT order_id, quantity, order_date FROM Orders WHERE quantity = 475 LIMIT 10;]\n",
      "(Background on this error at: https://sqlalche.me/e/20/e3q8)\u001b[0m\u001b[32;1m\u001b[1;3mThe error indicates that the `order_id` column does not exist in the `Orders` table. I should double-check the schema of the `Orders` table to find out what columns are available.\n",
      "\n",
      "Let's query the schema of the `Orders` table first.\n",
      "\n",
      "```sql\n",
      "SELECT * FROM sql_db_schema('Orders');\n",
      "```\n",
      "\n",
      "This will provide me with the correct column names for the `Orders` table, and then I can construct a new query based on that information.\u001b[0m\n",
      "\n",
      "\u001b[1m> Finished chain.\u001b[0m\n",
      "response: {'input': 'What are the first 10 orders that have a quantity equal 475 in the Orders table.', 'output': \"The error indicates that the `order_id` column does not exist in the `Orders` table. I should double-check the schema of the `Orders` table to find out what columns are available.\\n\\nLet's query the schema of the `Orders` table first.\\n\\n```sql\\nSELECT * FROM sql_db_schema('Orders');\\n```\\n\\nThis will provide me with the correct column names for the `Orders` table, and then I can construct a new query based on that information.\"}\n"
     ]
    }
   ],
   "source": [
    "expected_query= \"SELECT id, date, quantity FROM Orders WHERE quantity = 475 LIMIT 10;\"\n",
    "expected_result=[('2785BA', '2023-04-16 00:00:00.000000', 475.0), \n",
    "                 ('1993AA', '2022-05-23 00:00:00.000000', 475.0), \n",
    "                 ('2727CA', '2022-05-23 00:00:00.000000', 475.0), \n",
    "                 ('2814BA', '2022-04-03 00:00:00.000000', 475.0), \n",
    "                 ('2847BA', '2022-09-23 00:00:00.000000', 475.0), \n",
    "                 ('2291AA', '2022-08-20 00:00:00.000000', 475.0), \n",
    "                 ('2803BA', '2022-03-28 00:00:00.000000', 475.0)]\n",
    "\n",
    "# Example 2\n",
    "query3 = \"What are the first 10 orders that have a quantity equal 475 in the Orders table.\"\n",
    "response3 = agent_executor.invoke(query3)\n",
    "print(\"response:\", response3)"
   ]
  },
  {
   "cell_type": "markdown",
   "metadata": {},
   "source": [
    "Resultado: \n",
    "Ha fallado porque ha utilizado un campo (order_id) que no existe."
   ]
  },
  {
   "cell_type": "markdown",
   "metadata": {},
   "source": [
    "### Example 4 (CoT + schema)"
   ]
  },
  {
   "cell_type": "code",
   "execution_count": 27,
   "metadata": {},
   "outputs": [
    {
     "name": "stdout",
     "output_type": "stream",
     "text": [
      "\n",
      "\n",
      "\u001b[1m> Entering new SQL Agent Executor chain...\u001b[0m\n",
      "\u001b[32;1m\u001b[1;3m\n",
      "Invoking: `sql_db_list_tables` with `{}`\n",
      "\n",
      "\n",
      "\u001b[0m\u001b[38;5;200m\u001b[1;3mOrders, Stock\u001b[0m\u001b[32;1m\u001b[1;3m\n",
      "Invoking: `sql_db_schema` with `{'table_names': 'Orders'}`\n",
      "\n",
      "\n",
      "\u001b[0m\u001b[33;1m\u001b[1;3m\n",
      "CREATE TABLE \"Orders\" (\n",
      "\tdate DATETIME, \n",
      "\tid TEXT, \n",
      "\tquantity FLOAT\n",
      ")\n",
      "\n",
      "/*\n",
      "3 rows from Orders table:\n",
      "date\tid\tquantity\n",
      "2022-11-19 00:00:00\t3084CA\t1.0\n",
      "2022-06-30 00:00:00\t2621AA\t20.0\n",
      "2023-04-19 00:00:00\t1193BA\t147.0\n",
      "*/\u001b[0m\u001b[32;1m\u001b[1;3m\n",
      "Invoking: `sql_db_query_checker` with `{'query': 'SELECT * FROM Orders WHERE quantity = 475'}`\n",
      "\n",
      "\n",
      "\u001b[0m\u001b[36;1m\u001b[1;3m```sql\n",
      "SELECT * FROM Orders WHERE quantity = 475;\n",
      "```\u001b[0m\u001b[32;1m\u001b[1;3mI should execute the query to get the records.\n",
      "\n",
      "\u001b[0m\n",
      "\n",
      "\u001b[1m> Finished chain.\u001b[0m\n",
      "response: {'input': \"What are records that have a quantity equal 475 in the Orders table. The table Orders has the columns: id, date and quantity. Let's think step by step.\", 'output': 'I should execute the query to get the records.\\n\\n'}\n"
     ]
    }
   ],
   "source": [
    "expected_query= \"SELECT id, date, quantity FROM Orders WHERE quantity = 475 LIMIT 10;\"\n",
    "expected_result=[('2785BA', '2023-04-16 00:00:00.000000', 475.0), \n",
    "                 ('1993AA', '2022-05-23 00:00:00.000000', 475.0), \n",
    "                 ('2727CA', '2022-05-23 00:00:00.000000', 475.0), \n",
    "                 ('2814BA', '2022-04-03 00:00:00.000000', 475.0), \n",
    "                 ('2847BA', '2022-09-23 00:00:00.000000', 475.0), \n",
    "                 ('2291AA', '2022-08-20 00:00:00.000000', 475.0), \n",
    "                 ('2803BA', '2022-03-28 00:00:00.000000', 475.0)]\n",
    "\n",
    "# Example 2\n",
    "query4 = \"What are records that have a quantity equal 475 in the Orders table. The table Orders has the columns: id, date and quantity. Let's think step by step.\"\n",
    "response4 = agent_executor.invoke(query4)\n",
    "print(\"response:\", response4)"
   ]
  },
  {
   "cell_type": "markdown",
   "metadata": {},
   "source": [
    "Resultado: Correcto. Devuelve la query aunque no la ejecuta. SELECT * FROM Orders WHERE quantity = 475\n",
    "\n",
    "Parece que ignora el resto de los comentarios sobre el schema.\n",
    "\n",
    "Latencia 7min y 21s.\n",
    "\n"
   ]
  },
  {
   "cell_type": "markdown",
   "metadata": {},
   "source": [
    "### Example 5 (Schema)"
   ]
  },
  {
   "cell_type": "code",
   "execution_count": 28,
   "metadata": {},
   "outputs": [
    {
     "name": "stdout",
     "output_type": "stream",
     "text": [
      "\n",
      "\n",
      "\u001b[1m> Entering new SQL Agent Executor chain...\u001b[0m\n",
      "\u001b[32;1m\u001b[1;3m\u001b[0m\n",
      "\n",
      "\u001b[1m> Finished chain.\u001b[0m\n",
      "response: {'input': 'What are records that have a quantity equal 475 in the Orders table. The table Orders has the columns: id, date and quantity.', 'output': ''}\n"
     ]
    }
   ],
   "source": [
    "expected_query= \"SELECT id, date, quantity FROM Orders WHERE quantity = 475 LIMIT 10;\"\n",
    "expected_result=[('2785BA', '2023-04-16 00:00:00.000000', 475.0), \n",
    "                 ('1993AA', '2022-05-23 00:00:00.000000', 475.0), \n",
    "                 ('2727CA', '2022-05-23 00:00:00.000000', 475.0), \n",
    "                 ('2814BA', '2022-04-03 00:00:00.000000', 475.0), \n",
    "                 ('2847BA', '2022-09-23 00:00:00.000000', 475.0), \n",
    "                 ('2291AA', '2022-08-20 00:00:00.000000', 475.0), \n",
    "                 ('2803BA', '2022-03-28 00:00:00.000000', 475.0)]\n",
    "\n",
    "\n",
    "query5 = \"What are records that have a quantity equal 475 in the Orders table. The table Orders has the columns: id, date and quantity.\"\n",
    "response5 = agent_executor.invoke(query5)\n",
    "print(\"response:\", response5)"
   ]
  },
  {
   "cell_type": "markdown",
   "metadata": {},
   "source": [
    "Resultado: Fallo. No hace nada."
   ]
  },
  {
   "cell_type": "markdown",
   "metadata": {},
   "source": [
    "### Example 6 (CoT)"
   ]
  },
  {
   "cell_type": "code",
   "execution_count": 29,
   "metadata": {},
   "outputs": [
    {
     "name": "stdout",
     "output_type": "stream",
     "text": [
      "\n",
      "\n",
      "\u001b[1m> Entering new SQL Agent Executor chain...\u001b[0m\n",
      "\u001b[32;1m\u001b[1;3m\n",
      "Invoking: `sql_db_list_tables` with `{}`\n",
      "\n",
      "\n",
      "\u001b[0m\u001b[38;5;200m\u001b[1;3mOrders, Stock\u001b[0m\u001b[32;1m\u001b[1;3m\n",
      "Invoking: `sql_db_schema` with `{'table_names': 'Orders'}`\n",
      "\n",
      "\n",
      "\u001b[0m\u001b[33;1m\u001b[1;3m\n",
      "CREATE TABLE \"Orders\" (\n",
      "\tdate DATETIME, \n",
      "\tid TEXT, \n",
      "\tquantity FLOAT\n",
      ")\n",
      "\n",
      "/*\n",
      "3 rows from Orders table:\n",
      "date\tid\tquantity\n",
      "2022-11-19 00:00:00\t3084CA\t1.0\n",
      "2022-06-30 00:00:00\t2621AA\t20.0\n",
      "2023-04-19 00:00:00\t1193BA\t147.0\n",
      "*/\u001b[0m\u001b[32;1m\u001b[1;3m\n",
      "Invoking: `sql_db_query_checker` with `{'query': 'SELECT * FROM Orders WHERE quantity = 475 LIMIT 10'}`\n",
      "\n",
      "\n",
      "\u001b[0m\u001b[36;1m\u001b[1;3m```sql\n",
      "SELECT * FROM Orders WHERE quantity = 475 LIMIT 10\n",
      "```\u001b[0m\u001b[32;1m\u001b[1;3mI don't know\u001b[0m\n",
      "\n",
      "\u001b[1m> Finished chain.\u001b[0m\n",
      "response: {'input': \"What are records that have a quantity equal 475 in the Orders table. Let's think step by step.\", 'output': \"I don't know\"}\n"
     ]
    }
   ],
   "source": [
    "expected_query= \"SELECT id, date, quantity FROM Orders WHERE quantity = 475 LIMIT 10;\"\n",
    "expected_result=[('2785BA', '2023-04-16 00:00:00.000000', 475.0), \n",
    "                 ('1993AA', '2022-05-23 00:00:00.000000', 475.0), \n",
    "                 ('2727CA', '2022-05-23 00:00:00.000000', 475.0), \n",
    "                 ('2814BA', '2022-04-03 00:00:00.000000', 475.0), \n",
    "                 ('2847BA', '2022-09-23 00:00:00.000000', 475.0), \n",
    "                 ('2291AA', '2022-08-20 00:00:00.000000', 475.0), \n",
    "                 ('2803BA', '2022-03-28 00:00:00.000000', 475.0)]\n",
    "\n",
    "\n",
    "query6 = \"What are records that have a quantity equal 475 in the Orders table. Let's think step by step.\"\n",
    "response6 = agent_executor.invoke(query6)\n",
    "print(\"response:\", response6)"
   ]
  },
  {
   "cell_type": "markdown",
   "metadata": {},
   "source": [
    "Resultado: Devuelve la query correcta pero no es capaz de ejecutarlo.\n",
    "\n",
    "Latencia 4minutos y 50s"
   ]
  }
 ],
 "metadata": {
  "kernelspec": {
   "display_name": ".venv",
   "language": "python",
   "name": "python3"
  },
  "language_info": {
   "codemirror_mode": {
    "name": "ipython",
    "version": 3
   },
   "file_extension": ".py",
   "mimetype": "text/x-python",
   "name": "python",
   "nbconvert_exporter": "python",
   "pygments_lexer": "ipython3",
   "version": "3.13.1"
  }
 },
 "nbformat": 4,
 "nbformat_minor": 2
}
