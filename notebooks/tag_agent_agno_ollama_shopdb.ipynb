{
 "cells": [
  {
   "cell_type": "code",
   "execution_count": 1,
   "metadata": {},
   "outputs": [],
   "source": [
    "import getpass\n",
    "import os\n",
    "import time\n",
    "from dotenv import load_dotenv\n",
    "\n",
    "# Load the .env file\n",
    "_ = load_dotenv()"
   ]
  },
  {
   "cell_type": "markdown",
   "metadata": {},
   "source": [
    "### Model"
   ]
  },
  {
   "cell_type": "code",
   "execution_count": 2,
   "metadata": {},
   "outputs": [],
   "source": [
    "from agno.models.ollama import Ollama\n",
    "\n",
    "sql_ollama_model=Ollama(id=\"qwen2.5-coder:7b\")"
   ]
  },
  {
   "cell_type": "markdown",
   "metadata": {},
   "source": [
    "## Database Connection"
   ]
  },
  {
   "cell_type": "code",
   "execution_count": 3,
   "metadata": {},
   "outputs": [],
   "source": [
    "from agno.tools.sql import SQLTools\n",
    "from sqlalchemy import create_engine"
   ]
  },
  {
   "cell_type": "code",
   "execution_count": 4,
   "metadata": {},
   "outputs": [],
   "source": [
    "db_url = 'sqlite:///../data/shop.db'\n",
    "engine = create_engine(db_url)"
   ]
  },
  {
   "cell_type": "code",
   "execution_count": 5,
   "metadata": {},
   "outputs": [
    {
     "data": {
      "text/plain": [
       "<SQLTools name=sql_tools functions=['list_tables', 'describe_table', 'run_sql_query']>"
      ]
     },
     "execution_count": 5,
     "metadata": {},
     "output_type": "execute_result"
    }
   ],
   "source": [
    "tool = SQLTools(db_engine=engine)\n",
    "tool"
   ]
  },
  {
   "cell_type": "code",
   "execution_count": 6,
   "metadata": {},
   "outputs": [
    {
     "data": {
      "text/plain": [
       "OrderedDict([('list_tables',\n",
       "              Function(name='list_tables', description=None, parameters={'type': 'object', 'properties': {}, 'required': []}, strict=None, entrypoint=<bound method SQLTools.list_tables of <SQLTools name=sql_tools functions=['list_tables', 'describe_table', 'run_sql_query']>>, sanitize_arguments=True, show_result=False, stop_after_tool_call=False, pre_hook=None, post_hook=None)),\n",
       "             ('describe_table',\n",
       "              Function(name='describe_table', description=None, parameters={'type': 'object', 'properties': {}, 'required': []}, strict=None, entrypoint=<bound method SQLTools.describe_table of <SQLTools name=sql_tools functions=['list_tables', 'describe_table', 'run_sql_query']>>, sanitize_arguments=True, show_result=False, stop_after_tool_call=False, pre_hook=None, post_hook=None)),\n",
       "             ('run_sql_query',\n",
       "              Function(name='run_sql_query', description=None, parameters={'type': 'object', 'properties': {}, 'required': []}, strict=None, entrypoint=<bound method SQLTools.run_sql_query of <SQLTools name=sql_tools functions=['list_tables', 'describe_table', 'run_sql_query']>>, sanitize_arguments=True, show_result=False, stop_after_tool_call=False, pre_hook=None, post_hook=None))])"
      ]
     },
     "execution_count": 6,
     "metadata": {},
     "output_type": "execute_result"
    }
   ],
   "source": [
    "tool.functions"
   ]
  },
  {
   "cell_type": "code",
   "execution_count": 7,
   "metadata": {},
   "outputs": [
    {
     "data": {
      "text/plain": [
       "'[\"Customers\", \"OrderDetails\", \"Orders\", \"Products\"]'"
      ]
     },
     "execution_count": 7,
     "metadata": {},
     "output_type": "execute_result"
    }
   ],
   "source": [
    "tool.list_tables()"
   ]
  },
  {
   "cell_type": "code",
   "execution_count": 8,
   "metadata": {},
   "outputs": [
    {
     "data": {
      "text/plain": [
       "[{'CustomerID': 1,\n",
       "  'FirstName': 'Juan',\n",
       "  'LastName': 'Pérez',\n",
       "  'Email': 'juan.perez@email.com',\n",
       "  'Phone': '555-1234',\n",
       "  'Address': 'Calle de la Rosa 12, Sevilla'},\n",
       " {'CustomerID': 2,\n",
       "  'FirstName': 'Ana',\n",
       "  'LastName': 'López',\n",
       "  'Email': 'ana.lopez@email.com',\n",
       "  'Phone': '555-5678',\n",
       "  'Address': 'Av. Libertad 3, Valencia'}]"
      ]
     },
     "execution_count": 8,
     "metadata": {},
     "output_type": "execute_result"
    }
   ],
   "source": [
    "tool.run_sql(sql=\"SELECT * FROM Customers\", limit=2)"
   ]
  },
  {
   "cell_type": "markdown",
   "metadata": {},
   "source": [
    "* Ejecutar la query"
   ]
  },
  {
   "cell_type": "code",
   "execution_count": 9,
   "metadata": {},
   "outputs": [
    {
     "name": "stdout",
     "output_type": "stream",
     "text": [
      "[{'CustomerID': 1, 'FirstName': 'Juan', 'LastName': 'Pérez', 'Email': 'juan.perez@email.com', 'Phone': '555-1234', 'Address': 'Calle de la Rosa 12, Sevilla'}, {'CustomerID': 2, 'FirstName': 'Ana', 'LastName': 'López', 'Email': 'ana.lopez@email.com', 'Phone': '555-5678', 'Address': 'Av. Libertad 3, Valencia'}]\n"
     ]
    },
    {
     "data": {
      "text/html": [
       "<div>\n",
       "<style scoped>\n",
       "    .dataframe tbody tr th:only-of-type {\n",
       "        vertical-align: middle;\n",
       "    }\n",
       "\n",
       "    .dataframe tbody tr th {\n",
       "        vertical-align: top;\n",
       "    }\n",
       "\n",
       "    .dataframe thead th {\n",
       "        text-align: right;\n",
       "    }\n",
       "</style>\n",
       "<table border=\"1\" class=\"dataframe\">\n",
       "  <thead>\n",
       "    <tr style=\"text-align: right;\">\n",
       "      <th></th>\n",
       "      <th>CustomerID</th>\n",
       "      <th>FirstName</th>\n",
       "      <th>LastName</th>\n",
       "      <th>Email</th>\n",
       "      <th>Phone</th>\n",
       "      <th>Address</th>\n",
       "    </tr>\n",
       "  </thead>\n",
       "  <tbody>\n",
       "    <tr>\n",
       "      <th>0</th>\n",
       "      <td>1</td>\n",
       "      <td>Juan</td>\n",
       "      <td>Pérez</td>\n",
       "      <td>juan.perez@email.com</td>\n",
       "      <td>555-1234</td>\n",
       "      <td>Calle de la Rosa 12, Sevilla</td>\n",
       "    </tr>\n",
       "    <tr>\n",
       "      <th>1</th>\n",
       "      <td>2</td>\n",
       "      <td>Ana</td>\n",
       "      <td>López</td>\n",
       "      <td>ana.lopez@email.com</td>\n",
       "      <td>555-5678</td>\n",
       "      <td>Av. Libertad 3, Valencia</td>\n",
       "    </tr>\n",
       "  </tbody>\n",
       "</table>\n",
       "</div>"
      ],
      "text/plain": [
       "   CustomerID FirstName LastName                 Email     Phone  \\\n",
       "0           1      Juan    Pérez  juan.perez@email.com  555-1234   \n",
       "1           2       Ana    López   ana.lopez@email.com  555-5678   \n",
       "\n",
       "                        Address  \n",
       "0  Calle de la Rosa 12, Sevilla  \n",
       "1      Av. Libertad 3, Valencia  "
      ]
     },
     "execution_count": 9,
     "metadata": {},
     "output_type": "execute_result"
    }
   ],
   "source": [
    "data = tool.run_sql(sql=\"SELECT * FROM Customers\", limit=2)\n",
    "print(data)\n",
    "\n",
    "import pandas as pd\n",
    "df = pd.DataFrame(data)\n",
    "df.head()"
   ]
  },
  {
   "cell_type": "code",
   "execution_count": 11,
   "metadata": {},
   "outputs": [
    {
     "data": {
      "text/plain": [
       "'<table border=\"1\" class=\"dataframe\">\\n  <thead>\\n    <tr style=\"text-align: right;\">\\n      <th></th>\\n      <th>CustomerID</th>\\n      <th>FirstName</th>\\n      <th>LastName</th>\\n      <th>Email</th>\\n      <th>Phone</th>\\n      <th>Address</th>\\n    </tr>\\n  </thead>\\n  <tbody>\\n    <tr>\\n      <th>0</th>\\n      <td>1</td>\\n      <td>Juan</td>\\n      <td>Pérez</td>\\n      <td>juan.perez@email.com</td>\\n      <td>555-1234</td>\\n      <td>Calle de la Rosa 12, Sevilla</td>\\n    </tr>\\n    <tr>\\n      <th>1</th>\\n      <td>2</td>\\n      <td>Ana</td>\\n      <td>López</td>\\n      <td>ana.lopez@email.com</td>\\n      <td>555-5678</td>\\n      <td>Av. Libertad 3, Valencia</td>\\n    </tr>\\n  </tbody>\\n</table>'"
      ]
     },
     "execution_count": 11,
     "metadata": {},
     "output_type": "execute_result"
    }
   ],
   "source": [
    "df.to_html()"
   ]
  },
  {
   "cell_type": "markdown",
   "metadata": {},
   "source": [
    "### QuerySql agent"
   ]
  },
  {
   "cell_type": "code",
   "execution_count": null,
   "metadata": {},
   "outputs": [],
   "source": [
    "# from agno.agent import Agent\n",
    "\n",
    "# No funciona con el modelo de ollama\n",
    "# querysql_agent = Agent(model=sql_ollama_model, name=\"sqlagent\", tools=[tool.run_sql], show_tool_calls=True)"
   ]
  },
  {
   "cell_type": "code",
   "execution_count": 15,
   "metadata": {},
   "outputs": [],
   "source": [
    "import os\n",
    "from pathlib import Path\n",
    "from dotenv import load_dotenv\n",
    "from typing import Annotated, Literal, Any, Optional, List\n",
    "from dataclasses import dataclass\n",
    "from agno.models.ollama import Ollama\n",
    "from ollama import Client as OllamaClient\n",
    "from agno.agent import Agent\n",
    "from sql_agent.prompt import TEXT2SQL_TEMPLATE\n",
    "from sql_agent.utils import logger\n",
    "import pandas as pd\n",
    "\n",
    "log = logger.get_logger(__name__)\n",
    "\n",
    "\n",
    "@dataclass\n",
    "class Text2SQLAgent:\n",
    "\t\"\"\" Text to SQL Agent to convert natural language to SQL \"\"\"\t\n",
    "\tdef __post_init__(self,\tdb_url = 'sqlite:///../data/shop.db'):\n",
    "\t\t# Instantiate the Ollama model\n",
    "\t\tself.ollama_model= Ollama(id=\"qwen2.5-coder:7b\")\n",
    "\n",
    "\t\tself.agent_name = \"text2sql\"\n",
    "\n",
    "\t\t# Instantiate the agent\n",
    "\t\tself.text2sql_agent = Agent(model=self.ollama_model, \n",
    "\t\t\t\t\t\t\t\tname = self.agent_name, \n",
    "\t\t\t\t\t\t\t\trole=\"Text to SQL Agent\",\n",
    "\t\t\t\t\t\t\t\tinstructions=[TEXT2SQL_TEMPLATE], \n",
    "\t\t\t\t\t\t\t\tshow_tool_calls=True)\n",
    "\t\t\n",
    "\t\t# Instantiate the SQLTools\n",
    "\t\tself.engine = create_engine(db_url)\n",
    "\t\tself.tools = SQLTools(db_engine=self.engine)\n",
    "\n",
    "\tdef write_query(self, question:str):\n",
    "\t\t\"\"\" Run the agent and return the sql query\n",
    "\t\tArgs:\n",
    "\t\t\tquestion (str): question\n",
    "\t\tReturns:\n",
    "\t\t\tsql_query (str): sql query\n",
    "\t\t\"\"\"\n",
    "\t\tresponse = self.text2sql_agent.run(question)\n",
    "\t\tsql_query = response.content\n",
    "\t\treturn sql_query\n",
    "\n",
    "\tdef execute_query(self, sql_query:str):\n",
    "\t\t\"\"\" Run the sql query \n",
    "\t\tArgs:\n",
    "\t\t\tsql_query (str): sql query\n",
    "\t\tReturns:\n",
    "\t\t\tresults: Results\n",
    "\t\t\"\"\"\n",
    "\t\tdata = self.tools.run_sql(sql=sql_query)\n",
    "\t\tdf = pd.DataFrame(data)\n",
    "\t\tif df.empty:\n",
    "\t\t\treturn \"No hay datos\"\n",
    "\t\telse:\n",
    "\t\t\treturn df.to_html()\n",
    "\n",
    "\tdef request(self, question):\n",
    "\t\t\"\"\" Run the agent and return the answer. \"\"\"\n",
    "\t\t\n",
    "\t\tlog.info(f\"Writing sql query for the question:{question}\")\n",
    "\t\tsql_query = self.write_query(question)\n",
    "\t\tlog.info(f\"Executing the sql query:{sql_query}\")\n",
    "\t\tanswer = self.execute_query(sql_query)\n",
    "\t\treturn sql_query,answer"
   ]
  },
  {
   "cell_type": "code",
   "execution_count": 16,
   "metadata": {},
   "outputs": [],
   "source": [
    "text2sql_agent = Text2SQLAgent()"
   ]
  },
  {
   "cell_type": "code",
   "execution_count": 17,
   "metadata": {},
   "outputs": [
    {
     "name": "stdout",
     "output_type": "stream",
     "text": [
      "SELECT CustomerID, FirstName, LastName, Email, Phone, Address FROM Customers;\n",
      "<table border=\"1\" class=\"dataframe\">\n",
      "  <thead>\n",
      "    <tr style=\"text-align: right;\">\n",
      "      <th></th>\n",
      "      <th>CustomerID</th>\n",
      "      <th>FirstName</th>\n",
      "      <th>LastName</th>\n",
      "      <th>Email</th>\n",
      "      <th>Phone</th>\n",
      "      <th>Address</th>\n",
      "    </tr>\n",
      "  </thead>\n",
      "  <tbody>\n",
      "    <tr>\n",
      "      <th>0</th>\n",
      "      <td>1</td>\n",
      "      <td>Juan</td>\n",
      "      <td>Pérez</td>\n",
      "      <td>juan.perez@email.com</td>\n",
      "      <td>555-1234</td>\n",
      "      <td>Calle de la Rosa 12, Sevilla</td>\n",
      "    </tr>\n",
      "    <tr>\n",
      "      <th>1</th>\n",
      "      <td>2</td>\n",
      "      <td>Ana</td>\n",
      "      <td>López</td>\n",
      "      <td>ana.lopez@email.com</td>\n",
      "      <td>555-5678</td>\n",
      "      <td>Av. Libertad 3, Valencia</td>\n",
      "    </tr>\n",
      "    <tr>\n",
      "      <th>2</th>\n",
      "      <td>3</td>\n",
      "      <td>Carlos</td>\n",
      "      <td>González</td>\n",
      "      <td>carlos.gonzalez@email.com</td>\n",
      "      <td>555-8765</td>\n",
      "      <td>Calle del Sol 7, Madrid</td>\n",
      "    </tr>\n",
      "    <tr>\n",
      "      <th>3</th>\n",
      "      <td>4</td>\n",
      "      <td>Laura</td>\n",
      "      <td>Martínez</td>\n",
      "      <td>laura.martinez@email.com</td>\n",
      "      <td>555-3456</td>\n",
      "      <td>Carrer de la Marina 5, Barcelona</td>\n",
      "    </tr>\n",
      "    <tr>\n",
      "      <th>4</th>\n",
      "      <td>5</td>\n",
      "      <td>Eva</td>\n",
      "      <td>Sánchez</td>\n",
      "      <td>pedro.sanchez@email.com</td>\n",
      "      <td>555-6543</td>\n",
      "      <td>Av. Paseo de Marques 9, Alicante</td>\n",
      "    </tr>\n",
      "  </tbody>\n",
      "</table>\n"
     ]
    }
   ],
   "source": [
    "query = \"¿Cuáles son los detalles de todos los clientes?\"\n",
    "sql_query,answer = text2sql_agent.request(query)\n",
    "\n",
    "print(sql_query)\n",
    "print(answer)"
   ]
  },
  {
   "cell_type": "markdown",
   "metadata": {},
   "source": [
    "### Text 2 sql agent"
   ]
  },
  {
   "cell_type": "code",
   "execution_count": 3,
   "metadata": {},
   "outputs": [],
   "source": [
    "from agno.agent import Agent\n",
    "\n",
    "instructions=\"\"\"\n",
    "You are an expert in SQL. You can create sql queries from natural language following these schemas:\n",
    "\n",
    "CREATE TABLE IF NOT EXISTS Customers(\n",
    "        CustomerID INTEGER PRIMARY KEY AUTOINCREMENT,\n",
    "        FirstName TEXT NOT NULL,\n",
    "        LastName TEXT NOT NULL,\n",
    "        Email TEXT UNIQUE NOT NULL,\n",
    "        Phone TEXT,\n",
    "        Address TEXT\n",
    ");\n",
    "\n",
    "-- Create Products table\n",
    "CREATE TABLE IF NOT EXISTS Products (\n",
    "        ProductID INTEGER PRIMARY KEY AUTOINCREMENT,\n",
    "        Name TEXT NOT NULL,\n",
    "        Description TEXT,\n",
    "        Price REAL NOT NULL,\n",
    "        StockQuantity INTEGER NOT NULL,\n",
    "        Category TEXT NOT NULL\n",
    "    );\n",
    "\n",
    "\n",
    "-- Create Orders table\n",
    "CREATE TABLE IF NOT EXISTS Orders (\n",
    "        OrderID INTEGER PRIMARY KEY AUTOINCREMENT,\n",
    "        CustomerID INTEGER NOT NULL,\n",
    "        OrderDate DATE NOT NULL,\n",
    "        TotalAmount REAL NOT NULL,\n",
    "        FOREIGN KEY (CustomerID) REFERENCES Customers(CustomerID)\n",
    "    );\n",
    "\n",
    "-- Create OrderDetails table\n",
    "CREATE TABLE IF NOT EXISTS OrderDetails (\n",
    "        OrderDetailID INTEGER PRIMARY KEY AUTOINCREMENT,\n",
    "        OrderID INTEGER NOT NULL,\n",
    "        ProductID INTEGER NOT NULL,\n",
    "        Quantity INTEGER NOT NULL,\n",
    "        Subtotal REAL NOT NULL,\n",
    "        FOREIGN KEY (OrderID) REFERENCES Orders(OrderID),\n",
    "        FOREIGN KEY (ProductID) REFERENCES Products(ProductID)\n",
    "    );\n",
    "\n",
    "Return only the sql query. Don't explain the query and don't put the sql query in ```sql\\n```.\n",
    "\"\"\"\n",
    "text2sql_agent = Agent(model=sql_ollama_model, name=\"text2sql\", instructions=instructions, show_tool_calls=True)"
   ]
  },
  {
   "cell_type": "markdown",
   "metadata": {},
   "source": [
    "### Tests"
   ]
  },
  {
   "cell_type": "code",
   "execution_count": 4,
   "metadata": {},
   "outputs": [],
   "source": [
    "def write_sql_query(query:str):\n",
    "    \"\"\" Function to write sql query \"\"\"\n",
    "    start_time = time.perf_counter()\n",
    "\n",
    "    response = text2sql_agent.run(query)\n",
    "\n",
    "    end_time = time.perf_counter()\n",
    "    \n",
    "    latency = end_time - start_time\n",
    "    \n",
    "    print(f\"Execution time: {latency} seconds\")\n",
    "    answer = response.content\n",
    "    \n",
    "    return answer\n",
    "    "
   ]
  },
  {
   "cell_type": "code",
   "execution_count": 5,
   "metadata": {},
   "outputs": [
    {
     "name": "stdout",
     "output_type": "stream",
     "text": [
      "Execution time: 109.26334430000861 seconds\n"
     ]
    },
    {
     "data": {
      "text/plain": [
       "'SELECT * FROM Customers;'"
      ]
     },
     "execution_count": 5,
     "metadata": {},
     "output_type": "execute_result"
    }
   ],
   "source": [
    "query = \"¿Cuáles son los detalles de todos los clientes?\"\n",
    "write_sql_query(query) #SELECT * FROM Customers;"
   ]
  },
  {
   "cell_type": "code",
   "execution_count": 6,
   "metadata": {},
   "outputs": [
    {
     "name": "stdout",
     "output_type": "stream",
     "text": [
      "Execution time: 6.971404300013091 seconds\n"
     ]
    },
    {
     "data": {
      "text/plain": [
       "\"SELECT Name FROM Products WHERE Category = 'Women'\""
      ]
     },
     "execution_count": 6,
     "metadata": {},
     "output_type": "execute_result"
    }
   ],
   "source": [
    "query = \"¿Cuáles son los productos disponibles en la categoría 'Women'?\"\n",
    "write_sql_query(query)#\"SELECT * FROM Products WHERE Category = 'Women';\","
   ]
  },
  {
   "cell_type": "code",
   "execution_count": 7,
   "metadata": {},
   "outputs": [
    {
     "name": "stdout",
     "output_type": "stream",
     "text": [
      "Execution time: 11.981810800003586 seconds\n"
     ]
    },
    {
     "data": {
      "text/plain": [
       "'SELECT SUM(TotalAmount) FROM Orders WHERE CustomerID = 5'"
      ]
     },
     "execution_count": 7,
     "metadata": {},
     "output_type": "execute_result"
    }
   ],
   "source": [
    "query = \"¿Cuál es el precio total de todos los pedidos realizados por un cliente específico con ID 5?\"\n",
    "write_sql_query(query)#\"SELECT SUM(TotalAmount) FROM Orders WHERE CustomerID = 5;\","
   ]
  },
  {
   "cell_type": "code",
   "execution_count": 8,
   "metadata": {},
   "outputs": [
    {
     "name": "stdout",
     "output_type": "stream",
     "text": [
      "Execution time: 10.258081999985734 seconds\n"
     ]
    },
    {
     "data": {
      "text/plain": [
       "'SELECT COUNT(*) FROM Products WHERE StockQuantity > 20'"
      ]
     },
     "execution_count": 8,
     "metadata": {},
     "output_type": "execute_result"
    }
   ],
   "source": [
    "query = \"¿Cuántos productos están en stock con una cantidad mayor a 20 unidades?\"\n",
    "write_sql_query(query)#\"SELECT * FROM Products WHERE StockQuantity > 20;\""
   ]
  },
  {
   "cell_type": "code",
   "execution_count": 9,
   "metadata": {},
   "outputs": [
    {
     "name": "stdout",
     "output_type": "stream",
     "text": [
      "Execution time: 14.596958100009942 seconds\n"
     ]
    },
    {
     "data": {
      "text/plain": [
       "'SELECT P.ProductID, P.Name FROM Products AS P JOIN OrderDetails AS OD ON P.ProductID = OD.ProductID WHERE OD.OrderID = 3;'"
      ]
     },
     "execution_count": 9,
     "metadata": {},
     "output_type": "execute_result"
    }
   ],
   "source": [
    "query = \"¿Qué productos han sido comprados en el pedido con ID 3?\"\n",
    "write_sql_query(query)#\"SELECT p.Name, od.Quantity, od.Subtotal FROM OrderDetails od INNER JOIN Products p ON od.ProductID = p.ProductID WHERE od.OrderID = 3;\","
   ]
  }
 ],
 "metadata": {
  "kernelspec": {
   "display_name": ".venv",
   "language": "python",
   "name": "python3"
  },
  "language_info": {
   "codemirror_mode": {
    "name": "ipython",
    "version": 3
   },
   "file_extension": ".py",
   "mimetype": "text/x-python",
   "name": "python",
   "nbconvert_exporter": "python",
   "pygments_lexer": "ipython3",
   "version": "3.13.1"
  }
 },
 "nbformat": 4,
 "nbformat_minor": 2
}
