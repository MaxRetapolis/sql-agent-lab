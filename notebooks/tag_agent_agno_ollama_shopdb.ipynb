{
 "cells": [
  {
   "cell_type": "code",
   "execution_count": 4,
   "metadata": {},
   "outputs": [],
   "source": [
    "import getpass\n",
    "import os\n",
    "import time\n",
    "from dotenv import load_dotenv\n",
    "\n",
    "# Load the .env file\n",
    "_ = load_dotenv()"
   ]
  },
  {
   "cell_type": "markdown",
   "metadata": {},
   "source": [
    "### Model"
   ]
  },
  {
   "cell_type": "code",
   "execution_count": 5,
   "metadata": {},
   "outputs": [],
   "source": [
    "from agno.models.ollama import Ollama\n",
    "\n",
    "sql_ollama_model=Ollama(id=\"qwen2.5-coder:7b\")"
   ]
  },
  {
   "cell_type": "markdown",
   "metadata": {},
   "source": [
    "## Database Connection"
   ]
  },
  {
   "cell_type": "code",
   "execution_count": 6,
   "metadata": {},
   "outputs": [],
   "source": [
    "from agno.tools.sql import SQLTools\n",
    "from sqlalchemy import create_engine"
   ]
  },
  {
   "cell_type": "code",
   "execution_count": 7,
   "metadata": {},
   "outputs": [],
   "source": [
    "db_url = 'sqlite:///../data/shop.db'\n",
    "engine = create_engine(db_url)"
   ]
  },
  {
   "cell_type": "code",
   "execution_count": 8,
   "metadata": {},
   "outputs": [
    {
     "data": {
      "text/plain": [
       "<SQLTools name=sql_tools functions=['list_tables', 'describe_table', 'run_sql_query']>"
      ]
     },
     "execution_count": 8,
     "metadata": {},
     "output_type": "execute_result"
    }
   ],
   "source": [
    "tool = SQLTools(db_engine=engine)\n",
    "tool"
   ]
  },
  {
   "cell_type": "code",
   "execution_count": 9,
   "metadata": {},
   "outputs": [
    {
     "data": {
      "text/plain": [
       "OrderedDict([('list_tables',\n",
       "              Function(name='list_tables', description=None, parameters={'type': 'object', 'properties': {}, 'required': []}, strict=None, entrypoint=<bound method SQLTools.list_tables of <SQLTools name=sql_tools functions=['list_tables', 'describe_table', 'run_sql_query']>>, sanitize_arguments=True, show_result=False, stop_after_tool_call=False, pre_hook=None, post_hook=None)),\n",
       "             ('describe_table',\n",
       "              Function(name='describe_table', description=None, parameters={'type': 'object', 'properties': {}, 'required': []}, strict=None, entrypoint=<bound method SQLTools.describe_table of <SQLTools name=sql_tools functions=['list_tables', 'describe_table', 'run_sql_query']>>, sanitize_arguments=True, show_result=False, stop_after_tool_call=False, pre_hook=None, post_hook=None)),\n",
       "             ('run_sql_query',\n",
       "              Function(name='run_sql_query', description=None, parameters={'type': 'object', 'properties': {}, 'required': []}, strict=None, entrypoint=<bound method SQLTools.run_sql_query of <SQLTools name=sql_tools functions=['list_tables', 'describe_table', 'run_sql_query']>>, sanitize_arguments=True, show_result=False, stop_after_tool_call=False, pre_hook=None, post_hook=None))])"
      ]
     },
     "execution_count": 9,
     "metadata": {},
     "output_type": "execute_result"
    }
   ],
   "source": [
    "tool.functions"
   ]
  },
  {
   "cell_type": "code",
   "execution_count": 10,
   "metadata": {},
   "outputs": [
    {
     "data": {
      "text/plain": [
       "'[\"Customers\", \"OrderDetails\", \"Orders\", \"Products\"]'"
      ]
     },
     "execution_count": 10,
     "metadata": {},
     "output_type": "execute_result"
    }
   ],
   "source": [
    "tool.list_tables()"
   ]
  },
  {
   "cell_type": "code",
   "execution_count": 11,
   "metadata": {},
   "outputs": [
    {
     "data": {
      "text/plain": [
       "[{'CustomerID': 1,\n",
       "  'FirstName': 'Juan',\n",
       "  'LastName': 'Pérez',\n",
       "  'Email': 'juan.perez@email.com',\n",
       "  'Phone': '555-1234',\n",
       "  'Address': 'Calle de la Rosa 12, Sevilla'}]"
      ]
     },
     "execution_count": 11,
     "metadata": {},
     "output_type": "execute_result"
    }
   ],
   "source": [
    "tool.run_sql(sql=\"SELECT * FROM Customers\", limit=1)"
   ]
  },
  {
   "cell_type": "markdown",
   "metadata": {},
   "source": [
    "### QuerySql agent"
   ]
  },
  {
   "cell_type": "code",
   "execution_count": null,
   "metadata": {},
   "outputs": [],
   "source": [
    "from agno.agent import Agent\n",
    "\n",
    "querysql_agent = Agent(model=sql_ollama_model, name=\"sqlagent\", tools=[tool.run_sql], show_tool_calls=True)"
   ]
  },
  {
   "cell_type": "markdown",
   "metadata": {},
   "source": [
    "### Text 2 sql agent"
   ]
  },
  {
   "cell_type": "code",
   "execution_count": 3,
   "metadata": {},
   "outputs": [],
   "source": [
    "from agno.agent import Agent\n",
    "\n",
    "instructions=\"\"\"\n",
    "You are an expert in SQL. You can create sql queries from natural language following these schemas:\n",
    "\n",
    "CREATE TABLE IF NOT EXISTS Customers(\n",
    "        CustomerID INTEGER PRIMARY KEY AUTOINCREMENT,\n",
    "        FirstName TEXT NOT NULL,\n",
    "        LastName TEXT NOT NULL,\n",
    "        Email TEXT UNIQUE NOT NULL,\n",
    "        Phone TEXT,\n",
    "        Address TEXT\n",
    ");\n",
    "\n",
    "-- Create Products table\n",
    "CREATE TABLE IF NOT EXISTS Products (\n",
    "        ProductID INTEGER PRIMARY KEY AUTOINCREMENT,\n",
    "        Name TEXT NOT NULL,\n",
    "        Description TEXT,\n",
    "        Price REAL NOT NULL,\n",
    "        StockQuantity INTEGER NOT NULL,\n",
    "        Category TEXT NOT NULL\n",
    "    );\n",
    "\n",
    "\n",
    "-- Create Orders table\n",
    "CREATE TABLE IF NOT EXISTS Orders (\n",
    "        OrderID INTEGER PRIMARY KEY AUTOINCREMENT,\n",
    "        CustomerID INTEGER NOT NULL,\n",
    "        OrderDate DATE NOT NULL,\n",
    "        TotalAmount REAL NOT NULL,\n",
    "        FOREIGN KEY (CustomerID) REFERENCES Customers(CustomerID)\n",
    "    );\n",
    "\n",
    "-- Create OrderDetails table\n",
    "CREATE TABLE IF NOT EXISTS OrderDetails (\n",
    "        OrderDetailID INTEGER PRIMARY KEY AUTOINCREMENT,\n",
    "        OrderID INTEGER NOT NULL,\n",
    "        ProductID INTEGER NOT NULL,\n",
    "        Quantity INTEGER NOT NULL,\n",
    "        Subtotal REAL NOT NULL,\n",
    "        FOREIGN KEY (OrderID) REFERENCES Orders(OrderID),\n",
    "        FOREIGN KEY (ProductID) REFERENCES Products(ProductID)\n",
    "    );\n",
    "\n",
    "Return only the sql query. Don't explain the query and don't put the sql query in ```sql\\n```.\n",
    "\"\"\"\n",
    "text2sql_agent = Agent(model=sql_ollama_model, name=\"text2sql\", instructions=instructions, show_tool_calls=True)"
   ]
  },
  {
   "cell_type": "markdown",
   "metadata": {},
   "source": [
    "### Tests"
   ]
  },
  {
   "cell_type": "code",
   "execution_count": 4,
   "metadata": {},
   "outputs": [],
   "source": [
    "def write_sql_query(query:str):\n",
    "    \"\"\" Function to write sql query \"\"\"\n",
    "    start_time = time.perf_counter()\n",
    "\n",
    "    response = text2sql_agent.run(query)\n",
    "\n",
    "    end_time = time.perf_counter()\n",
    "    \n",
    "    latency = end_time - start_time\n",
    "    \n",
    "    print(f\"Execution time: {latency} seconds\")\n",
    "    answer = response.content\n",
    "    \n",
    "    return answer\n",
    "    "
   ]
  },
  {
   "cell_type": "code",
   "execution_count": 5,
   "metadata": {},
   "outputs": [
    {
     "name": "stdout",
     "output_type": "stream",
     "text": [
      "Execution time: 109.26334430000861 seconds\n"
     ]
    },
    {
     "data": {
      "text/plain": [
       "'SELECT * FROM Customers;'"
      ]
     },
     "execution_count": 5,
     "metadata": {},
     "output_type": "execute_result"
    }
   ],
   "source": [
    "query = \"¿Cuáles son los detalles de todos los clientes?\"\n",
    "write_sql_query(query) #SELECT * FROM Customers;"
   ]
  },
  {
   "cell_type": "code",
   "execution_count": 6,
   "metadata": {},
   "outputs": [
    {
     "name": "stdout",
     "output_type": "stream",
     "text": [
      "Execution time: 6.971404300013091 seconds\n"
     ]
    },
    {
     "data": {
      "text/plain": [
       "\"SELECT Name FROM Products WHERE Category = 'Women'\""
      ]
     },
     "execution_count": 6,
     "metadata": {},
     "output_type": "execute_result"
    }
   ],
   "source": [
    "query = \"¿Cuáles son los productos disponibles en la categoría 'Women'?\"\n",
    "write_sql_query(query)#\"SELECT * FROM Products WHERE Category = 'Women';\","
   ]
  },
  {
   "cell_type": "code",
   "execution_count": 7,
   "metadata": {},
   "outputs": [
    {
     "name": "stdout",
     "output_type": "stream",
     "text": [
      "Execution time: 11.981810800003586 seconds\n"
     ]
    },
    {
     "data": {
      "text/plain": [
       "'SELECT SUM(TotalAmount) FROM Orders WHERE CustomerID = 5'"
      ]
     },
     "execution_count": 7,
     "metadata": {},
     "output_type": "execute_result"
    }
   ],
   "source": [
    "query = \"¿Cuál es el precio total de todos los pedidos realizados por un cliente específico con ID 5?\"\n",
    "write_sql_query(query)#\"SELECT SUM(TotalAmount) FROM Orders WHERE CustomerID = 5;\","
   ]
  },
  {
   "cell_type": "code",
   "execution_count": 8,
   "metadata": {},
   "outputs": [
    {
     "name": "stdout",
     "output_type": "stream",
     "text": [
      "Execution time: 10.258081999985734 seconds\n"
     ]
    },
    {
     "data": {
      "text/plain": [
       "'SELECT COUNT(*) FROM Products WHERE StockQuantity > 20'"
      ]
     },
     "execution_count": 8,
     "metadata": {},
     "output_type": "execute_result"
    }
   ],
   "source": [
    "query = \"¿Cuántos productos están en stock con una cantidad mayor a 20 unidades?\"\n",
    "write_sql_query(query)#\"SELECT * FROM Products WHERE StockQuantity > 20;\""
   ]
  },
  {
   "cell_type": "code",
   "execution_count": 9,
   "metadata": {},
   "outputs": [
    {
     "name": "stdout",
     "output_type": "stream",
     "text": [
      "Execution time: 14.596958100009942 seconds\n"
     ]
    },
    {
     "data": {
      "text/plain": [
       "'SELECT P.ProductID, P.Name FROM Products AS P JOIN OrderDetails AS OD ON P.ProductID = OD.ProductID WHERE OD.OrderID = 3;'"
      ]
     },
     "execution_count": 9,
     "metadata": {},
     "output_type": "execute_result"
    }
   ],
   "source": [
    "query = \"¿Qué productos han sido comprados en el pedido con ID 3?\"\n",
    "write_sql_query(query)#\"SELECT p.Name, od.Quantity, od.Subtotal FROM OrderDetails od INNER JOIN Products p ON od.ProductID = p.ProductID WHERE od.OrderID = 3;\","
   ]
  }
 ],
 "metadata": {
  "kernelspec": {
   "display_name": ".venv",
   "language": "python",
   "name": "python3"
  },
  "language_info": {
   "codemirror_mode": {
    "name": "ipython",
    "version": 3
   },
   "file_extension": ".py",
   "mimetype": "text/x-python",
   "name": "python",
   "nbconvert_exporter": "python",
   "pygments_lexer": "ipython3",
   "version": "3.13.1"
  }
 },
 "nbformat": 4,
 "nbformat_minor": 2
}
