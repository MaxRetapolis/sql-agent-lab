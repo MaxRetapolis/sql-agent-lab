{
 "cells": [
  {
   "cell_type": "code",
   "execution_count": 1,
   "metadata": {},
   "outputs": [],
   "source": [
    "from langchain_core.prompts import ChatPromptTemplate\n",
    "from langchain_ollama.llms import OllamaLLM\n",
    "from pprint import pprint"
   ]
  },
  {
   "cell_type": "code",
   "execution_count": 2,
   "metadata": {},
   "outputs": [],
   "source": [
    "query = \"Give the sql command to describe a table\""
   ]
  },
  {
   "cell_type": "markdown",
   "metadata": {},
   "source": [
    "# Ollama Models"
   ]
  },
  {
   "cell_type": "code",
   "execution_count": null,
   "metadata": {},
   "outputs": [],
   "source": [
    "#deepseek-r1:1.5b does not support tools\n",
    "#sqlcoder:latest does not support tool\n",
    "#codeqwen:latest does not support tools\n",
    "#codellama:latest does not support tools\n",
    "#codegemma:7b does not support tools"
   ]
  },
  {
   "cell_type": "markdown",
   "metadata": {},
   "source": [
    "#### deepseek-r1:1.5b\n",
    "\n",
    "https://ollama.com/library/deepseek-r1"
   ]
  },
  {
   "cell_type": "code",
   "execution_count": 6,
   "metadata": {},
   "outputs": [
    {
     "name": "stdout",
     "output_type": "stream",
     "text": [
      "('<think>\\n'\n",
      " 'Okay, so I need to figure out how to create an SQL command that describes a '\n",
      " 'table. Hmm, I remember that in MySQL, tables are defined using specific '\n",
      " 'syntax. Let me try to recall what exactly needs to be done.\\n'\n",
      " '\\n'\n",
      " 'First, the user mentioned thinking through each step. So, maybe I should '\n",
      " 'break it down into clear steps. The user wants me to write out each thought '\n",
      " 'process as if they were explaining it to someone else.\\n'\n",
      " '\\n'\n",
      " 'So, starting with the example they provided: \"Give the SQL command to '\n",
      " 'describe a table\". That makes sense because when you want to create a table '\n",
      " 'in MySQL, you use CREATE TABLE syntax. So, the general form is CREATE TABLE '\n",
      " '[table name] ([columns]).\\n'\n",
      " '\\n'\n",
      " 'But wait, I should make sure that all necessary fields are included. The '\n",
      " \"user didn't specify any particular fields, so maybe it's best to assume that \"\n",
      " \"they're not provided and just want a basic structure. Also, in some \"\n",
      " 'databases, you might have an auto-incremented column for the first record '\n",
      " 'unless specified otherwise.\\n'\n",
      " '\\n'\n",
      " 'Another thing to consider is whether the table should be defined with or '\n",
      " \"without a primary key. If the user didn't specify, perhaps it's safer to \"\n",
      " \"assume that the table doesn't have a primary key and instead has an index \"\n",
      " 'for efficient querying.\\n'\n",
      " '\\n'\n",
      " 'So putting this together, I think the SQL command would start with CREATE '\n",
      " 'TABLE, then add the table name, followed by a space, [space], then maybe '\n",
      " '\"ID\" if there\\'s no primary key. Then, any columns needed should follow in '\n",
      " 'brackets.\\n'\n",
      " '\\n'\n",
      " 'Wait, but what about the structure of the fields? In MySQL, you can specify '\n",
      " 'the data type as well after the columns, like [ID INT PRIMARY KEY]. But '\n",
      " \"since the user didn't provide specific types, maybe it's not necessary \"\n",
      " 'unless they want a particular type defined.\\n'\n",
      " '\\n'\n",
      " \"I think I've got all the parts covered. So the final command would be: \"\n",
      " 'CREATE TABLE name ID [space] [columns].\\n'\n",
      " '\\n'\n",
      " 'But to make sure, let me check if there are any other considerations. For '\n",
      " 'example, in some databases, you might have an FOREIGN KEY clause or '\n",
      " \"referential integrity constraints, but unless specified, it's probably \"\n",
      " 'better to keep it simple without those.\\n'\n",
      " '\\n'\n",
      " 'Also, considering that the user is asking for a basic command, I should '\n",
      " 'avoid using more complex features like indexes or foreign keys unless '\n",
      " 'necessary. So sticking with just CREATE TABLE should suffice.\\n'\n",
      " '\\n'\n",
      " \"Alright, I think I've covered all the bases here. Time to put it into a \"\n",
      " 'clear and concise answer.\\n'\n",
      " '</think>\\n'\n",
      " '\\n'\n",
      " \"To create a table in MySQL, you use the `CREATE TABLE` syntax. Here's how \"\n",
      " 'you can define a basic table structure:\\n'\n",
      " '\\n'\n",
      " '1. **Table Name**: The name of the table (e.g., \"users\").\\n'\n",
      " '2. **Columns**: Any field(s) that the table will have (e.g., \"id\", \"name\").\\n'\n",
      " '3. **Primary Key**: Optional, for efficient querying. You might use `ID INT '\n",
      " 'PRIMARY KEY`.\\n'\n",
      " '\\n'\n",
      " '**Example:**\\n'\n",
      " '\\n'\n",
      " '```sql\\n'\n",
      " 'CREATE TABLE users (\\n'\n",
      " '    id INT PRIMARY KEY,\\n'\n",
      " '    name VARCHAR(255)\\n'\n",
      " ');\\n'\n",
      " '```\\n'\n",
      " '\\n'\n",
      " 'This command creates a table named \"users\" with an auto-incremented integer '\n",
      " 'column `id` and a string column `name`.')\n"
     ]
    }
   ],
   "source": [
    "template = \"\"\"Question: {question}\n",
    "\n",
    "Answer: Let's think step by step.\"\"\"\n",
    "\n",
    "prompt = ChatPromptTemplate.from_template(template)\n",
    "\n",
    "model = OllamaLLM(model=\"deepseek-r1:1.5b\")\n",
    "\n",
    "chain = prompt | model\n",
    "\n",
    "reponse = chain.invoke({\"question\": query})\n",
    "pprint(reponse)#44.2s"
   ]
  },
  {
   "cell_type": "markdown",
   "metadata": {},
   "source": [
    "#### sqlcoder\n",
    "\n",
    "https://ollama.com/library/sqlcoder"
   ]
  },
  {
   "cell_type": "code",
   "execution_count": null,
   "metadata": {},
   "outputs": [
    {
     "name": "stdout",
     "output_type": "stream",
     "text": [
      "(' You have a table which is named \"students\". The columns of this table are '\n",
      " '\"name\", \"age\" and \"major\". The SQL statement to describe this table is '\n",
      " '\"DESCRIBE students (name, age, major)\". Hope this helps!')\n"
     ]
    }
   ],
   "source": [
    "template = \"\"\"Question: {question}\n",
    "\n",
    "Answer: Let's think step by step.\"\"\"\n",
    "\n",
    "prompt = ChatPromptTemplate.from_template(template)\n",
    "\n",
    "model = OllamaLLM(model=\"sqlcoder:latest\")\n",
    "\n",
    "chain = prompt | model\n",
    "\n",
    "reponse = chain.invoke({\"question\": query})\n",
    "pprint(reponse)# 55s"
   ]
  },
  {
   "cell_type": "markdown",
   "metadata": {},
   "source": [
    "###  codellama\n",
    "https://ollama.com/library/codellama"
   ]
  },
  {
   "cell_type": "code",
   "execution_count": 8,
   "metadata": {},
   "outputs": [
    {
     "name": "stdout",
     "output_type": "stream",
     "text": [
      "('\\n'\n",
      " '1. First, we need to identify the name of the table that we want to '\n",
      " 'describe. This can be done using the `SHOW TABLES` command in MySQL or the '\n",
      " 'equivalent command for your specific database management system.\\n'\n",
      " '2. Once we have the name of the table, we can use the `DESCRIBE` or `DESC` '\n",
      " 'command to get a detailed description of its structure. For example:\\n'\n",
      " '```\\n'\n",
      " 'DESCRIBE mytable;\\n'\n",
      " '```\\n'\n",
      " 'This will provide us with information about the columns in the table, '\n",
      " 'including their data types and any constraints that are applied to them.\\n'\n",
      " '3. If we want to get more specific information about a particular column, we '\n",
      " 'can use the `DESCRIBE` command followed by the name of the column:\\n'\n",
      " '```\\n'\n",
      " 'DESCRIBE mytable.column_name;\\n'\n",
      " '```\\n'\n",
      " 'This will provide us with detailed information about the specified column, '\n",
      " 'including its data type and any constraints that are applied to it.\\n'\n",
      " \"4. If we want to get a summary of the table's structure, we can use the \"\n",
      " '`SHOW CREATE TABLE` command:\\n'\n",
      " '```\\n'\n",
      " 'SHOW CREATE TABLE mytable;\\n'\n",
      " '```\\n'\n",
      " \"This will provide us with a summary of the table's structure in a more \"\n",
      " 'human-readable format than the `DESCRIBE` command.\\n'\n",
      " '5. If we want to get a list of all the columns in the table, we can use the '\n",
      " '`SHOW COLUMNS` command:\\n'\n",
      " '```\\n'\n",
      " 'SHOW COLUMNS FROM mytable;\\n'\n",
      " '```\\n'\n",
      " 'This will provide us with a list of all the columns in the specified table, '\n",
      " 'along with their data types and any constraints that are applied to them.\\n'\n",
      " '\\n'\n",
      " 'These are just a few examples of how we can use SQL commands to describe a '\n",
      " 'table. There are many other options available, depending on our specific '\n",
      " 'needs and requirements.')\n"
     ]
    }
   ],
   "source": [
    "template = \"\"\"Question: {question}\n",
    "\n",
    "Answer: Let's think step by step.\"\"\"\n",
    "\n",
    "prompt = ChatPromptTemplate.from_template(template)\n",
    "\n",
    "model = OllamaLLM(model=\"codellama:latest\")\n",
    "\n",
    "chain = prompt | model\n",
    "\n",
    "reponse = chain.invoke({\"question\": query})\n",
    "pprint(reponse) # 3 minutos y 58.s"
   ]
  },
  {
   "cell_type": "markdown",
   "metadata": {},
   "source": [
    "### deepseek-coder-v2\n",
    "\n",
    "https://ollama.com/library/deepseek-coder-v2"
   ]
  },
  {
   "cell_type": "code",
   "execution_count": null,
   "metadata": {},
   "outputs": [],
   "source": [
    "template = \"\"\"Question: {question}\n",
    "\n",
    "Answer: Let's think step by step.\"\"\"\n",
    "\n",
    "prompt = ChatPromptTemplate.from_template(template)\n",
    "\n",
    "model = OllamaLLM(model=\"codellama:latest\")\n",
    "\n",
    "chain = prompt | model\n",
    "\n",
    "reponse = chain.invoke({\"question\": query})\n",
    "pprint(reponse)"
   ]
  },
  {
   "cell_type": "markdown",
   "metadata": {},
   "source": [
    "### codegemma\n",
    "\n",
    "https://ollama.com/library/codegemma"
   ]
  },
  {
   "cell_type": "code",
   "execution_count": 3,
   "metadata": {},
   "outputs": [
    {
     "name": "stdout",
     "output_type": "stream",
     "text": [
      "'```sql\\nDESCRIBE table_name;\\n```'\n"
     ]
    }
   ],
   "source": [
    "template = \"\"\"Question: {question}\n",
    "\n",
    "Answer: Let's think step by step.\"\"\"\n",
    "\n",
    "prompt = ChatPromptTemplate.from_template(template)\n",
    "\n",
    "model = OllamaLLM(model=\"codegemma:7b\")\n",
    "\n",
    "chain = prompt | model\n",
    "\n",
    "reponse = chain.invoke({\"question\": query})\n",
    "pprint(reponse) #48s"
   ]
  },
  {
   "cell_type": "markdown",
   "metadata": {},
   "source": [
    "### codeqwen\n",
    "\n",
    "https://ollama.com/library/codeqwen"
   ]
  },
  {
   "cell_type": "code",
   "execution_count": null,
   "metadata": {},
   "outputs": [
    {
     "name": "stdout",
     "output_type": "stream",
     "text": [
      "('Step 1: Identify the table you want to describe. You will need to know the '\n",
      " 'name of the table.\\n'\n",
      " '\\n'\n",
      " 'Step 2: Run the SQL DESCRIBE statement on that table. The format is as '\n",
      " 'follows:\\n'\n",
      " '\\n'\n",
      " '```sql\\n'\n",
      " 'DESCRIBE table_name;\\n'\n",
      " '```\\n'\n",
      " '\\n'\n",
      " 'Replace `table_name` with the name of your desired table.\\n'\n",
      " '\\n'\n",
      " 'Example: \\n'\n",
      " '\\n'\n",
      " '```sql\\n'\n",
      " 'DESCRIBE users;\\n'\n",
      " '```\\n'\n",
      " '\\n'\n",
      " 'This command will display all columns in the \"users\" table along with their '\n",
      " 'respective data types and other properties.')\n"
     ]
    }
   ],
   "source": [
    "template = \"\"\"Question: {question}\n",
    "\n",
    "Answer: Let's think step by step.\"\"\"\n",
    "\n",
    "prompt = ChatPromptTemplate.from_template(template)\n",
    "\n",
    "model = OllamaLLM(model=\"codeqwen:latest\")\n",
    "\n",
    "chain = prompt | model\n",
    "\n",
    "reponse = chain.invoke({\"question\": query})\n",
    "pprint(reponse) #42s"
   ]
  },
  {
   "cell_type": "markdown",
   "metadata": {},
   "source": [
    "### qwen2.5-coder\n",
    "\n",
    "https://ollama.com/library/qwen2.5-coder"
   ]
  },
  {
   "cell_type": "code",
   "execution_count": 4,
   "metadata": {},
   "outputs": [
    {
     "name": "stdout",
     "output_type": "stream",
     "text": [
      "('Sure! To describe a table in SQL, you can use the `DESCRIBE` or `DESC` '\n",
      " 'statement. This statement provides information about the columns of a '\n",
      " 'specified table, including data types and whether they are indexed.\\n'\n",
      " '\\n'\n",
      " 'Here is the basic syntax for both commands:\\n'\n",
      " '\\n'\n",
      " '1. **Using `DESCRIBE`:**\\n'\n",
      " '   ```sql\\n'\n",
      " '   DESCRIBE table_name;\\n'\n",
      " '   ```\\n'\n",
      " '\\n'\n",
      " '2. **Using `DESC`:**\\n'\n",
      " '   ```sql\\n'\n",
      " '   DESC table_name;\\n'\n",
      " '   ```\\n'\n",
      " '\\n'\n",
      " 'Replace `table_name` with the actual name of the table you want to '\n",
      " 'describe.\\n'\n",
      " '\\n'\n",
      " 'For example, if you have a table named `employees`, you would use either of '\n",
      " 'the following commands:\\n'\n",
      " '\\n'\n",
      " '```sql\\n'\n",
      " 'DESCRIBE employees;\\n'\n",
      " '```\\n'\n",
      " 'or\\n'\n",
      " '\\n'\n",
      " '```sql\\n'\n",
      " 'DESC employees;\\n'\n",
      " '```\\n'\n",
      " '\\n'\n",
      " 'Both commands will return information about each column in the `employees` '\n",
      " 'table, such as the column name, data type, whether it allows NULL values, '\n",
      " 'and any constraints like keys or indexes.')\n"
     ]
    }
   ],
   "source": [
    "template = \"\"\"Question: {question}\n",
    "\n",
    "Answer: Let's think step by step.\"\"\"\n",
    "\n",
    "prompt = ChatPromptTemplate.from_template(template)\n",
    "\n",
    "model = OllamaLLM(model=\"qwen2.5-coder:latest\")\n",
    "\n",
    "chain = prompt | model\n",
    "\n",
    "reponse = chain.invoke({\"question\": query})\n",
    "pprint(reponse)  #1min 27s"
   ]
  }
 ],
 "metadata": {
  "kernelspec": {
   "display_name": ".venv",
   "language": "python",
   "name": "python3"
  },
  "language_info": {
   "codemirror_mode": {
    "name": "ipython",
    "version": 3
   },
   "file_extension": ".py",
   "mimetype": "text/x-python",
   "name": "python",
   "nbconvert_exporter": "python",
   "pygments_lexer": "ipython3",
   "version": "3.13.1"
  }
 },
 "nbformat": 4,
 "nbformat_minor": 2
}
