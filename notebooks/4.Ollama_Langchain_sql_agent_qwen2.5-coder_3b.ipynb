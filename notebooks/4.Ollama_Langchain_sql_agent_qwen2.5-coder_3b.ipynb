{
 "cells": [
  {
   "cell_type": "markdown",
   "metadata": {},
   "source": [
    "### Database connection"
   ]
  },
  {
   "cell_type": "code",
   "execution_count": 1,
   "metadata": {},
   "outputs": [],
   "source": [
    "from langchain_community.utilities import SQLDatabase"
   ]
  },
  {
   "cell_type": "code",
   "execution_count": 2,
   "metadata": {},
   "outputs": [
    {
     "name": "stdout",
     "output_type": "stream",
     "text": [
      "dialect: sqlite\n",
      "tables: ['Orders', 'Stock']\n"
     ]
    }
   ],
   "source": [
    "db_path = '../data/inventory.db'\n",
    "db = SQLDatabase.from_uri(f\"sqlite:///{db_path}\")\n",
    "print(\"dialect:\", db.dialect)\n",
    "print(\"tables:\", db.get_usable_table_names())"
   ]
  },
  {
   "cell_type": "code",
   "execution_count": 3,
   "metadata": {},
   "outputs": [
    {
     "name": "stdout",
     "output_type": "stream",
     "text": [
      "[('1009AA', 7210.0, 'Kg', 30, 48, 28.76326)]\n"
     ]
    }
   ],
   "source": [
    "records = db.run(\"SELECT * FROM Stock LIMIT 1\")\n",
    "print(records)"
   ]
  },
  {
   "cell_type": "code",
   "execution_count": 4,
   "metadata": {},
   "outputs": [
    {
     "name": "stdout",
     "output_type": "stream",
     "text": [
      "\n",
      "CREATE TABLE \"Stock\" (\n",
      "\tid TEXT, \n",
      "\tcurrent_stock_quantity FLOAT, \n",
      "\tunits TEXT, \n",
      "\tavg_lead_time_days BIGINT, \n",
      "\tmaximum_lead_time_days BIGINT, \n",
      "\tunit_price FLOAT\n",
      ")\n",
      "\n",
      "/*\n",
      "3 rows from Stock table:\n",
      "id\tcurrent_stock_quantity\tunits\tavg_lead_time_days\tmaximum_lead_time_days\tunit_price\n",
      "1009AA\t7210.0\tKg\t30\t48\t28.76326\n",
      "1077CA\t46516.0\tKg\t45\t70\t22.9777\n",
      "1083AA\t48210.0\tKg\t45\t68\t29.02\n",
      "*/\n"
     ]
    }
   ],
   "source": [
    "info = db.get_table_info([\"Stock\"])\n",
    "print(info)"
   ]
  },
  {
   "cell_type": "code",
   "execution_count": 5,
   "metadata": {},
   "outputs": [
    {
     "name": "stdout",
     "output_type": "stream",
     "text": [
      "[('2022-11-19 00:00:00.000000', '3084CA', 1.0)]\n"
     ]
    }
   ],
   "source": [
    "records = db.run(\"SELECT * FROM Orders LIMIT 1\")\n",
    "print(records)"
   ]
  },
  {
   "cell_type": "code",
   "execution_count": 6,
   "metadata": {},
   "outputs": [
    {
     "name": "stdout",
     "output_type": "stream",
     "text": [
      "\n",
      "CREATE TABLE \"Orders\" (\n",
      "\tdate DATETIME, \n",
      "\tid TEXT, \n",
      "\tquantity FLOAT\n",
      ")\n",
      "\n",
      "/*\n",
      "3 rows from Orders table:\n",
      "date\tid\tquantity\n",
      "2022-11-19 00:00:00\t3084CA\t1.0\n",
      "2022-06-30 00:00:00\t2621AA\t20.0\n",
      "2023-04-19 00:00:00\t1193BA\t147.0\n",
      "*/\n"
     ]
    }
   ],
   "source": [
    "info = db.get_table_info([\"Orders\"])\n",
    "print(info)\n"
   ]
  },
  {
   "cell_type": "markdown",
   "metadata": {},
   "source": [
    "### LLM"
   ]
  },
  {
   "cell_type": "code",
   "execution_count": 7,
   "metadata": {},
   "outputs": [],
   "source": [
    "from langchain_ollama import ChatOllama\n",
    "\n",
    "\n",
    "llm = ChatOllama(model=\"qwen2.5-coder:3b\")"
   ]
  },
  {
   "cell_type": "markdown",
   "metadata": {},
   "source": [
    "### Tools"
   ]
  },
  {
   "cell_type": "code",
   "execution_count": 8,
   "metadata": {},
   "outputs": [
    {
     "data": {
      "text/plain": [
       "SQLDatabaseToolkit(db=<langchain_community.utilities.sql_database.SQLDatabase object at 0x00000255E08B0050>, llm=ChatOllama(model='qwen2.5-coder:3b'))"
      ]
     },
     "execution_count": 8,
     "metadata": {},
     "output_type": "execute_result"
    }
   ],
   "source": [
    "# tools\n",
    "from langchain.agents.agent_toolkits import SQLDatabaseToolkit\n",
    "\n",
    "toolkit = SQLDatabaseToolkit(db=db, llm=llm)\n",
    "toolkit"
   ]
  },
  {
   "cell_type": "markdown",
   "metadata": {},
   "source": [
    "### SQL agent"
   ]
  },
  {
   "cell_type": "code",
   "execution_count": 9,
   "metadata": {},
   "outputs": [],
   "source": [
    "from langchain_community.agent_toolkits import create_sql_agent\n",
    "\n",
    "agent_executor = create_sql_agent(llm, db=db,agent_type=\"openai-tools\",verbose=True)\n"
   ]
  },
  {
   "cell_type": "markdown",
   "metadata": {},
   "source": [
    "#### Example 1"
   ]
  },
  {
   "cell_type": "code",
   "execution_count": 10,
   "metadata": {},
   "outputs": [
    {
     "name": "stdout",
     "output_type": "stream",
     "text": [
      "\n",
      "\n",
      "\u001b[1m> Entering new SQL Agent Executor chain...\u001b[0m\n",
      "\u001b[32;1m\u001b[1;3m\n",
      "Invoking: `sql_db_list_tables` with `{}`\n",
      "\n",
      "\n",
      "\u001b[0m\u001b[38;5;200m\u001b[1;3mOrders, Stock\u001b[0m\u001b[32;1m\u001b[1;3m\n",
      "Invoking: `sql_db_query_checker` with `{'query': 'SELECT COUNT(*) FROM Orders'}`\n",
      "\n",
      "\n",
      "\u001b[0m\u001b[36;1m\u001b[1;3mThe provided SQLite query is already correct and does not contain any common errors mentioned:\n",
      "\n",
      "- Using NOT IN with NULL values\n",
      "- Using UNION when UNION ALL should have been used\n",
      "- Using BETWEEN for exclusive ranges\n",
      "- Data type mismatch in predicates\n",
      "- Properly quoting identifiers\n",
      "- Using the correct number of arguments for functions\n",
      "- Casting to the correct data type\n",
      "- Using the proper columns for joins\n",
      "\n",
      "Therefore, the final SQL query remains:\n",
      "\n",
      "```sql\n",
      "SELECT COUNT(*) FROM Orders\n",
      "```\u001b[0m\u001b[32;1m\u001b[1;3m\n",
      "Invoking: `sql_db_query` with `{'query': 'SELECT COUNT(*) FROM Orders'}`\n",
      "\n",
      "\n",
      "\u001b[0m\u001b[36;1m\u001b[1;3m[(33919,)]\u001b[0m\u001b[32;1m\u001b[1;3mBased on the query `SELECT COUNT(*) FROM Orders`, there are 33919 orders in the Orders table.\u001b[0m\n",
      "\n",
      "\u001b[1m> Finished chain.\u001b[0m\n",
      "response: {'input': 'How many orders are there in the Orders table?', 'output': 'Based on the query `SELECT COUNT(*) FROM Orders`, there are 33919 orders in the Orders table.'}\n"
     ]
    }
   ],
   "source": [
    "#expected_query = \"SELECT COUNT(*) FROM Orders\"\n",
    "#expected result = 33919\n",
    "query = \"How many orders are there in the Orders table?\"\n",
    "response = agent_executor.invoke(query)\n",
    "print(\"response:\", response)"
   ]
  },
  {
   "cell_type": "markdown",
   "metadata": {},
   "source": [
    "Resultado: Correcto.\n",
    "\n",
    "La latencia es de 9 minutos y 57s."
   ]
  },
  {
   "cell_type": "code",
   "execution_count": 11,
   "metadata": {},
   "outputs": [
    {
     "data": {
      "text/plain": [
       "'[(33919,)]'"
      ]
     },
     "execution_count": 11,
     "metadata": {},
     "output_type": "execute_result"
    }
   ],
   "source": [
    "db.run('SELECT COUNT(*) FROM Orders;')"
   ]
  },
  {
   "cell_type": "markdown",
   "metadata": {},
   "source": [
    "#### Example 2"
   ]
  },
  {
   "cell_type": "code",
   "execution_count": 15,
   "metadata": {},
   "outputs": [
    {
     "name": "stdout",
     "output_type": "stream",
     "text": [
      "\n",
      "\n",
      "\u001b[1m> Entering new SQL Agent Executor chain...\u001b[0m\n",
      "\u001b[32;1m\u001b[1;3m\n",
      "Invoking: `sql_db_schema` with `{'table_names': 'Orders'}`\n",
      "\n",
      "\n",
      "\u001b[0m\u001b[33;1m\u001b[1;3m\n",
      "CREATE TABLE \"Orders\" (\n",
      "\tdate DATETIME, \n",
      "\tid TEXT, \n",
      "\tquantity FLOAT\n",
      ")\n",
      "\n",
      "/*\n",
      "3 rows from Orders table:\n",
      "date\tid\tquantity\n",
      "2022-11-19 00:00:00\t3084CA\t1.0\n",
      "2022-06-30 00:00:00\t2621AA\t20.0\n",
      "2023-04-19 00:00:00\t1193BA\t147.0\n",
      "*/\u001b[0m\u001b[32;1m\u001b[1;3m\n",
      "Invoking: `sql_db_query_checker` with `{'query': 'SELECT * FROM Orders WHERE quantity = 475 LIMIT 10'}`\n",
      "\n",
      "\n",
      "\u001b[0m\u001b[36;1m\u001b[1;3mThe provided SQL query is syntactically correct and does not contain any common mistakes that could be addressed. Therefore, it can be reproduced as-is:\n",
      "\n",
      "```sql\n",
      "SELECT * FROM Orders WHERE quantity = 475 LIMIT 10;\n",
      "```\n",
      "\n",
      "There are no errors or potential improvements to suggest in this query.\u001b[0m\u001b[32;1m\u001b[1;3m\n",
      "Invoking: `sql_db_query` with `{'query': 'SELECT * FROM Orders WHERE quantity = 475 LIMIT 10'}`\n",
      "\n",
      "\n",
      "\u001b[0m\u001b[36;1m\u001b[1;3m[('2023-04-16 00:00:00.000000', '2785BA', 475.0), ('2022-05-23 00:00:00.000000', '1993AA', 475.0), ('2022-05-23 00:00:00.000000', '2727CA', 475.0), ('2022-04-03 00:00:00.000000', '2814BA', 475.0), ('2022-09-23 00:00:00.000000', '2847BA', 475.0), ('2022-08-20 00:00:00.000000', '2291AA', 475.0), ('2022-03-28 00:00:00.000000', '2803BA', 475.0)]\u001b[0m\u001b[32;1m\u001b[1;3mThe query returned 7 rows where the quantity is equal to 475. Here are the results:\n",
      "\n",
      "1. `date`: `2023-04-16 00:00:00`, `id`: `2785BA`, `quantity`: `475.0`\n",
      "2. `date`: `2022-05-23 00:00:00`, `id`: `1993AA`, `quantity`: `475.0`\n",
      "3. `date`: `2022-05-23 00:00:00`, `id`: `2727CA`, `quantity`: `475.0`\n",
      "4. `date`: `2022-04-03 00:00:00`, `id`: `2814BA`, `quantity`: `475.0`\n",
      "5. `date`: `2022-09-23 00:00:00`, `id`: `2847BA`, `quantity`: `475.0`\n",
      "6. `date`: `2022-08-20 00:00:00`, `id`: `2291AA`, `quantity`: `475.0`\n",
      "7. `date`: `2022-03-28 00:00:00`, `id`: `2803BA`, `quantity`: `475.0`\n",
      "\n",
      "All of these orders have a quantity of 475.\u001b[0m\n",
      "\n",
      "\u001b[1m> Finished chain.\u001b[0m\n",
      "response: {'input': 'Select all the columns in the Orders table that have a quantity equal 475 ', 'output': 'The query returned 7 rows where the quantity is equal to 475. Here are the results:\\n\\n1. `date`: `2023-04-16 00:00:00`, `id`: `2785BA`, `quantity`: `475.0`\\n2. `date`: `2022-05-23 00:00:00`, `id`: `1993AA`, `quantity`: `475.0`\\n3. `date`: `2022-05-23 00:00:00`, `id`: `2727CA`, `quantity`: `475.0`\\n4. `date`: `2022-04-03 00:00:00`, `id`: `2814BA`, `quantity`: `475.0`\\n5. `date`: `2022-09-23 00:00:00`, `id`: `2847BA`, `quantity`: `475.0`\\n6. `date`: `2022-08-20 00:00:00`, `id`: `2291AA`, `quantity`: `475.0`\\n7. `date`: `2022-03-28 00:00:00`, `id`: `2803BA`, `quantity`: `475.0`\\n\\nAll of these orders have a quantity of 475.'}\n"
     ]
    }
   ],
   "source": [
    "expected_query= \"SELECT * FROM Orders WHERE quantity = 475\"\n",
    "# Example 2\n",
    "query2 = \"Select all the columns in the Orders table that have a quantity equal 475 \"\n",
    "response2 = agent_executor.invoke(query2)\n",
    "print(\"response:\", response2)"
   ]
  },
  {
   "cell_type": "code",
   "execution_count": 16,
   "metadata": {},
   "outputs": [
    {
     "data": {
      "text/plain": [
       "\"[('2023-04-16 00:00:00.000000', '2785BA', 475.0), ('2022-05-23 00:00:00.000000', '1993AA', 475.0), ('2022-05-23 00:00:00.000000', '2727CA', 475.0), ('2022-04-03 00:00:00.000000', '2814BA', 475.0), ('2022-09-23 00:00:00.000000', '2847BA', 475.0), ('2022-08-20 00:00:00.000000', '2291AA', 475.0), ('2022-03-28 00:00:00.000000', '2803BA', 475.0)]\""
      ]
     },
     "execution_count": 16,
     "metadata": {},
     "output_type": "execute_result"
    }
   ],
   "source": [
    "db.run(\"SELECT * FROM Orders WHERE quantity = 475 LIMIT 10\")"
   ]
  }
 ],
 "metadata": {
  "kernelspec": {
   "display_name": ".venv",
   "language": "python",
   "name": "python3"
  },
  "language_info": {
   "codemirror_mode": {
    "name": "ipython",
    "version": 3
   },
   "file_extension": ".py",
   "mimetype": "text/x-python",
   "name": "python",
   "nbconvert_exporter": "python",
   "pygments_lexer": "ipython3",
   "version": "3.13.1"
  }
 },
 "nbformat": 4,
 "nbformat_minor": 2
}
